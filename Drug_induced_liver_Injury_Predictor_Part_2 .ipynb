{
  "cells": [
    {
      "cell_type": "markdown",
      "metadata": {
        "id": "1563c1eb"
      },
      "source": [
        "### **Predicting Drug-induced Liver Injury Part 2 - ML Models**\n",
        "\n",
        "**Dataset** : Toxicological Sciences, Volume 136, Issue 1, November 2013, Pages 242–249, https://doi.org/10.1093/toxsci/kft189"
      ],
      "id": "1563c1eb"
    },
    {
      "cell_type": "code",
      "execution_count": 1,
      "metadata": {
        "colab": {
          "base_uri": "https://localhost:8080/"
        },
        "id": "t9-oZe2bkEPX",
        "outputId": "decf0bd3-f084-4df2-f482-a4a1642b85b5"
      },
      "outputs": [
        {
          "output_type": "stream",
          "name": "stdout",
          "text": [
            "Looking in indexes: https://pypi.org/simple, https://us-python.pkg.dev/colab-wheels/public/simple/\n",
            "Requirement already satisfied: rdkit-pypi in /usr/local/lib/python3.9/dist-packages (2022.9.5)\n",
            "Requirement already satisfied: numpy in /usr/local/lib/python3.9/dist-packages (from rdkit-pypi) (1.22.4)\n",
            "Requirement already satisfied: Pillow in /usr/local/lib/python3.9/dist-packages (from rdkit-pypi) (8.4.0)\n"
          ]
        }
      ],
      "source": [
        "!pip install rdkit-pypi "
      ],
      "id": "t9-oZe2bkEPX"
    },
    {
      "cell_type": "code",
      "execution_count": 2,
      "metadata": {
        "colab": {
          "base_uri": "https://localhost:8080/"
        },
        "id": "k0Mzz8svF6_M",
        "outputId": "f881c71b-e3f0-4ce3-9992-d6136a0bb3e9"
      },
      "outputs": [
        {
          "output_type": "stream",
          "name": "stdout",
          "text": [
            "Looking in indexes: https://pypi.org/simple, https://us-python.pkg.dev/colab-wheels/public/simple/\n",
            "Requirement already satisfied: padelpy in /usr/local/lib/python3.9/dist-packages (0.1.13)\n"
          ]
        }
      ],
      "source": [
        "!pip install padelpy"
      ],
      "id": "k0Mzz8svF6_M"
    },
    {
      "cell_type": "code",
      "execution_count": 3,
      "metadata": {
        "colab": {
          "base_uri": "https://localhost:8080/"
        },
        "id": "pOWzu2URGEGN",
        "outputId": "a86ea77d-e9fc-4c2a-9a7e-d0e7e0a04902"
      },
      "outputs": [
        {
          "output_type": "stream",
          "name": "stdout",
          "text": [
            "Looking in indexes: https://pypi.org/simple, https://us-python.pkg.dev/colab-wheels/public/simple/\n",
            "Collecting pycm\n",
            "  Using cached pycm-3.8-py2.py3-none-any.whl (66 kB)\n",
            "Requirement already satisfied: numpy>=1.9.0 in /usr/local/lib/python3.9/dist-packages (from pycm) (1.22.4)\n",
            "Collecting art>=1.8\n",
            "  Using cached art-5.9-py2.py3-none-any.whl (597 kB)\n",
            "Installing collected packages: art, pycm\n",
            "Successfully installed art-5.9 pycm-3.8\n"
          ]
        }
      ],
      "source": [
        "!pip install pycm"
      ],
      "id": "pOWzu2URGEGN"
    },
    {
      "cell_type": "code",
      "source": [
        "!pip install -q \"tqdm>=4.36.1\""
      ],
      "metadata": {
        "id": "-1_dYMEEOqzi"
      },
      "id": "-1_dYMEEOqzi",
      "execution_count": 4,
      "outputs": []
    },
    {
      "cell_type": "markdown",
      "metadata": {
        "id": "3b91d969"
      },
      "source": [
        "### **Import Libraries**"
      ],
      "id": "3b91d969"
    },
    {
      "cell_type": "code",
      "execution_count": 5,
      "metadata": {
        "id": "e18d1f6e"
      },
      "outputs": [],
      "source": [
        "import os\n",
        "\n",
        "# Base Libraries\n",
        "import pandas as pd\n",
        "import numpy as np\n",
        "import tqdm\n",
        "\n",
        "\n",
        "# rdkit\n",
        "from rdkit import Chem\n",
        "from rdkit.Chem import AllChem\n",
        "from rdkit.Chem import Draw\n",
        "from rdkit.Chem.Draw import IPythonConsole\n",
        "from rdkit import rdBase\n",
        "\n",
        "from rdkit.Chem import Descriptors as des\n",
        "from rdkit.Chem.Descriptors import qed\n",
        "from rdkit.ML.Descriptors import MoleculeDescriptors\n",
        "from padelpy import padeldescriptor\n",
        "\n",
        "# sklearn Data Transformation\n",
        "from sklearn.preprocessing import StandardScaler\n",
        "from sklearn.preprocessing import MinMaxScaler\n",
        "from sklearn.preprocessing import power_transform\n",
        "\n",
        "# sklearn Models\n",
        "from sklearn.model_selection import train_test_split, ShuffleSplit, KFold, cross_val_score, GridSearchCV \n",
        "from sklearn.ensemble import RandomForestClassifier, VotingClassifier\n",
        "from sklearn.neighbors import KNeighborsClassifier\n",
        "from sklearn.svm import SVC\n",
        "from sklearn.naive_bayes import GaussianNB\n",
        "\n",
        "# Metrics\n",
        "from pycm import*\n",
        "from sklearn import metrics"
      ],
      "id": "e18d1f6e"
    },
    {
      "cell_type": "markdown",
      "metadata": {
        "id": "c4c09a7e"
      },
      "source": [
        "### **Read Data**"
      ],
      "id": "c4c09a7e"
    },
    {
      "cell_type": "code",
      "execution_count": 6,
      "metadata": {
        "id": "CL0bX-v6GNg8",
        "colab": {
          "base_uri": "https://localhost:8080/"
        },
        "outputId": "e4728a9e-281e-49f1-97c4-bb2e309bc5a0"
      },
      "outputs": [
        {
          "output_type": "stream",
          "name": "stdout",
          "text": [
            "Mounted at /content/drive\n"
          ]
        }
      ],
      "source": [
        "from google.colab import drive\n",
        "drive.mount('/content/drive')"
      ],
      "id": "CL0bX-v6GNg8"
    },
    {
      "cell_type": "code",
      "execution_count": 7,
      "metadata": {
        "id": "6vyf7DP9GOew"
      },
      "outputs": [],
      "source": [
        "os.chdir('/content/drive/My Drive/')"
      ],
      "id": "6vyf7DP9GOew"
    },
    {
      "cell_type": "code",
      "execution_count": 8,
      "metadata": {
        "colab": {
          "base_uri": "https://localhost:8080/",
          "height": 143
        },
        "id": "f01257de",
        "outputId": "6ff71a3d-4903-4b4d-8bfa-e671ba0d8e6d"
      },
      "outputs": [
        {
          "output_type": "execute_result",
          "data": {
            "text/plain": [
              "                                           isosmiles  \\\n",
              "0  CCCCCOC(=O)NC1=NC(=O)N(C=C1F)[C@H]2[C@@H]([C@@...   \n",
              "1  C1CN(CCC1C(=O)N)CCCN2C3=CC=CC=C3SC4=C2C=C(C=C4)Cl   \n",
              "2           CC1=CC(=C(C=C1)NC2=C(C=CC=C2Cl)F)CC(=O)O   \n",
              "\n",
              "                                          STD_SMILES  \\\n",
              "0  CCCCCOC(=O)Nc1nc(=O)n([C@@H]2O[C@H](C)[C@@H](O...   \n",
              "1        NC(=O)C1CCN(CCCN2c3ccccc3Sc3ccc(Cl)cc32)CC1   \n",
              "2                 Cc1ccc(Nc2c(F)cccc2Cl)c(CC(=O)O)c1   \n",
              "\n",
              "                          Murcko_smi    New_ID  label  ClusterNumber  \\\n",
              "0              O=c1ncccn1[C@H]1CCCO1   60953_1      1             11   \n",
              "1  c1ccc2c(c1)Sc1ccccc1N2CCCN1CCCCC1    6761_1      1             42   \n",
              "2                c1ccc(Nc2ccccc2)cc1  151166_1      1              2   \n",
              "\n",
              "   CompoundName Drug label-based annotation  \n",
              "0  capecitabine           Most DILI-concern  \n",
              "1    pipamazine           Most DILI-concern  \n",
              "2   lumiracoxib           Most DILI-concern  "
            ],
            "text/html": [
              "\n",
              "  <div id=\"df-c3f88476-bc33-412a-abf2-d879545d1b26\">\n",
              "    <div class=\"colab-df-container\">\n",
              "      <div>\n",
              "<style scoped>\n",
              "    .dataframe tbody tr th:only-of-type {\n",
              "        vertical-align: middle;\n",
              "    }\n",
              "\n",
              "    .dataframe tbody tr th {\n",
              "        vertical-align: top;\n",
              "    }\n",
              "\n",
              "    .dataframe thead th {\n",
              "        text-align: right;\n",
              "    }\n",
              "</style>\n",
              "<table border=\"1\" class=\"dataframe\">\n",
              "  <thead>\n",
              "    <tr style=\"text-align: right;\">\n",
              "      <th></th>\n",
              "      <th>isosmiles</th>\n",
              "      <th>STD_SMILES</th>\n",
              "      <th>Murcko_smi</th>\n",
              "      <th>New_ID</th>\n",
              "      <th>label</th>\n",
              "      <th>ClusterNumber</th>\n",
              "      <th>CompoundName</th>\n",
              "      <th>Drug label-based annotation</th>\n",
              "    </tr>\n",
              "  </thead>\n",
              "  <tbody>\n",
              "    <tr>\n",
              "      <th>0</th>\n",
              "      <td>CCCCCOC(=O)NC1=NC(=O)N(C=C1F)[C@H]2[C@@H]([C@@...</td>\n",
              "      <td>CCCCCOC(=O)Nc1nc(=O)n([C@@H]2O[C@H](C)[C@@H](O...</td>\n",
              "      <td>O=c1ncccn1[C@H]1CCCO1</td>\n",
              "      <td>60953_1</td>\n",
              "      <td>1</td>\n",
              "      <td>11</td>\n",
              "      <td>capecitabine</td>\n",
              "      <td>Most DILI-concern</td>\n",
              "    </tr>\n",
              "    <tr>\n",
              "      <th>1</th>\n",
              "      <td>C1CN(CCC1C(=O)N)CCCN2C3=CC=CC=C3SC4=C2C=C(C=C4)Cl</td>\n",
              "      <td>NC(=O)C1CCN(CCCN2c3ccccc3Sc3ccc(Cl)cc32)CC1</td>\n",
              "      <td>c1ccc2c(c1)Sc1ccccc1N2CCCN1CCCCC1</td>\n",
              "      <td>6761_1</td>\n",
              "      <td>1</td>\n",
              "      <td>42</td>\n",
              "      <td>pipamazine</td>\n",
              "      <td>Most DILI-concern</td>\n",
              "    </tr>\n",
              "    <tr>\n",
              "      <th>2</th>\n",
              "      <td>CC1=CC(=C(C=C1)NC2=C(C=CC=C2Cl)F)CC(=O)O</td>\n",
              "      <td>Cc1ccc(Nc2c(F)cccc2Cl)c(CC(=O)O)c1</td>\n",
              "      <td>c1ccc(Nc2ccccc2)cc1</td>\n",
              "      <td>151166_1</td>\n",
              "      <td>1</td>\n",
              "      <td>2</td>\n",
              "      <td>lumiracoxib</td>\n",
              "      <td>Most DILI-concern</td>\n",
              "    </tr>\n",
              "  </tbody>\n",
              "</table>\n",
              "</div>\n",
              "      <button class=\"colab-df-convert\" onclick=\"convertToInteractive('df-c3f88476-bc33-412a-abf2-d879545d1b26')\"\n",
              "              title=\"Convert this dataframe to an interactive table.\"\n",
              "              style=\"display:none;\">\n",
              "        \n",
              "  <svg xmlns=\"http://www.w3.org/2000/svg\" height=\"24px\"viewBox=\"0 0 24 24\"\n",
              "       width=\"24px\">\n",
              "    <path d=\"M0 0h24v24H0V0z\" fill=\"none\"/>\n",
              "    <path d=\"M18.56 5.44l.94 2.06.94-2.06 2.06-.94-2.06-.94-.94-2.06-.94 2.06-2.06.94zm-11 1L8.5 8.5l.94-2.06 2.06-.94-2.06-.94L8.5 2.5l-.94 2.06-2.06.94zm10 10l.94 2.06.94-2.06 2.06-.94-2.06-.94-.94-2.06-.94 2.06-2.06.94z\"/><path d=\"M17.41 7.96l-1.37-1.37c-.4-.4-.92-.59-1.43-.59-.52 0-1.04.2-1.43.59L10.3 9.45l-7.72 7.72c-.78.78-.78 2.05 0 2.83L4 21.41c.39.39.9.59 1.41.59.51 0 1.02-.2 1.41-.59l7.78-7.78 2.81-2.81c.8-.78.8-2.07 0-2.86zM5.41 20L4 18.59l7.72-7.72 1.47 1.35L5.41 20z\"/>\n",
              "  </svg>\n",
              "      </button>\n",
              "      \n",
              "  <style>\n",
              "    .colab-df-container {\n",
              "      display:flex;\n",
              "      flex-wrap:wrap;\n",
              "      gap: 12px;\n",
              "    }\n",
              "\n",
              "    .colab-df-convert {\n",
              "      background-color: #E8F0FE;\n",
              "      border: none;\n",
              "      border-radius: 50%;\n",
              "      cursor: pointer;\n",
              "      display: none;\n",
              "      fill: #1967D2;\n",
              "      height: 32px;\n",
              "      padding: 0 0 0 0;\n",
              "      width: 32px;\n",
              "    }\n",
              "\n",
              "    .colab-df-convert:hover {\n",
              "      background-color: #E2EBFA;\n",
              "      box-shadow: 0px 1px 2px rgba(60, 64, 67, 0.3), 0px 1px 3px 1px rgba(60, 64, 67, 0.15);\n",
              "      fill: #174EA6;\n",
              "    }\n",
              "\n",
              "    [theme=dark] .colab-df-convert {\n",
              "      background-color: #3B4455;\n",
              "      fill: #D2E3FC;\n",
              "    }\n",
              "\n",
              "    [theme=dark] .colab-df-convert:hover {\n",
              "      background-color: #434B5C;\n",
              "      box-shadow: 0px 1px 3px 1px rgba(0, 0, 0, 0.15);\n",
              "      filter: drop-shadow(0px 1px 2px rgba(0, 0, 0, 0.3));\n",
              "      fill: #FFFFFF;\n",
              "    }\n",
              "  </style>\n",
              "\n",
              "      <script>\n",
              "        const buttonEl =\n",
              "          document.querySelector('#df-c3f88476-bc33-412a-abf2-d879545d1b26 button.colab-df-convert');\n",
              "        buttonEl.style.display =\n",
              "          google.colab.kernel.accessAllowed ? 'block' : 'none';\n",
              "\n",
              "        async function convertToInteractive(key) {\n",
              "          const element = document.querySelector('#df-c3f88476-bc33-412a-abf2-d879545d1b26');\n",
              "          const dataTable =\n",
              "            await google.colab.kernel.invokeFunction('convertToInteractive',\n",
              "                                                     [key], {});\n",
              "          if (!dataTable) return;\n",
              "\n",
              "          const docLinkHtml = 'Like what you see? Visit the ' +\n",
              "            '<a target=\"_blank\" href=https://colab.research.google.com/notebooks/data_table.ipynb>data table notebook</a>'\n",
              "            + ' to learn more about interactive tables.';\n",
              "          element.innerHTML = '';\n",
              "          dataTable['output_type'] = 'display_data';\n",
              "          await google.colab.output.renderOutput(dataTable, element);\n",
              "          const docLink = document.createElement('div');\n",
              "          docLink.innerHTML = docLinkHtml;\n",
              "          element.appendChild(docLink);\n",
              "        }\n",
              "      </script>\n",
              "    </div>\n",
              "  </div>\n",
              "  "
            ]
          },
          "metadata": {},
          "execution_count": 8
        }
      ],
      "source": [
        "train_=pd.read_csv('train.csv', sep='\\t')\n",
        "train_.head(3)"
      ],
      "id": "f01257de"
    },
    {
      "cell_type": "code",
      "execution_count": 9,
      "metadata": {
        "colab": {
          "base_uri": "https://localhost:8080/",
          "height": 143
        },
        "id": "be03fb00",
        "outputId": "258d9ff1-f0fd-4695-bf1a-d30f76c1e6f3"
      },
      "outputs": [
        {
          "output_type": "execute_result",
          "data": {
            "text/plain": [
              "                                           isosmiles  \\\n",
              "0    COC1=C(C=C(C=C1)CC2=NC=CC3=CC(=C(C=C32)OC)OC)OC   \n",
              "1  CO/N=C(\\N)/C1=CC=C(C=C1)C2=CC=C(O2)C3=CC=C(C=C...   \n",
              "2                      C=CCOC1=C(C=C(C=C1)CC(=O)O)Cl   \n",
              "\n",
              "                                          STD_SMILES  \\\n",
              "0              COc1ccc(Cc2nccc3cc(OC)c(OC)cc23)cc1OC   \n",
              "1  CO/N=C(\\N)c1ccc(-c2ccc(-c3ccc(/C(N)=N/OC)cc3)o...   \n",
              "2                           C=CCOc1ccc(CC(=O)O)cc1Cl   \n",
              "\n",
              "                      Murcko_smi     New_ID  label  ClusterNumber  \\\n",
              "0      c1ccc(Cc2nccc3ccccc23)cc1     4680_1      1              2   \n",
              "1  c1ccc(-c2ccc(-c3ccccc3)o2)cc1  5480200_1      1             49   \n",
              "2                       c1ccccc1    30951_1      1              1   \n",
              "\n",
              "   CompoundName Drug label-based annotation  \n",
              "0    papaverine           Most DILI-concern  \n",
              "1  pafuramidine           Most DILI-concern  \n",
              "2    alclofenac           Most DILI-concern  "
            ],
            "text/html": [
              "\n",
              "  <div id=\"df-ed991cdb-9f13-482f-8336-52477691c874\">\n",
              "    <div class=\"colab-df-container\">\n",
              "      <div>\n",
              "<style scoped>\n",
              "    .dataframe tbody tr th:only-of-type {\n",
              "        vertical-align: middle;\n",
              "    }\n",
              "\n",
              "    .dataframe tbody tr th {\n",
              "        vertical-align: top;\n",
              "    }\n",
              "\n",
              "    .dataframe thead th {\n",
              "        text-align: right;\n",
              "    }\n",
              "</style>\n",
              "<table border=\"1\" class=\"dataframe\">\n",
              "  <thead>\n",
              "    <tr style=\"text-align: right;\">\n",
              "      <th></th>\n",
              "      <th>isosmiles</th>\n",
              "      <th>STD_SMILES</th>\n",
              "      <th>Murcko_smi</th>\n",
              "      <th>New_ID</th>\n",
              "      <th>label</th>\n",
              "      <th>ClusterNumber</th>\n",
              "      <th>CompoundName</th>\n",
              "      <th>Drug label-based annotation</th>\n",
              "    </tr>\n",
              "  </thead>\n",
              "  <tbody>\n",
              "    <tr>\n",
              "      <th>0</th>\n",
              "      <td>COC1=C(C=C(C=C1)CC2=NC=CC3=CC(=C(C=C32)OC)OC)OC</td>\n",
              "      <td>COc1ccc(Cc2nccc3cc(OC)c(OC)cc23)cc1OC</td>\n",
              "      <td>c1ccc(Cc2nccc3ccccc23)cc1</td>\n",
              "      <td>4680_1</td>\n",
              "      <td>1</td>\n",
              "      <td>2</td>\n",
              "      <td>papaverine</td>\n",
              "      <td>Most DILI-concern</td>\n",
              "    </tr>\n",
              "    <tr>\n",
              "      <th>1</th>\n",
              "      <td>CO/N=C(\\N)/C1=CC=C(C=C1)C2=CC=C(O2)C3=CC=C(C=C...</td>\n",
              "      <td>CO/N=C(\\N)c1ccc(-c2ccc(-c3ccc(/C(N)=N/OC)cc3)o...</td>\n",
              "      <td>c1ccc(-c2ccc(-c3ccccc3)o2)cc1</td>\n",
              "      <td>5480200_1</td>\n",
              "      <td>1</td>\n",
              "      <td>49</td>\n",
              "      <td>pafuramidine</td>\n",
              "      <td>Most DILI-concern</td>\n",
              "    </tr>\n",
              "    <tr>\n",
              "      <th>2</th>\n",
              "      <td>C=CCOC1=C(C=C(C=C1)CC(=O)O)Cl</td>\n",
              "      <td>C=CCOc1ccc(CC(=O)O)cc1Cl</td>\n",
              "      <td>c1ccccc1</td>\n",
              "      <td>30951_1</td>\n",
              "      <td>1</td>\n",
              "      <td>1</td>\n",
              "      <td>alclofenac</td>\n",
              "      <td>Most DILI-concern</td>\n",
              "    </tr>\n",
              "  </tbody>\n",
              "</table>\n",
              "</div>\n",
              "      <button class=\"colab-df-convert\" onclick=\"convertToInteractive('df-ed991cdb-9f13-482f-8336-52477691c874')\"\n",
              "              title=\"Convert this dataframe to an interactive table.\"\n",
              "              style=\"display:none;\">\n",
              "        \n",
              "  <svg xmlns=\"http://www.w3.org/2000/svg\" height=\"24px\"viewBox=\"0 0 24 24\"\n",
              "       width=\"24px\">\n",
              "    <path d=\"M0 0h24v24H0V0z\" fill=\"none\"/>\n",
              "    <path d=\"M18.56 5.44l.94 2.06.94-2.06 2.06-.94-2.06-.94-.94-2.06-.94 2.06-2.06.94zm-11 1L8.5 8.5l.94-2.06 2.06-.94-2.06-.94L8.5 2.5l-.94 2.06-2.06.94zm10 10l.94 2.06.94-2.06 2.06-.94-2.06-.94-.94-2.06-.94 2.06-2.06.94z\"/><path d=\"M17.41 7.96l-1.37-1.37c-.4-.4-.92-.59-1.43-.59-.52 0-1.04.2-1.43.59L10.3 9.45l-7.72 7.72c-.78.78-.78 2.05 0 2.83L4 21.41c.39.39.9.59 1.41.59.51 0 1.02-.2 1.41-.59l7.78-7.78 2.81-2.81c.8-.78.8-2.07 0-2.86zM5.41 20L4 18.59l7.72-7.72 1.47 1.35L5.41 20z\"/>\n",
              "  </svg>\n",
              "      </button>\n",
              "      \n",
              "  <style>\n",
              "    .colab-df-container {\n",
              "      display:flex;\n",
              "      flex-wrap:wrap;\n",
              "      gap: 12px;\n",
              "    }\n",
              "\n",
              "    .colab-df-convert {\n",
              "      background-color: #E8F0FE;\n",
              "      border: none;\n",
              "      border-radius: 50%;\n",
              "      cursor: pointer;\n",
              "      display: none;\n",
              "      fill: #1967D2;\n",
              "      height: 32px;\n",
              "      padding: 0 0 0 0;\n",
              "      width: 32px;\n",
              "    }\n",
              "\n",
              "    .colab-df-convert:hover {\n",
              "      background-color: #E2EBFA;\n",
              "      box-shadow: 0px 1px 2px rgba(60, 64, 67, 0.3), 0px 1px 3px 1px rgba(60, 64, 67, 0.15);\n",
              "      fill: #174EA6;\n",
              "    }\n",
              "\n",
              "    [theme=dark] .colab-df-convert {\n",
              "      background-color: #3B4455;\n",
              "      fill: #D2E3FC;\n",
              "    }\n",
              "\n",
              "    [theme=dark] .colab-df-convert:hover {\n",
              "      background-color: #434B5C;\n",
              "      box-shadow: 0px 1px 3px 1px rgba(0, 0, 0, 0.15);\n",
              "      filter: drop-shadow(0px 1px 2px rgba(0, 0, 0, 0.3));\n",
              "      fill: #FFFFFF;\n",
              "    }\n",
              "  </style>\n",
              "\n",
              "      <script>\n",
              "        const buttonEl =\n",
              "          document.querySelector('#df-ed991cdb-9f13-482f-8336-52477691c874 button.colab-df-convert');\n",
              "        buttonEl.style.display =\n",
              "          google.colab.kernel.accessAllowed ? 'block' : 'none';\n",
              "\n",
              "        async function convertToInteractive(key) {\n",
              "          const element = document.querySelector('#df-ed991cdb-9f13-482f-8336-52477691c874');\n",
              "          const dataTable =\n",
              "            await google.colab.kernel.invokeFunction('convertToInteractive',\n",
              "                                                     [key], {});\n",
              "          if (!dataTable) return;\n",
              "\n",
              "          const docLinkHtml = 'Like what you see? Visit the ' +\n",
              "            '<a target=\"_blank\" href=https://colab.research.google.com/notebooks/data_table.ipynb>data table notebook</a>'\n",
              "            + ' to learn more about interactive tables.';\n",
              "          element.innerHTML = '';\n",
              "          dataTable['output_type'] = 'display_data';\n",
              "          await google.colab.output.renderOutput(dataTable, element);\n",
              "          const docLink = document.createElement('div');\n",
              "          docLink.innerHTML = docLinkHtml;\n",
              "          element.appendChild(docLink);\n",
              "        }\n",
              "      </script>\n",
              "    </div>\n",
              "  </div>\n",
              "  "
            ]
          },
          "metadata": {},
          "execution_count": 9
        }
      ],
      "source": [
        "test_=pd.read_csv('test.csv', sep='\\t')\n",
        "test_.head(3)"
      ],
      "id": "be03fb00"
    },
    {
      "cell_type": "code",
      "execution_count": 10,
      "metadata": {
        "colab": {
          "base_uri": "https://localhost:8080/"
        },
        "id": "9aad57bd",
        "outputId": "cadcb5e8-9de8-4bca-86e3-7c5fb228c240"
      },
      "outputs": [
        {
          "output_type": "stream",
          "name": "stdout",
          "text": [
            "(244, 2)\n",
            "(27, 2)\n"
          ]
        }
      ],
      "source": [
        "train=train_[['STD_SMILES', 'label']]\n",
        "print(train.shape)\n",
        "test=test_[['STD_SMILES', 'label']]\n",
        "print(test.shape)"
      ],
      "id": "9aad57bd"
    },
    {
      "cell_type": "markdown",
      "metadata": {
        "id": "a7a40e3c"
      },
      "source": [
        "### **Explore two methods for DILI prediction**\n",
        "\n",
        "### **1. Morgan Fingerprints**\n",
        "### **2.** **Physiochemical Properties**\n",
        "    \n",
        "    "
      ],
      "id": "a7a40e3c"
    },
    {
      "cell_type": "markdown",
      "metadata": {
        "id": "7a0712da"
      },
      "source": [
        "### **Method 1: Morgan FingerPrints**"
      ],
      "id": "7a0712da"
    },
    {
      "cell_type": "code",
      "execution_count": 11,
      "metadata": {
        "id": "14204e5e"
      },
      "outputs": [],
      "source": [
        "train_mols=[Chem.MolFromSmiles (smi) for smi in train['STD_SMILES'] if smi is not None]\n",
        "test_mols=[Chem.MolFromSmiles (smi) for smi in test['STD_SMILES'] if smi is not None]"
      ],
      "id": "14204e5e"
    },
    {
      "cell_type": "code",
      "execution_count": 12,
      "metadata": {
        "id": "83985266"
      },
      "outputs": [],
      "source": [
        "train_fp=[AllChem.GetMorganFingerprintAsBitVect(mol,2,nBits=1024) for mol in train_mols]\n",
        "test_fp=[AllChem.GetMorganFingerprintAsBitVect(mol,2,nBits=1024) for mol in test_mols]"
      ],
      "id": "83985266"
    },
    {
      "cell_type": "code",
      "execution_count": 13,
      "metadata": {
        "id": "204f67c1"
      },
      "outputs": [],
      "source": [
        "X_train=np.asarray(train_fp, dtype=np.int32)\n",
        "X_test=np.asarray(test_fp, dtype=np.int32)"
      ],
      "id": "204f67c1"
    },
    {
      "cell_type": "code",
      "execution_count": 14,
      "metadata": {
        "id": "cf9c13fe"
      },
      "outputs": [],
      "source": [
        "y_train=train[['label']]\n",
        "y_test=test[['label']]"
      ],
      "id": "cf9c13fe"
    },
    {
      "cell_type": "markdown",
      "metadata": {
        "id": "164ce901"
      },
      "source": [
        "### ***Build Classifier Models***"
      ],
      "id": "164ce901"
    },
    {
      "cell_type": "markdown",
      "metadata": {
        "id": "4f10d2b3"
      },
      "source": [
        "### ***1. RandomForest Classifier***"
      ],
      "id": "4f10d2b3"
    },
    {
      "cell_type": "code",
      "execution_count": 15,
      "metadata": {
        "id": "32a71147"
      },
      "outputs": [],
      "source": [
        "rf=RandomForestClassifier(random_state=42)"
      ],
      "id": "32a71147"
    },
    {
      "cell_type": "markdown",
      "metadata": {
        "id": "7000b7ad"
      },
      "source": [
        "#### KFold CV"
      ],
      "id": "7000b7ad"
    },
    {
      "cell_type": "code",
      "execution_count": 16,
      "metadata": {
        "colab": {
          "base_uri": "https://localhost:8080/"
        },
        "id": "cfea2c2c",
        "outputId": "9458bf38-f26d-4668-de89-21a0c8e1e75e"
      },
      "outputs": [
        {
          "output_type": "stream",
          "name": "stdout",
          "text": [
            "[0.63265306 0.69387755 0.75510204 0.6122449  0.58333333]\n",
            "RF Cross Validation Accuracy: 0.655\n"
          ]
        }
      ],
      "source": [
        "kfold = KFold(n_splits=5, random_state=42, shuffle=True)\n",
        "rf_cv = cross_val_score(rf, X_train, y_train.values.ravel(), cv=kfold, scoring='accuracy')\n",
        "print(rf_cv)\n",
        "print('RF Cross Validation Accuracy:', round(rf_cv.mean(),3))"
      ],
      "id": "cfea2c2c"
    },
    {
      "cell_type": "markdown",
      "metadata": {
        "id": "1fa0053c"
      },
      "source": [
        "#### GridSearch CV"
      ],
      "id": "1fa0053c"
    },
    {
      "cell_type": "code",
      "execution_count": 17,
      "metadata": {
        "id": "a9bae6a1"
      },
      "outputs": [],
      "source": [
        "rf_param_grid={'n_estimators': [500,700,900,1000],\n",
        "             'criterion':['entropy', 'gini'],\n",
        "             'max_features':['sqrt','log2'],\n",
        "             'max_depth':[50,60,70,80],\n",
        "             'min_samples_split':[10,20,30],\n",
        "             'min_samples_leaf':[1,5,7],\n",
        "             'bootstrap':[False]}"
      ],
      "id": "a9bae6a1"
    },
    {
      "cell_type": "code",
      "execution_count": 18,
      "metadata": {
        "id": "a702c362"
      },
      "outputs": [],
      "source": [
        "rf_gridCV=GridSearchCV(estimator=rf, param_grid=rf_param_grid, scoring='accuracy', cv=5, n_jobs=-1, verbose=2)"
      ],
      "id": "a702c362"
    },
    {
      "cell_type": "code",
      "execution_count": 19,
      "metadata": {
        "colab": {
          "base_uri": "https://localhost:8080/",
          "height": 193
        },
        "id": "fcd6014b",
        "outputId": "c770ff7a-6100-4821-ccac-a4dba78b3ca9"
      },
      "outputs": [
        {
          "output_type": "stream",
          "name": "stdout",
          "text": [
            "Fitting 5 folds for each of 576 candidates, totalling 2880 fits\n"
          ]
        },
        {
          "output_type": "stream",
          "name": "stderr",
          "text": [
            "/usr/local/lib/python3.9/dist-packages/sklearn/model_selection/_search.py:909: DataConversionWarning: A column-vector y was passed when a 1d array was expected. Please change the shape of y to (n_samples,), for example using ravel().\n",
            "  self.best_estimator_.fit(X, y, **fit_params)\n"
          ]
        },
        {
          "output_type": "execute_result",
          "data": {
            "text/plain": [
              "GridSearchCV(cv=5, estimator=RandomForestClassifier(random_state=42), n_jobs=-1,\n",
              "             param_grid={'bootstrap': [False], 'criterion': ['entropy', 'gini'],\n",
              "                         'max_depth': [50, 60, 70, 80],\n",
              "                         'max_features': ['sqrt', 'log2'],\n",
              "                         'min_samples_leaf': [1, 5, 7],\n",
              "                         'min_samples_split': [10, 20, 30],\n",
              "                         'n_estimators': [500, 700, 900, 1000]},\n",
              "             scoring='accuracy', verbose=2)"
            ],
            "text/html": [
              "<style>#sk-container-id-1 {color: black;background-color: white;}#sk-container-id-1 pre{padding: 0;}#sk-container-id-1 div.sk-toggleable {background-color: white;}#sk-container-id-1 label.sk-toggleable__label {cursor: pointer;display: block;width: 100%;margin-bottom: 0;padding: 0.3em;box-sizing: border-box;text-align: center;}#sk-container-id-1 label.sk-toggleable__label-arrow:before {content: \"▸\";float: left;margin-right: 0.25em;color: #696969;}#sk-container-id-1 label.sk-toggleable__label-arrow:hover:before {color: black;}#sk-container-id-1 div.sk-estimator:hover label.sk-toggleable__label-arrow:before {color: black;}#sk-container-id-1 div.sk-toggleable__content {max-height: 0;max-width: 0;overflow: hidden;text-align: left;background-color: #f0f8ff;}#sk-container-id-1 div.sk-toggleable__content pre {margin: 0.2em;color: black;border-radius: 0.25em;background-color: #f0f8ff;}#sk-container-id-1 input.sk-toggleable__control:checked~div.sk-toggleable__content {max-height: 200px;max-width: 100%;overflow: auto;}#sk-container-id-1 input.sk-toggleable__control:checked~label.sk-toggleable__label-arrow:before {content: \"▾\";}#sk-container-id-1 div.sk-estimator input.sk-toggleable__control:checked~label.sk-toggleable__label {background-color: #d4ebff;}#sk-container-id-1 div.sk-label input.sk-toggleable__control:checked~label.sk-toggleable__label {background-color: #d4ebff;}#sk-container-id-1 input.sk-hidden--visually {border: 0;clip: rect(1px 1px 1px 1px);clip: rect(1px, 1px, 1px, 1px);height: 1px;margin: -1px;overflow: hidden;padding: 0;position: absolute;width: 1px;}#sk-container-id-1 div.sk-estimator {font-family: monospace;background-color: #f0f8ff;border: 1px dotted black;border-radius: 0.25em;box-sizing: border-box;margin-bottom: 0.5em;}#sk-container-id-1 div.sk-estimator:hover {background-color: #d4ebff;}#sk-container-id-1 div.sk-parallel-item::after {content: \"\";width: 100%;border-bottom: 1px solid gray;flex-grow: 1;}#sk-container-id-1 div.sk-label:hover label.sk-toggleable__label {background-color: #d4ebff;}#sk-container-id-1 div.sk-serial::before {content: \"\";position: absolute;border-left: 1px solid gray;box-sizing: border-box;top: 0;bottom: 0;left: 50%;z-index: 0;}#sk-container-id-1 div.sk-serial {display: flex;flex-direction: column;align-items: center;background-color: white;padding-right: 0.2em;padding-left: 0.2em;position: relative;}#sk-container-id-1 div.sk-item {position: relative;z-index: 1;}#sk-container-id-1 div.sk-parallel {display: flex;align-items: stretch;justify-content: center;background-color: white;position: relative;}#sk-container-id-1 div.sk-item::before, #sk-container-id-1 div.sk-parallel-item::before {content: \"\";position: absolute;border-left: 1px solid gray;box-sizing: border-box;top: 0;bottom: 0;left: 50%;z-index: -1;}#sk-container-id-1 div.sk-parallel-item {display: flex;flex-direction: column;z-index: 1;position: relative;background-color: white;}#sk-container-id-1 div.sk-parallel-item:first-child::after {align-self: flex-end;width: 50%;}#sk-container-id-1 div.sk-parallel-item:last-child::after {align-self: flex-start;width: 50%;}#sk-container-id-1 div.sk-parallel-item:only-child::after {width: 0;}#sk-container-id-1 div.sk-dashed-wrapped {border: 1px dashed gray;margin: 0 0.4em 0.5em 0.4em;box-sizing: border-box;padding-bottom: 0.4em;background-color: white;}#sk-container-id-1 div.sk-label label {font-family: monospace;font-weight: bold;display: inline-block;line-height: 1.2em;}#sk-container-id-1 div.sk-label-container {text-align: center;}#sk-container-id-1 div.sk-container {/* jupyter's `normalize.less` sets `[hidden] { display: none; }` but bootstrap.min.css set `[hidden] { display: none !important; }` so we also need the `!important` here to be able to override the default hidden behavior on the sphinx rendered scikit-learn.org. See: https://github.com/scikit-learn/scikit-learn/issues/21755 */display: inline-block !important;position: relative;}#sk-container-id-1 div.sk-text-repr-fallback {display: none;}</style><div id=\"sk-container-id-1\" class=\"sk-top-container\"><div class=\"sk-text-repr-fallback\"><pre>GridSearchCV(cv=5, estimator=RandomForestClassifier(random_state=42), n_jobs=-1,\n",
              "             param_grid={&#x27;bootstrap&#x27;: [False], &#x27;criterion&#x27;: [&#x27;entropy&#x27;, &#x27;gini&#x27;],\n",
              "                         &#x27;max_depth&#x27;: [50, 60, 70, 80],\n",
              "                         &#x27;max_features&#x27;: [&#x27;sqrt&#x27;, &#x27;log2&#x27;],\n",
              "                         &#x27;min_samples_leaf&#x27;: [1, 5, 7],\n",
              "                         &#x27;min_samples_split&#x27;: [10, 20, 30],\n",
              "                         &#x27;n_estimators&#x27;: [500, 700, 900, 1000]},\n",
              "             scoring=&#x27;accuracy&#x27;, verbose=2)</pre><b>In a Jupyter environment, please rerun this cell to show the HTML representation or trust the notebook. <br />On GitHub, the HTML representation is unable to render, please try loading this page with nbviewer.org.</b></div><div class=\"sk-container\" hidden><div class=\"sk-item sk-dashed-wrapped\"><div class=\"sk-label-container\"><div class=\"sk-label sk-toggleable\"><input class=\"sk-toggleable__control sk-hidden--visually\" id=\"sk-estimator-id-1\" type=\"checkbox\" ><label for=\"sk-estimator-id-1\" class=\"sk-toggleable__label sk-toggleable__label-arrow\">GridSearchCV</label><div class=\"sk-toggleable__content\"><pre>GridSearchCV(cv=5, estimator=RandomForestClassifier(random_state=42), n_jobs=-1,\n",
              "             param_grid={&#x27;bootstrap&#x27;: [False], &#x27;criterion&#x27;: [&#x27;entropy&#x27;, &#x27;gini&#x27;],\n",
              "                         &#x27;max_depth&#x27;: [50, 60, 70, 80],\n",
              "                         &#x27;max_features&#x27;: [&#x27;sqrt&#x27;, &#x27;log2&#x27;],\n",
              "                         &#x27;min_samples_leaf&#x27;: [1, 5, 7],\n",
              "                         &#x27;min_samples_split&#x27;: [10, 20, 30],\n",
              "                         &#x27;n_estimators&#x27;: [500, 700, 900, 1000]},\n",
              "             scoring=&#x27;accuracy&#x27;, verbose=2)</pre></div></div></div><div class=\"sk-parallel\"><div class=\"sk-parallel-item\"><div class=\"sk-item\"><div class=\"sk-label-container\"><div class=\"sk-label sk-toggleable\"><input class=\"sk-toggleable__control sk-hidden--visually\" id=\"sk-estimator-id-2\" type=\"checkbox\" ><label for=\"sk-estimator-id-2\" class=\"sk-toggleable__label sk-toggleable__label-arrow\">estimator: RandomForestClassifier</label><div class=\"sk-toggleable__content\"><pre>RandomForestClassifier(random_state=42)</pre></div></div></div><div class=\"sk-serial\"><div class=\"sk-item\"><div class=\"sk-estimator sk-toggleable\"><input class=\"sk-toggleable__control sk-hidden--visually\" id=\"sk-estimator-id-3\" type=\"checkbox\" ><label for=\"sk-estimator-id-3\" class=\"sk-toggleable__label sk-toggleable__label-arrow\">RandomForestClassifier</label><div class=\"sk-toggleable__content\"><pre>RandomForestClassifier(random_state=42)</pre></div></div></div></div></div></div></div></div></div></div>"
            ]
          },
          "metadata": {},
          "execution_count": 19
        }
      ],
      "source": [
        "rf_gridCV.fit(X_train,y_train)"
      ],
      "id": "fcd6014b"
    },
    {
      "cell_type": "code",
      "execution_count": 20,
      "metadata": {
        "colab": {
          "base_uri": "https://localhost:8080/"
        },
        "id": "b2c3fc87",
        "outputId": "210bbf0d-ad3f-4403-fd09-b0b2973a664e"
      },
      "outputs": [
        {
          "output_type": "stream",
          "name": "stdout",
          "text": [
            "{'bootstrap': False, 'criterion': 'entropy', 'max_depth': 60, 'max_features': 'log2', 'min_samples_leaf': 1, 'min_samples_split': 20, 'n_estimators': 500}\n",
            "0.6969387755102041\n"
          ]
        }
      ],
      "source": [
        "print(rf_gridCV.best_params_)\n",
        "print(rf_gridCV.best_score_)"
      ],
      "id": "b2c3fc87"
    },
    {
      "cell_type": "code",
      "execution_count": 21,
      "metadata": {
        "colab": {
          "base_uri": "https://localhost:8080/"
        },
        "id": "f46e1786",
        "outputId": "ace65903-b2cc-40c6-e847-c80c6ad13b3f"
      },
      "outputs": [
        {
          "output_type": "execute_result",
          "data": {
            "text/plain": [
              "0.6296296296296297"
            ]
          },
          "metadata": {},
          "execution_count": 21
        }
      ],
      "source": [
        "rf_best_grid=rf_gridCV.best_estimator_\n",
        "rf_best_grid_score=rf_best_grid.score(X_test,y_test)\n",
        "rf_best_grid_score"
      ],
      "id": "f46e1786"
    },
    {
      "cell_type": "markdown",
      "metadata": {
        "id": "52bbbf65"
      },
      "source": [
        "### ***2. SVM Classifier*** "
      ],
      "id": "52bbbf65"
    },
    {
      "cell_type": "code",
      "execution_count": 22,
      "metadata": {
        "id": "1d1b8cf6"
      },
      "outputs": [],
      "source": [
        "svc=SVC(random_state=42)"
      ],
      "id": "1d1b8cf6"
    },
    {
      "cell_type": "markdown",
      "metadata": {
        "id": "b4e1925a"
      },
      "source": [
        "#### KFold CV"
      ],
      "id": "b4e1925a"
    },
    {
      "cell_type": "code",
      "execution_count": 23,
      "metadata": {
        "colab": {
          "base_uri": "https://localhost:8080/"
        },
        "id": "e4bae9b0",
        "outputId": "faa4c58e-66c3-4bd4-f061-999b94a82988"
      },
      "outputs": [
        {
          "output_type": "stream",
          "name": "stdout",
          "text": [
            "[0.59183673 0.71428571 0.7755102  0.6122449  0.5625    ]\n",
            "SVC Cross Validation Accuracy: 0.651\n"
          ]
        }
      ],
      "source": [
        "svc_cv = cross_val_score(svc, X_train, y_train.values.ravel(), cv=kfold, scoring='accuracy')\n",
        "print(svc_cv)\n",
        "print('SVC Cross Validation Accuracy:', round(svc_cv.mean(),3))"
      ],
      "id": "e4bae9b0"
    },
    {
      "cell_type": "markdown",
      "metadata": {
        "id": "2f709886"
      },
      "source": [
        "#### GridSearch CV"
      ],
      "id": "2f709886"
    },
    {
      "cell_type": "code",
      "execution_count": 24,
      "metadata": {
        "id": "d26cdefa"
      },
      "outputs": [],
      "source": [
        "svc_param_grid = {'kernel':['linear', 'rbf', 'poly'],\n",
        "                  'C':[0.001, 0.01, 0.1, 1, 10, 100],\n",
        "                  'gamma':[0.0001, 0.001, 0.001, 0.01, 0.1, 1, 10], \n",
        "                  'degree':[2,3,4]}"
      ],
      "id": "d26cdefa"
    },
    {
      "cell_type": "code",
      "execution_count": 25,
      "metadata": {
        "id": "617004d2"
      },
      "outputs": [],
      "source": [
        "svc_gridCV=GridSearchCV(estimator=svc, param_grid=svc_param_grid, scoring='accuracy', cv=5, n_jobs=-1, verbose=2)"
      ],
      "id": "617004d2"
    },
    {
      "cell_type": "code",
      "execution_count": 26,
      "metadata": {
        "colab": {
          "base_uri": "https://localhost:8080/",
          "height": 170
        },
        "id": "5a5b45f6",
        "outputId": "7fe6c6c4-1289-4a0f-ba73-b4c60d68764b"
      },
      "outputs": [
        {
          "output_type": "stream",
          "name": "stdout",
          "text": [
            "Fitting 5 folds for each of 378 candidates, totalling 1890 fits\n"
          ]
        },
        {
          "output_type": "stream",
          "name": "stderr",
          "text": [
            "/usr/local/lib/python3.9/dist-packages/sklearn/utils/validation.py:1143: DataConversionWarning: A column-vector y was passed when a 1d array was expected. Please change the shape of y to (n_samples, ), for example using ravel().\n",
            "  y = column_or_1d(y, warn=True)\n"
          ]
        },
        {
          "output_type": "execute_result",
          "data": {
            "text/plain": [
              "GridSearchCV(cv=5, estimator=SVC(random_state=42), n_jobs=-1,\n",
              "             param_grid={'C': [0.001, 0.01, 0.1, 1, 10, 100],\n",
              "                         'degree': [2, 3, 4],\n",
              "                         'gamma': [0.0001, 0.001, 0.001, 0.01, 0.1, 1, 10],\n",
              "                         'kernel': ['linear', 'rbf', 'poly']},\n",
              "             scoring='accuracy', verbose=2)"
            ],
            "text/html": [
              "<style>#sk-container-id-2 {color: black;background-color: white;}#sk-container-id-2 pre{padding: 0;}#sk-container-id-2 div.sk-toggleable {background-color: white;}#sk-container-id-2 label.sk-toggleable__label {cursor: pointer;display: block;width: 100%;margin-bottom: 0;padding: 0.3em;box-sizing: border-box;text-align: center;}#sk-container-id-2 label.sk-toggleable__label-arrow:before {content: \"▸\";float: left;margin-right: 0.25em;color: #696969;}#sk-container-id-2 label.sk-toggleable__label-arrow:hover:before {color: black;}#sk-container-id-2 div.sk-estimator:hover label.sk-toggleable__label-arrow:before {color: black;}#sk-container-id-2 div.sk-toggleable__content {max-height: 0;max-width: 0;overflow: hidden;text-align: left;background-color: #f0f8ff;}#sk-container-id-2 div.sk-toggleable__content pre {margin: 0.2em;color: black;border-radius: 0.25em;background-color: #f0f8ff;}#sk-container-id-2 input.sk-toggleable__control:checked~div.sk-toggleable__content {max-height: 200px;max-width: 100%;overflow: auto;}#sk-container-id-2 input.sk-toggleable__control:checked~label.sk-toggleable__label-arrow:before {content: \"▾\";}#sk-container-id-2 div.sk-estimator input.sk-toggleable__control:checked~label.sk-toggleable__label {background-color: #d4ebff;}#sk-container-id-2 div.sk-label input.sk-toggleable__control:checked~label.sk-toggleable__label {background-color: #d4ebff;}#sk-container-id-2 input.sk-hidden--visually {border: 0;clip: rect(1px 1px 1px 1px);clip: rect(1px, 1px, 1px, 1px);height: 1px;margin: -1px;overflow: hidden;padding: 0;position: absolute;width: 1px;}#sk-container-id-2 div.sk-estimator {font-family: monospace;background-color: #f0f8ff;border: 1px dotted black;border-radius: 0.25em;box-sizing: border-box;margin-bottom: 0.5em;}#sk-container-id-2 div.sk-estimator:hover {background-color: #d4ebff;}#sk-container-id-2 div.sk-parallel-item::after {content: \"\";width: 100%;border-bottom: 1px solid gray;flex-grow: 1;}#sk-container-id-2 div.sk-label:hover label.sk-toggleable__label {background-color: #d4ebff;}#sk-container-id-2 div.sk-serial::before {content: \"\";position: absolute;border-left: 1px solid gray;box-sizing: border-box;top: 0;bottom: 0;left: 50%;z-index: 0;}#sk-container-id-2 div.sk-serial {display: flex;flex-direction: column;align-items: center;background-color: white;padding-right: 0.2em;padding-left: 0.2em;position: relative;}#sk-container-id-2 div.sk-item {position: relative;z-index: 1;}#sk-container-id-2 div.sk-parallel {display: flex;align-items: stretch;justify-content: center;background-color: white;position: relative;}#sk-container-id-2 div.sk-item::before, #sk-container-id-2 div.sk-parallel-item::before {content: \"\";position: absolute;border-left: 1px solid gray;box-sizing: border-box;top: 0;bottom: 0;left: 50%;z-index: -1;}#sk-container-id-2 div.sk-parallel-item {display: flex;flex-direction: column;z-index: 1;position: relative;background-color: white;}#sk-container-id-2 div.sk-parallel-item:first-child::after {align-self: flex-end;width: 50%;}#sk-container-id-2 div.sk-parallel-item:last-child::after {align-self: flex-start;width: 50%;}#sk-container-id-2 div.sk-parallel-item:only-child::after {width: 0;}#sk-container-id-2 div.sk-dashed-wrapped {border: 1px dashed gray;margin: 0 0.4em 0.5em 0.4em;box-sizing: border-box;padding-bottom: 0.4em;background-color: white;}#sk-container-id-2 div.sk-label label {font-family: monospace;font-weight: bold;display: inline-block;line-height: 1.2em;}#sk-container-id-2 div.sk-label-container {text-align: center;}#sk-container-id-2 div.sk-container {/* jupyter's `normalize.less` sets `[hidden] { display: none; }` but bootstrap.min.css set `[hidden] { display: none !important; }` so we also need the `!important` here to be able to override the default hidden behavior on the sphinx rendered scikit-learn.org. See: https://github.com/scikit-learn/scikit-learn/issues/21755 */display: inline-block !important;position: relative;}#sk-container-id-2 div.sk-text-repr-fallback {display: none;}</style><div id=\"sk-container-id-2\" class=\"sk-top-container\"><div class=\"sk-text-repr-fallback\"><pre>GridSearchCV(cv=5, estimator=SVC(random_state=42), n_jobs=-1,\n",
              "             param_grid={&#x27;C&#x27;: [0.001, 0.01, 0.1, 1, 10, 100],\n",
              "                         &#x27;degree&#x27;: [2, 3, 4],\n",
              "                         &#x27;gamma&#x27;: [0.0001, 0.001, 0.001, 0.01, 0.1, 1, 10],\n",
              "                         &#x27;kernel&#x27;: [&#x27;linear&#x27;, &#x27;rbf&#x27;, &#x27;poly&#x27;]},\n",
              "             scoring=&#x27;accuracy&#x27;, verbose=2)</pre><b>In a Jupyter environment, please rerun this cell to show the HTML representation or trust the notebook. <br />On GitHub, the HTML representation is unable to render, please try loading this page with nbviewer.org.</b></div><div class=\"sk-container\" hidden><div class=\"sk-item sk-dashed-wrapped\"><div class=\"sk-label-container\"><div class=\"sk-label sk-toggleable\"><input class=\"sk-toggleable__control sk-hidden--visually\" id=\"sk-estimator-id-4\" type=\"checkbox\" ><label for=\"sk-estimator-id-4\" class=\"sk-toggleable__label sk-toggleable__label-arrow\">GridSearchCV</label><div class=\"sk-toggleable__content\"><pre>GridSearchCV(cv=5, estimator=SVC(random_state=42), n_jobs=-1,\n",
              "             param_grid={&#x27;C&#x27;: [0.001, 0.01, 0.1, 1, 10, 100],\n",
              "                         &#x27;degree&#x27;: [2, 3, 4],\n",
              "                         &#x27;gamma&#x27;: [0.0001, 0.001, 0.001, 0.01, 0.1, 1, 10],\n",
              "                         &#x27;kernel&#x27;: [&#x27;linear&#x27;, &#x27;rbf&#x27;, &#x27;poly&#x27;]},\n",
              "             scoring=&#x27;accuracy&#x27;, verbose=2)</pre></div></div></div><div class=\"sk-parallel\"><div class=\"sk-parallel-item\"><div class=\"sk-item\"><div class=\"sk-label-container\"><div class=\"sk-label sk-toggleable\"><input class=\"sk-toggleable__control sk-hidden--visually\" id=\"sk-estimator-id-5\" type=\"checkbox\" ><label for=\"sk-estimator-id-5\" class=\"sk-toggleable__label sk-toggleable__label-arrow\">estimator: SVC</label><div class=\"sk-toggleable__content\"><pre>SVC(random_state=42)</pre></div></div></div><div class=\"sk-serial\"><div class=\"sk-item\"><div class=\"sk-estimator sk-toggleable\"><input class=\"sk-toggleable__control sk-hidden--visually\" id=\"sk-estimator-id-6\" type=\"checkbox\" ><label for=\"sk-estimator-id-6\" class=\"sk-toggleable__label sk-toggleable__label-arrow\">SVC</label><div class=\"sk-toggleable__content\"><pre>SVC(random_state=42)</pre></div></div></div></div></div></div></div></div></div></div>"
            ]
          },
          "metadata": {},
          "execution_count": 26
        }
      ],
      "source": [
        "svc_gridCV.fit(X_train,y_train)"
      ],
      "id": "5a5b45f6"
    },
    {
      "cell_type": "code",
      "execution_count": 27,
      "metadata": {
        "id": "e974e7c7",
        "outputId": "9402c29b-b76a-42f5-9a5f-bae822dfe647",
        "colab": {
          "base_uri": "https://localhost:8080/"
        }
      },
      "outputs": [
        {
          "output_type": "stream",
          "name": "stdout",
          "text": [
            "{'C': 0.01, 'degree': 4, 'gamma': 0.1, 'kernel': 'poly'}\n",
            "0.7255102040816326\n"
          ]
        }
      ],
      "source": [
        "print(svc_gridCV.best_params_)\n",
        "print(svc_gridCV.best_score_)"
      ],
      "id": "e974e7c7"
    },
    {
      "cell_type": "code",
      "execution_count": 28,
      "metadata": {
        "id": "934lKqLNvLvx",
        "outputId": "dd90cfbd-b580-4857-9be3-413a9480fc0b",
        "colab": {
          "base_uri": "https://localhost:8080/"
        }
      },
      "outputs": [
        {
          "output_type": "execute_result",
          "data": {
            "text/plain": [
              "0.5925925925925926"
            ]
          },
          "metadata": {},
          "execution_count": 28
        }
      ],
      "source": [
        "svc_best_grid=svc_gridCV.best_estimator_\n",
        "svc_best_grid_score=svc_best_grid.score(X_test,y_test)\n",
        "svc_best_grid_score"
      ],
      "id": "934lKqLNvLvx"
    },
    {
      "cell_type": "markdown",
      "metadata": {
        "id": "4053ed0e"
      },
      "source": [
        "### ***3. KNN Classifier***"
      ],
      "id": "4053ed0e"
    },
    {
      "cell_type": "code",
      "execution_count": 29,
      "metadata": {
        "id": "faed1cc8"
      },
      "outputs": [],
      "source": [
        "knn=KNeighborsClassifier()"
      ],
      "id": "faed1cc8"
    },
    {
      "cell_type": "markdown",
      "metadata": {
        "id": "dbf8882d"
      },
      "source": [
        "#### KFoldCV"
      ],
      "id": "dbf8882d"
    },
    {
      "cell_type": "code",
      "execution_count": 30,
      "metadata": {
        "id": "1ca09988",
        "outputId": "d8a9edeb-eac7-4975-c509-388fb8427977",
        "colab": {
          "base_uri": "https://localhost:8080/"
        }
      },
      "outputs": [
        {
          "output_type": "stream",
          "name": "stdout",
          "text": [
            "[0.53061224 0.71428571 0.71428571 0.71428571 0.52083333]\n",
            "KNN Cross Validation Accuracy: 0.639\n"
          ]
        }
      ],
      "source": [
        "knn_cv = cross_val_score(knn, X_train, y_train.values.ravel(), cv=kfold, scoring='accuracy')\n",
        "print(knn_cv)\n",
        "print('KNN Cross Validation Accuracy:', round(knn_cv.mean(),3))"
      ],
      "id": "1ca09988"
    },
    {
      "cell_type": "markdown",
      "metadata": {
        "id": "07f68c08"
      },
      "source": [
        "#### GridSearch CV"
      ],
      "id": "07f68c08"
    },
    {
      "cell_type": "code",
      "execution_count": 31,
      "metadata": {
        "id": "7c4eae32"
      },
      "outputs": [],
      "source": [
        "knn_param_grid = { 'n_neighbors' : [5,7,9,11,13,15],\n",
        "               'weights' : ['uniform','distance'],\n",
        "               'metric' : ['minkowski','euclidean','manhattan']}"
      ],
      "id": "7c4eae32"
    },
    {
      "cell_type": "code",
      "execution_count": 32,
      "metadata": {
        "id": "1fc07ba9"
      },
      "outputs": [],
      "source": [
        "knn_gridCV=GridSearchCV(estimator=knn, param_grid=knn_param_grid, scoring='accuracy', cv=5, n_jobs=-1, verbose=2)"
      ],
      "id": "1fc07ba9"
    },
    {
      "cell_type": "code",
      "execution_count": 33,
      "metadata": {
        "id": "8530690d",
        "outputId": "733b5fb1-0619-49d6-d948-25cebf86d317",
        "scrolled": true,
        "colab": {
          "base_uri": "https://localhost:8080/",
          "height": 190
        }
      },
      "outputs": [
        {
          "output_type": "stream",
          "name": "stdout",
          "text": [
            "Fitting 5 folds for each of 36 candidates, totalling 180 fits\n"
          ]
        },
        {
          "output_type": "stream",
          "name": "stderr",
          "text": [
            "/usr/local/lib/python3.9/dist-packages/sklearn/neighbors/_classification.py:215: DataConversionWarning: A column-vector y was passed when a 1d array was expected. Please change the shape of y to (n_samples,), for example using ravel().\n",
            "  return self._fit(X, y)\n"
          ]
        },
        {
          "output_type": "execute_result",
          "data": {
            "text/plain": [
              "GridSearchCV(cv=5, estimator=KNeighborsClassifier(), n_jobs=-1,\n",
              "             param_grid={'metric': ['minkowski', 'euclidean', 'manhattan'],\n",
              "                         'n_neighbors': [5, 7, 9, 11, 13, 15],\n",
              "                         'weights': ['uniform', 'distance']},\n",
              "             scoring='accuracy', verbose=2)"
            ],
            "text/html": [
              "<style>#sk-container-id-3 {color: black;background-color: white;}#sk-container-id-3 pre{padding: 0;}#sk-container-id-3 div.sk-toggleable {background-color: white;}#sk-container-id-3 label.sk-toggleable__label {cursor: pointer;display: block;width: 100%;margin-bottom: 0;padding: 0.3em;box-sizing: border-box;text-align: center;}#sk-container-id-3 label.sk-toggleable__label-arrow:before {content: \"▸\";float: left;margin-right: 0.25em;color: #696969;}#sk-container-id-3 label.sk-toggleable__label-arrow:hover:before {color: black;}#sk-container-id-3 div.sk-estimator:hover label.sk-toggleable__label-arrow:before {color: black;}#sk-container-id-3 div.sk-toggleable__content {max-height: 0;max-width: 0;overflow: hidden;text-align: left;background-color: #f0f8ff;}#sk-container-id-3 div.sk-toggleable__content pre {margin: 0.2em;color: black;border-radius: 0.25em;background-color: #f0f8ff;}#sk-container-id-3 input.sk-toggleable__control:checked~div.sk-toggleable__content {max-height: 200px;max-width: 100%;overflow: auto;}#sk-container-id-3 input.sk-toggleable__control:checked~label.sk-toggleable__label-arrow:before {content: \"▾\";}#sk-container-id-3 div.sk-estimator input.sk-toggleable__control:checked~label.sk-toggleable__label {background-color: #d4ebff;}#sk-container-id-3 div.sk-label input.sk-toggleable__control:checked~label.sk-toggleable__label {background-color: #d4ebff;}#sk-container-id-3 input.sk-hidden--visually {border: 0;clip: rect(1px 1px 1px 1px);clip: rect(1px, 1px, 1px, 1px);height: 1px;margin: -1px;overflow: hidden;padding: 0;position: absolute;width: 1px;}#sk-container-id-3 div.sk-estimator {font-family: monospace;background-color: #f0f8ff;border: 1px dotted black;border-radius: 0.25em;box-sizing: border-box;margin-bottom: 0.5em;}#sk-container-id-3 div.sk-estimator:hover {background-color: #d4ebff;}#sk-container-id-3 div.sk-parallel-item::after {content: \"\";width: 100%;border-bottom: 1px solid gray;flex-grow: 1;}#sk-container-id-3 div.sk-label:hover label.sk-toggleable__label {background-color: #d4ebff;}#sk-container-id-3 div.sk-serial::before {content: \"\";position: absolute;border-left: 1px solid gray;box-sizing: border-box;top: 0;bottom: 0;left: 50%;z-index: 0;}#sk-container-id-3 div.sk-serial {display: flex;flex-direction: column;align-items: center;background-color: white;padding-right: 0.2em;padding-left: 0.2em;position: relative;}#sk-container-id-3 div.sk-item {position: relative;z-index: 1;}#sk-container-id-3 div.sk-parallel {display: flex;align-items: stretch;justify-content: center;background-color: white;position: relative;}#sk-container-id-3 div.sk-item::before, #sk-container-id-3 div.sk-parallel-item::before {content: \"\";position: absolute;border-left: 1px solid gray;box-sizing: border-box;top: 0;bottom: 0;left: 50%;z-index: -1;}#sk-container-id-3 div.sk-parallel-item {display: flex;flex-direction: column;z-index: 1;position: relative;background-color: white;}#sk-container-id-3 div.sk-parallel-item:first-child::after {align-self: flex-end;width: 50%;}#sk-container-id-3 div.sk-parallel-item:last-child::after {align-self: flex-start;width: 50%;}#sk-container-id-3 div.sk-parallel-item:only-child::after {width: 0;}#sk-container-id-3 div.sk-dashed-wrapped {border: 1px dashed gray;margin: 0 0.4em 0.5em 0.4em;box-sizing: border-box;padding-bottom: 0.4em;background-color: white;}#sk-container-id-3 div.sk-label label {font-family: monospace;font-weight: bold;display: inline-block;line-height: 1.2em;}#sk-container-id-3 div.sk-label-container {text-align: center;}#sk-container-id-3 div.sk-container {/* jupyter's `normalize.less` sets `[hidden] { display: none; }` but bootstrap.min.css set `[hidden] { display: none !important; }` so we also need the `!important` here to be able to override the default hidden behavior on the sphinx rendered scikit-learn.org. See: https://github.com/scikit-learn/scikit-learn/issues/21755 */display: inline-block !important;position: relative;}#sk-container-id-3 div.sk-text-repr-fallback {display: none;}</style><div id=\"sk-container-id-3\" class=\"sk-top-container\"><div class=\"sk-text-repr-fallback\"><pre>GridSearchCV(cv=5, estimator=KNeighborsClassifier(), n_jobs=-1,\n",
              "             param_grid={&#x27;metric&#x27;: [&#x27;minkowski&#x27;, &#x27;euclidean&#x27;, &#x27;manhattan&#x27;],\n",
              "                         &#x27;n_neighbors&#x27;: [5, 7, 9, 11, 13, 15],\n",
              "                         &#x27;weights&#x27;: [&#x27;uniform&#x27;, &#x27;distance&#x27;]},\n",
              "             scoring=&#x27;accuracy&#x27;, verbose=2)</pre><b>In a Jupyter environment, please rerun this cell to show the HTML representation or trust the notebook. <br />On GitHub, the HTML representation is unable to render, please try loading this page with nbviewer.org.</b></div><div class=\"sk-container\" hidden><div class=\"sk-item sk-dashed-wrapped\"><div class=\"sk-label-container\"><div class=\"sk-label sk-toggleable\"><input class=\"sk-toggleable__control sk-hidden--visually\" id=\"sk-estimator-id-7\" type=\"checkbox\" ><label for=\"sk-estimator-id-7\" class=\"sk-toggleable__label sk-toggleable__label-arrow\">GridSearchCV</label><div class=\"sk-toggleable__content\"><pre>GridSearchCV(cv=5, estimator=KNeighborsClassifier(), n_jobs=-1,\n",
              "             param_grid={&#x27;metric&#x27;: [&#x27;minkowski&#x27;, &#x27;euclidean&#x27;, &#x27;manhattan&#x27;],\n",
              "                         &#x27;n_neighbors&#x27;: [5, 7, 9, 11, 13, 15],\n",
              "                         &#x27;weights&#x27;: [&#x27;uniform&#x27;, &#x27;distance&#x27;]},\n",
              "             scoring=&#x27;accuracy&#x27;, verbose=2)</pre></div></div></div><div class=\"sk-parallel\"><div class=\"sk-parallel-item\"><div class=\"sk-item\"><div class=\"sk-label-container\"><div class=\"sk-label sk-toggleable\"><input class=\"sk-toggleable__control sk-hidden--visually\" id=\"sk-estimator-id-8\" type=\"checkbox\" ><label for=\"sk-estimator-id-8\" class=\"sk-toggleable__label sk-toggleable__label-arrow\">estimator: KNeighborsClassifier</label><div class=\"sk-toggleable__content\"><pre>KNeighborsClassifier()</pre></div></div></div><div class=\"sk-serial\"><div class=\"sk-item\"><div class=\"sk-estimator sk-toggleable\"><input class=\"sk-toggleable__control sk-hidden--visually\" id=\"sk-estimator-id-9\" type=\"checkbox\" ><label for=\"sk-estimator-id-9\" class=\"sk-toggleable__label sk-toggleable__label-arrow\">KNeighborsClassifier</label><div class=\"sk-toggleable__content\"><pre>KNeighborsClassifier()</pre></div></div></div></div></div></div></div></div></div></div>"
            ]
          },
          "metadata": {},
          "execution_count": 33
        }
      ],
      "source": [
        "knn_gridCV.fit(X_train,y_train)"
      ],
      "id": "8530690d"
    },
    {
      "cell_type": "code",
      "execution_count": 34,
      "metadata": {
        "colab": {
          "base_uri": "https://localhost:8080/"
        },
        "id": "c832f197",
        "outputId": "6cbd3ae5-b0fd-44ee-e06a-434a2a699174"
      },
      "outputs": [
        {
          "output_type": "stream",
          "name": "stdout",
          "text": [
            "{'metric': 'manhattan', 'n_neighbors': 9, 'weights': 'distance'}\n",
            "0.6927721088435375\n"
          ]
        }
      ],
      "source": [
        "print(knn_gridCV.best_params_)\n",
        "print(knn_gridCV.best_score_)"
      ],
      "id": "c832f197"
    },
    {
      "cell_type": "code",
      "execution_count": 35,
      "metadata": {
        "colab": {
          "base_uri": "https://localhost:8080/"
        },
        "id": "_fMtAfGOvZsJ",
        "outputId": "4efc7e8e-fbac-4af1-942f-43d629108de9"
      },
      "outputs": [
        {
          "output_type": "execute_result",
          "data": {
            "text/plain": [
              "0.5925925925925926"
            ]
          },
          "metadata": {},
          "execution_count": 35
        }
      ],
      "source": [
        "knn_best_grid=knn_gridCV.best_estimator_\n",
        "knn_best_grid_score=knn_best_grid.score(X_test,y_test)\n",
        "knn_best_grid_score"
      ],
      "id": "_fMtAfGOvZsJ"
    },
    {
      "cell_type": "markdown",
      "metadata": {
        "id": "571d7f06"
      },
      "source": [
        "### ***4. Naive Bayes Classifier***"
      ],
      "id": "571d7f06"
    },
    {
      "cell_type": "code",
      "execution_count": 36,
      "metadata": {
        "id": "57f91281"
      },
      "outputs": [],
      "source": [
        "nb=GaussianNB()"
      ],
      "id": "57f91281"
    },
    {
      "cell_type": "markdown",
      "metadata": {
        "id": "f2ed74d4"
      },
      "source": [
        "#### KFoldCV"
      ],
      "id": "f2ed74d4"
    },
    {
      "cell_type": "code",
      "execution_count": 37,
      "metadata": {
        "colab": {
          "base_uri": "https://localhost:8080/"
        },
        "id": "c832187e",
        "outputId": "a06cb543-b846-4625-becc-8c6202321f78"
      },
      "outputs": [
        {
          "output_type": "stream",
          "name": "stdout",
          "text": [
            "[0.57142857 0.51020408 0.63265306 0.6122449  0.5       ]\n",
            "KNN Cross Validation Accuracy: 0.565\n"
          ]
        }
      ],
      "source": [
        "nb_cv = cross_val_score(nb, X_train, y_train.values.ravel(), cv=kfold, scoring='accuracy')\n",
        "print(nb_cv)\n",
        "print('KNN Cross Validation Accuracy:', round(nb_cv.mean(),3))"
      ],
      "id": "c832187e"
    },
    {
      "cell_type": "markdown",
      "metadata": {
        "id": "885cff06"
      },
      "source": [
        "#### GridSearch CV"
      ],
      "id": "885cff06"
    },
    {
      "cell_type": "code",
      "execution_count": 38,
      "metadata": {
        "id": "97ff84ce"
      },
      "outputs": [],
      "source": [
        "nb_param_grid = { 'var_smoothing' : np.logspace(0,-9,num=100)}"
      ],
      "id": "97ff84ce"
    },
    {
      "cell_type": "code",
      "execution_count": 39,
      "metadata": {
        "id": "357711c9"
      },
      "outputs": [],
      "source": [
        "nb_gridCV=GridSearchCV(estimator=nb, param_grid=nb_param_grid, scoring='accuracy', cv=5, n_jobs=-1, verbose=2)"
      ],
      "id": "357711c9"
    },
    {
      "cell_type": "code",
      "execution_count": 40,
      "metadata": {
        "colab": {
          "base_uri": "https://localhost:8080/",
          "height": 170
        },
        "id": "d92fc6b9",
        "outputId": "6891d867-bfd6-4a7c-badf-0b88f844a1be"
      },
      "outputs": [
        {
          "output_type": "stream",
          "name": "stdout",
          "text": [
            "Fitting 5 folds for each of 100 candidates, totalling 500 fits\n"
          ]
        },
        {
          "output_type": "stream",
          "name": "stderr",
          "text": [
            "/usr/local/lib/python3.9/dist-packages/sklearn/utils/validation.py:1143: DataConversionWarning: A column-vector y was passed when a 1d array was expected. Please change the shape of y to (n_samples, ), for example using ravel().\n",
            "  y = column_or_1d(y, warn=True)\n"
          ]
        },
        {
          "output_type": "execute_result",
          "data": {
            "text/plain": [
              "GridSearchCV(cv=5, estimator=GaussianNB(), n_jobs=-1,\n",
              "             param_grid={'var_smoothing': array([1.00000000e+00, 8.11130831e-01, 6.57933225e-01, 5.33669923e-01,\n",
              "       4.32876128e-01, 3.51119173e-01, 2.84803587e-01, 2.31012970e-01,\n",
              "       1.87381742e-01, 1.51991108e-01, 1.23284674e-01, 1.00000000e-01,\n",
              "       8.11130831e-02, 6.57933225e-02, 5.33669923e-02, 4.32876128e-02,\n",
              "       3.51119173e-02, 2.8480358...\n",
              "       1.23284674e-07, 1.00000000e-07, 8.11130831e-08, 6.57933225e-08,\n",
              "       5.33669923e-08, 4.32876128e-08, 3.51119173e-08, 2.84803587e-08,\n",
              "       2.31012970e-08, 1.87381742e-08, 1.51991108e-08, 1.23284674e-08,\n",
              "       1.00000000e-08, 8.11130831e-09, 6.57933225e-09, 5.33669923e-09,\n",
              "       4.32876128e-09, 3.51119173e-09, 2.84803587e-09, 2.31012970e-09,\n",
              "       1.87381742e-09, 1.51991108e-09, 1.23284674e-09, 1.00000000e-09])},\n",
              "             scoring='accuracy', verbose=2)"
            ],
            "text/html": [
              "<style>#sk-container-id-4 {color: black;background-color: white;}#sk-container-id-4 pre{padding: 0;}#sk-container-id-4 div.sk-toggleable {background-color: white;}#sk-container-id-4 label.sk-toggleable__label {cursor: pointer;display: block;width: 100%;margin-bottom: 0;padding: 0.3em;box-sizing: border-box;text-align: center;}#sk-container-id-4 label.sk-toggleable__label-arrow:before {content: \"▸\";float: left;margin-right: 0.25em;color: #696969;}#sk-container-id-4 label.sk-toggleable__label-arrow:hover:before {color: black;}#sk-container-id-4 div.sk-estimator:hover label.sk-toggleable__label-arrow:before {color: black;}#sk-container-id-4 div.sk-toggleable__content {max-height: 0;max-width: 0;overflow: hidden;text-align: left;background-color: #f0f8ff;}#sk-container-id-4 div.sk-toggleable__content pre {margin: 0.2em;color: black;border-radius: 0.25em;background-color: #f0f8ff;}#sk-container-id-4 input.sk-toggleable__control:checked~div.sk-toggleable__content {max-height: 200px;max-width: 100%;overflow: auto;}#sk-container-id-4 input.sk-toggleable__control:checked~label.sk-toggleable__label-arrow:before {content: \"▾\";}#sk-container-id-4 div.sk-estimator input.sk-toggleable__control:checked~label.sk-toggleable__label {background-color: #d4ebff;}#sk-container-id-4 div.sk-label input.sk-toggleable__control:checked~label.sk-toggleable__label {background-color: #d4ebff;}#sk-container-id-4 input.sk-hidden--visually {border: 0;clip: rect(1px 1px 1px 1px);clip: rect(1px, 1px, 1px, 1px);height: 1px;margin: -1px;overflow: hidden;padding: 0;position: absolute;width: 1px;}#sk-container-id-4 div.sk-estimator {font-family: monospace;background-color: #f0f8ff;border: 1px dotted black;border-radius: 0.25em;box-sizing: border-box;margin-bottom: 0.5em;}#sk-container-id-4 div.sk-estimator:hover {background-color: #d4ebff;}#sk-container-id-4 div.sk-parallel-item::after {content: \"\";width: 100%;border-bottom: 1px solid gray;flex-grow: 1;}#sk-container-id-4 div.sk-label:hover label.sk-toggleable__label {background-color: #d4ebff;}#sk-container-id-4 div.sk-serial::before {content: \"\";position: absolute;border-left: 1px solid gray;box-sizing: border-box;top: 0;bottom: 0;left: 50%;z-index: 0;}#sk-container-id-4 div.sk-serial {display: flex;flex-direction: column;align-items: center;background-color: white;padding-right: 0.2em;padding-left: 0.2em;position: relative;}#sk-container-id-4 div.sk-item {position: relative;z-index: 1;}#sk-container-id-4 div.sk-parallel {display: flex;align-items: stretch;justify-content: center;background-color: white;position: relative;}#sk-container-id-4 div.sk-item::before, #sk-container-id-4 div.sk-parallel-item::before {content: \"\";position: absolute;border-left: 1px solid gray;box-sizing: border-box;top: 0;bottom: 0;left: 50%;z-index: -1;}#sk-container-id-4 div.sk-parallel-item {display: flex;flex-direction: column;z-index: 1;position: relative;background-color: white;}#sk-container-id-4 div.sk-parallel-item:first-child::after {align-self: flex-end;width: 50%;}#sk-container-id-4 div.sk-parallel-item:last-child::after {align-self: flex-start;width: 50%;}#sk-container-id-4 div.sk-parallel-item:only-child::after {width: 0;}#sk-container-id-4 div.sk-dashed-wrapped {border: 1px dashed gray;margin: 0 0.4em 0.5em 0.4em;box-sizing: border-box;padding-bottom: 0.4em;background-color: white;}#sk-container-id-4 div.sk-label label {font-family: monospace;font-weight: bold;display: inline-block;line-height: 1.2em;}#sk-container-id-4 div.sk-label-container {text-align: center;}#sk-container-id-4 div.sk-container {/* jupyter's `normalize.less` sets `[hidden] { display: none; }` but bootstrap.min.css set `[hidden] { display: none !important; }` so we also need the `!important` here to be able to override the default hidden behavior on the sphinx rendered scikit-learn.org. See: https://github.com/scikit-learn/scikit-learn/issues/21755 */display: inline-block !important;position: relative;}#sk-container-id-4 div.sk-text-repr-fallback {display: none;}</style><div id=\"sk-container-id-4\" class=\"sk-top-container\"><div class=\"sk-text-repr-fallback\"><pre>GridSearchCV(cv=5, estimator=GaussianNB(), n_jobs=-1,\n",
              "             param_grid={&#x27;var_smoothing&#x27;: array([1.00000000e+00, 8.11130831e-01, 6.57933225e-01, 5.33669923e-01,\n",
              "       4.32876128e-01, 3.51119173e-01, 2.84803587e-01, 2.31012970e-01,\n",
              "       1.87381742e-01, 1.51991108e-01, 1.23284674e-01, 1.00000000e-01,\n",
              "       8.11130831e-02, 6.57933225e-02, 5.33669923e-02, 4.32876128e-02,\n",
              "       3.51119173e-02, 2.8480358...\n",
              "       1.23284674e-07, 1.00000000e-07, 8.11130831e-08, 6.57933225e-08,\n",
              "       5.33669923e-08, 4.32876128e-08, 3.51119173e-08, 2.84803587e-08,\n",
              "       2.31012970e-08, 1.87381742e-08, 1.51991108e-08, 1.23284674e-08,\n",
              "       1.00000000e-08, 8.11130831e-09, 6.57933225e-09, 5.33669923e-09,\n",
              "       4.32876128e-09, 3.51119173e-09, 2.84803587e-09, 2.31012970e-09,\n",
              "       1.87381742e-09, 1.51991108e-09, 1.23284674e-09, 1.00000000e-09])},\n",
              "             scoring=&#x27;accuracy&#x27;, verbose=2)</pre><b>In a Jupyter environment, please rerun this cell to show the HTML representation or trust the notebook. <br />On GitHub, the HTML representation is unable to render, please try loading this page with nbviewer.org.</b></div><div class=\"sk-container\" hidden><div class=\"sk-item sk-dashed-wrapped\"><div class=\"sk-label-container\"><div class=\"sk-label sk-toggleable\"><input class=\"sk-toggleable__control sk-hidden--visually\" id=\"sk-estimator-id-10\" type=\"checkbox\" ><label for=\"sk-estimator-id-10\" class=\"sk-toggleable__label sk-toggleable__label-arrow\">GridSearchCV</label><div class=\"sk-toggleable__content\"><pre>GridSearchCV(cv=5, estimator=GaussianNB(), n_jobs=-1,\n",
              "             param_grid={&#x27;var_smoothing&#x27;: array([1.00000000e+00, 8.11130831e-01, 6.57933225e-01, 5.33669923e-01,\n",
              "       4.32876128e-01, 3.51119173e-01, 2.84803587e-01, 2.31012970e-01,\n",
              "       1.87381742e-01, 1.51991108e-01, 1.23284674e-01, 1.00000000e-01,\n",
              "       8.11130831e-02, 6.57933225e-02, 5.33669923e-02, 4.32876128e-02,\n",
              "       3.51119173e-02, 2.8480358...\n",
              "       1.23284674e-07, 1.00000000e-07, 8.11130831e-08, 6.57933225e-08,\n",
              "       5.33669923e-08, 4.32876128e-08, 3.51119173e-08, 2.84803587e-08,\n",
              "       2.31012970e-08, 1.87381742e-08, 1.51991108e-08, 1.23284674e-08,\n",
              "       1.00000000e-08, 8.11130831e-09, 6.57933225e-09, 5.33669923e-09,\n",
              "       4.32876128e-09, 3.51119173e-09, 2.84803587e-09, 2.31012970e-09,\n",
              "       1.87381742e-09, 1.51991108e-09, 1.23284674e-09, 1.00000000e-09])},\n",
              "             scoring=&#x27;accuracy&#x27;, verbose=2)</pre></div></div></div><div class=\"sk-parallel\"><div class=\"sk-parallel-item\"><div class=\"sk-item\"><div class=\"sk-label-container\"><div class=\"sk-label sk-toggleable\"><input class=\"sk-toggleable__control sk-hidden--visually\" id=\"sk-estimator-id-11\" type=\"checkbox\" ><label for=\"sk-estimator-id-11\" class=\"sk-toggleable__label sk-toggleable__label-arrow\">estimator: GaussianNB</label><div class=\"sk-toggleable__content\"><pre>GaussianNB()</pre></div></div></div><div class=\"sk-serial\"><div class=\"sk-item\"><div class=\"sk-estimator sk-toggleable\"><input class=\"sk-toggleable__control sk-hidden--visually\" id=\"sk-estimator-id-12\" type=\"checkbox\" ><label for=\"sk-estimator-id-12\" class=\"sk-toggleable__label sk-toggleable__label-arrow\">GaussianNB</label><div class=\"sk-toggleable__content\"><pre>GaussianNB()</pre></div></div></div></div></div></div></div></div></div></div>"
            ]
          },
          "metadata": {},
          "execution_count": 40
        }
      ],
      "source": [
        "nb_gridCV.fit(X_train,y_train)"
      ],
      "id": "d92fc6b9"
    },
    {
      "cell_type": "code",
      "execution_count": 41,
      "metadata": {
        "colab": {
          "base_uri": "https://localhost:8080/"
        },
        "id": "d420fb88",
        "outputId": "58325a0b-76a4-4f9f-aa85-cc8cf62dc2a8"
      },
      "outputs": [
        {
          "output_type": "stream",
          "name": "stdout",
          "text": [
            "{'var_smoothing': 0.12328467394420659}\n",
            "0.6067176870748299\n"
          ]
        }
      ],
      "source": [
        "print(nb_gridCV.best_params_)\n",
        "print(nb_gridCV.best_score_)"
      ],
      "id": "d420fb88"
    },
    {
      "cell_type": "code",
      "execution_count": 42,
      "metadata": {
        "colab": {
          "base_uri": "https://localhost:8080/"
        },
        "id": "294e70fc",
        "outputId": "ddcf2ee0-5cb3-408a-df87-20e7814f9301"
      },
      "outputs": [
        {
          "output_type": "execute_result",
          "data": {
            "text/plain": [
              "0.2962962962962963"
            ]
          },
          "metadata": {},
          "execution_count": 42
        }
      ],
      "source": [
        "nb_best_grid=nb_gridCV.best_estimator_\n",
        "nb_best_grid_score=nb_best_grid.score(X_test,y_test)\n",
        "nb_best_grid_score"
      ],
      "id": "294e70fc"
    },
    {
      "cell_type": "markdown",
      "metadata": {
        "id": "OBRgbNCCv6JS"
      },
      "source": [
        "### ***5. Ensemble Voting Classifier***"
      ],
      "id": "OBRgbNCCv6JS"
    },
    {
      "cell_type": "code",
      "execution_count": 43,
      "metadata": {
        "id": "00430247"
      },
      "outputs": [],
      "source": [
        "estimators=[('RF', rf_best_grid), ('SVC', svc_best_grid), ('KNN', knn_best_grid), ('GNB', nb_best_grid)]\n",
        "eclf=VotingClassifier(estimators=estimators, voting='hard')\n",
        "eclf.fit(X_train,y_train.values.ravel())\n",
        "y_pred=eclf.predict(X_test)"
      ],
      "id": "00430247"
    },
    {
      "cell_type": "code",
      "execution_count": 44,
      "metadata": {
        "colab": {
          "base_uri": "https://localhost:8080/"
        },
        "id": "0f5c8e46",
        "outputId": "dc4ecc7e-8db5-4288-dcdd-c6316c45ef36"
      },
      "outputs": [
        {
          "output_type": "stream",
          "name": "stdout",
          "text": [
            "Ensemble Classifier Train data score: 1.0\n",
            "Ensemble Classifier Test data score: 0.593\n",
            "Ensemble Classifier AUC score: 0.557\n"
          ]
        }
      ],
      "source": [
        "print('Ensemble Classifier Train data score:', round(eclf.score(X_train,y_train),3))\n",
        "print('Ensemble Classifier Test data score:', round(eclf.score(X_test,y_test), 3))\n",
        "print('Ensemble Classifier AUC score:', round(metrics.roc_auc_score(y_test,y_pred), 3))"
      ],
      "id": "0f5c8e46"
    },
    {
      "cell_type": "markdown",
      "metadata": {
        "id": "a81e1a66"
      },
      "source": [
        "### ***Scores Comparison***"
      ],
      "id": "a81e1a66"
    },
    {
      "cell_type": "code",
      "execution_count": 45,
      "metadata": {
        "id": "9c607157"
      },
      "outputs": [],
      "source": [
        "result_fp=pd.DataFrame ({'Random Forest':[0.697,0.630], 'SVC':[0.726, 0.593], 'KNN':[0.693, 0.593],\n",
        "                     'Naive Bayes':[0.607, 0.296], 'Ensemble Voting':[0.992, 0.630]}, index=['Train Data', 'Test Data'])"
      ],
      "id": "9c607157"
    },
    {
      "cell_type": "code",
      "execution_count": 46,
      "metadata": {
        "id": "eqbf7qx0v5BB",
        "outputId": "a275a83b-ffc2-45ef-9163-ddbee137c418",
        "colab": {
          "base_uri": "https://localhost:8080/",
          "height": 112
        }
      },
      "outputs": [
        {
          "output_type": "execute_result",
          "data": {
            "text/plain": [
              "            Random Forest    SVC    KNN  Naive Bayes  Ensemble Voting\n",
              "Train Data          0.697  0.726  0.693        0.607            0.992\n",
              "Test Data           0.630  0.593  0.593        0.296            0.630"
            ],
            "text/html": [
              "\n",
              "  <div id=\"df-84e9be56-cbf1-423a-8cfb-c6eff7bed23e\">\n",
              "    <div class=\"colab-df-container\">\n",
              "      <div>\n",
              "<style scoped>\n",
              "    .dataframe tbody tr th:only-of-type {\n",
              "        vertical-align: middle;\n",
              "    }\n",
              "\n",
              "    .dataframe tbody tr th {\n",
              "        vertical-align: top;\n",
              "    }\n",
              "\n",
              "    .dataframe thead th {\n",
              "        text-align: right;\n",
              "    }\n",
              "</style>\n",
              "<table border=\"1\" class=\"dataframe\">\n",
              "  <thead>\n",
              "    <tr style=\"text-align: right;\">\n",
              "      <th></th>\n",
              "      <th>Random Forest</th>\n",
              "      <th>SVC</th>\n",
              "      <th>KNN</th>\n",
              "      <th>Naive Bayes</th>\n",
              "      <th>Ensemble Voting</th>\n",
              "    </tr>\n",
              "  </thead>\n",
              "  <tbody>\n",
              "    <tr>\n",
              "      <th>Train Data</th>\n",
              "      <td>0.697</td>\n",
              "      <td>0.726</td>\n",
              "      <td>0.693</td>\n",
              "      <td>0.607</td>\n",
              "      <td>0.992</td>\n",
              "    </tr>\n",
              "    <tr>\n",
              "      <th>Test Data</th>\n",
              "      <td>0.630</td>\n",
              "      <td>0.593</td>\n",
              "      <td>0.593</td>\n",
              "      <td>0.296</td>\n",
              "      <td>0.630</td>\n",
              "    </tr>\n",
              "  </tbody>\n",
              "</table>\n",
              "</div>\n",
              "      <button class=\"colab-df-convert\" onclick=\"convertToInteractive('df-84e9be56-cbf1-423a-8cfb-c6eff7bed23e')\"\n",
              "              title=\"Convert this dataframe to an interactive table.\"\n",
              "              style=\"display:none;\">\n",
              "        \n",
              "  <svg xmlns=\"http://www.w3.org/2000/svg\" height=\"24px\"viewBox=\"0 0 24 24\"\n",
              "       width=\"24px\">\n",
              "    <path d=\"M0 0h24v24H0V0z\" fill=\"none\"/>\n",
              "    <path d=\"M18.56 5.44l.94 2.06.94-2.06 2.06-.94-2.06-.94-.94-2.06-.94 2.06-2.06.94zm-11 1L8.5 8.5l.94-2.06 2.06-.94-2.06-.94L8.5 2.5l-.94 2.06-2.06.94zm10 10l.94 2.06.94-2.06 2.06-.94-2.06-.94-.94-2.06-.94 2.06-2.06.94z\"/><path d=\"M17.41 7.96l-1.37-1.37c-.4-.4-.92-.59-1.43-.59-.52 0-1.04.2-1.43.59L10.3 9.45l-7.72 7.72c-.78.78-.78 2.05 0 2.83L4 21.41c.39.39.9.59 1.41.59.51 0 1.02-.2 1.41-.59l7.78-7.78 2.81-2.81c.8-.78.8-2.07 0-2.86zM5.41 20L4 18.59l7.72-7.72 1.47 1.35L5.41 20z\"/>\n",
              "  </svg>\n",
              "      </button>\n",
              "      \n",
              "  <style>\n",
              "    .colab-df-container {\n",
              "      display:flex;\n",
              "      flex-wrap:wrap;\n",
              "      gap: 12px;\n",
              "    }\n",
              "\n",
              "    .colab-df-convert {\n",
              "      background-color: #E8F0FE;\n",
              "      border: none;\n",
              "      border-radius: 50%;\n",
              "      cursor: pointer;\n",
              "      display: none;\n",
              "      fill: #1967D2;\n",
              "      height: 32px;\n",
              "      padding: 0 0 0 0;\n",
              "      width: 32px;\n",
              "    }\n",
              "\n",
              "    .colab-df-convert:hover {\n",
              "      background-color: #E2EBFA;\n",
              "      box-shadow: 0px 1px 2px rgba(60, 64, 67, 0.3), 0px 1px 3px 1px rgba(60, 64, 67, 0.15);\n",
              "      fill: #174EA6;\n",
              "    }\n",
              "\n",
              "    [theme=dark] .colab-df-convert {\n",
              "      background-color: #3B4455;\n",
              "      fill: #D2E3FC;\n",
              "    }\n",
              "\n",
              "    [theme=dark] .colab-df-convert:hover {\n",
              "      background-color: #434B5C;\n",
              "      box-shadow: 0px 1px 3px 1px rgba(0, 0, 0, 0.15);\n",
              "      filter: drop-shadow(0px 1px 2px rgba(0, 0, 0, 0.3));\n",
              "      fill: #FFFFFF;\n",
              "    }\n",
              "  </style>\n",
              "\n",
              "      <script>\n",
              "        const buttonEl =\n",
              "          document.querySelector('#df-84e9be56-cbf1-423a-8cfb-c6eff7bed23e button.colab-df-convert');\n",
              "        buttonEl.style.display =\n",
              "          google.colab.kernel.accessAllowed ? 'block' : 'none';\n",
              "\n",
              "        async function convertToInteractive(key) {\n",
              "          const element = document.querySelector('#df-84e9be56-cbf1-423a-8cfb-c6eff7bed23e');\n",
              "          const dataTable =\n",
              "            await google.colab.kernel.invokeFunction('convertToInteractive',\n",
              "                                                     [key], {});\n",
              "          if (!dataTable) return;\n",
              "\n",
              "          const docLinkHtml = 'Like what you see? Visit the ' +\n",
              "            '<a target=\"_blank\" href=https://colab.research.google.com/notebooks/data_table.ipynb>data table notebook</a>'\n",
              "            + ' to learn more about interactive tables.';\n",
              "          element.innerHTML = '';\n",
              "          dataTable['output_type'] = 'display_data';\n",
              "          await google.colab.output.renderOutput(dataTable, element);\n",
              "          const docLink = document.createElement('div');\n",
              "          docLink.innerHTML = docLinkHtml;\n",
              "          element.appendChild(docLink);\n",
              "        }\n",
              "      </script>\n",
              "    </div>\n",
              "  </div>\n",
              "  "
            ]
          },
          "metadata": {},
          "execution_count": 46
        }
      ],
      "source": [
        "result_fp"
      ],
      "id": "eqbf7qx0v5BB"
    },
    {
      "cell_type": "markdown",
      "metadata": {
        "id": "136fe9f3"
      },
      "source": [
        "### **Method 2: Physiochemical Properties**"
      ],
      "id": "136fe9f3"
    },
    {
      "cell_type": "code",
      "execution_count": 47,
      "metadata": {
        "id": "a9b29aa1"
      },
      "outputs": [],
      "source": [
        "train[['STD_SMILES', 'label']].to_csv('train.smi', sep='\\t', header=None, index=None )\n",
        "test[['STD_SMILES', 'label']].to_csv('test.smi', sep='\\t', header=None, index=None )"
      ],
      "id": "a9b29aa1"
    },
    {
      "cell_type": "markdown",
      "metadata": {
        "id": "dfdce048"
      },
      "source": [
        "### ***Get PaDEL Descriptors***"
      ],
      "id": "dfdce048"
    },
    {
      "cell_type": "code",
      "execution_count": null,
      "metadata": {
        "id": "4ff28b20"
      },
      "outputs": [],
      "source": [
        "padeldescriptor(mol_dir='train.smi', d_file='train-desc.csv', d_2d=True, d_3d=True, maxruntime=10000, waitingjobs=10)"
      ],
      "id": "4ff28b20"
    },
    {
      "cell_type": "code",
      "execution_count": null,
      "metadata": {
        "id": "4b5d66a0"
      },
      "outputs": [],
      "source": [
        "padeldescriptor(mol_dir='test.smi', d_file='test-desc.csv', d_2d=True, d_3d=True, maxruntime=10000, waitingjobs=10)"
      ],
      "id": "4b5d66a0"
    },
    {
      "cell_type": "markdown",
      "metadata": {
        "id": "9c664d92"
      },
      "source": [
        "### ***Train data preprocessing***"
      ],
      "id": "9c664d92"
    },
    {
      "cell_type": "code",
      "execution_count": 50,
      "metadata": {
        "id": "5b0cc589",
        "outputId": "baac1a38-5ca3-42cc-da8d-1b8e5cde4bfe",
        "colab": {
          "base_uri": "https://localhost:8080/",
          "height": 190
        }
      },
      "outputs": [
        {
          "output_type": "stream",
          "name": "stdout",
          "text": [
            "(244, 1876)\n"
          ]
        },
        {
          "output_type": "execute_result",
          "data": {
            "text/plain": [
              "   Name  nAcid   ALogP    ALogp2      AMR       apol  naAromAtom  nAromBond  \\\n",
              "0     1    0.0 -2.0755  4.307700  64.9718  50.405239           6          6   \n",
              "1     1    0.0 -0.2358  0.055602  57.8518  62.145032          12         12   \n",
              "2     1    1.0  1.2406  1.539088  27.0587  40.509309          12         12   \n",
              "\n",
              "   nAtom  nHeavyAtom  ...  P1s  P2s  E1s  E2s  E3s  Ts  As  Vs  Ks  Ds  \n",
              "0     48          25  ...  NaN  NaN  NaN  NaN  NaN NaN NaN NaN NaN NaN  \n",
              "1     51          27  ...  NaN  NaN  NaN  NaN  NaN NaN NaN NaN NaN NaN  \n",
              "2     33          20  ...  NaN  NaN  NaN  NaN  NaN NaN NaN NaN NaN NaN  \n",
              "\n",
              "[3 rows x 1876 columns]"
            ],
            "text/html": [
              "\n",
              "  <div id=\"df-d02e87fa-efb2-4ffd-8d33-7f48ab12e7f2\">\n",
              "    <div class=\"colab-df-container\">\n",
              "      <div>\n",
              "<style scoped>\n",
              "    .dataframe tbody tr th:only-of-type {\n",
              "        vertical-align: middle;\n",
              "    }\n",
              "\n",
              "    .dataframe tbody tr th {\n",
              "        vertical-align: top;\n",
              "    }\n",
              "\n",
              "    .dataframe thead th {\n",
              "        text-align: right;\n",
              "    }\n",
              "</style>\n",
              "<table border=\"1\" class=\"dataframe\">\n",
              "  <thead>\n",
              "    <tr style=\"text-align: right;\">\n",
              "      <th></th>\n",
              "      <th>Name</th>\n",
              "      <th>nAcid</th>\n",
              "      <th>ALogP</th>\n",
              "      <th>ALogp2</th>\n",
              "      <th>AMR</th>\n",
              "      <th>apol</th>\n",
              "      <th>naAromAtom</th>\n",
              "      <th>nAromBond</th>\n",
              "      <th>nAtom</th>\n",
              "      <th>nHeavyAtom</th>\n",
              "      <th>...</th>\n",
              "      <th>P1s</th>\n",
              "      <th>P2s</th>\n",
              "      <th>E1s</th>\n",
              "      <th>E2s</th>\n",
              "      <th>E3s</th>\n",
              "      <th>Ts</th>\n",
              "      <th>As</th>\n",
              "      <th>Vs</th>\n",
              "      <th>Ks</th>\n",
              "      <th>Ds</th>\n",
              "    </tr>\n",
              "  </thead>\n",
              "  <tbody>\n",
              "    <tr>\n",
              "      <th>0</th>\n",
              "      <td>1</td>\n",
              "      <td>0.0</td>\n",
              "      <td>-2.0755</td>\n",
              "      <td>4.307700</td>\n",
              "      <td>64.9718</td>\n",
              "      <td>50.405239</td>\n",
              "      <td>6</td>\n",
              "      <td>6</td>\n",
              "      <td>48</td>\n",
              "      <td>25</td>\n",
              "      <td>...</td>\n",
              "      <td>NaN</td>\n",
              "      <td>NaN</td>\n",
              "      <td>NaN</td>\n",
              "      <td>NaN</td>\n",
              "      <td>NaN</td>\n",
              "      <td>NaN</td>\n",
              "      <td>NaN</td>\n",
              "      <td>NaN</td>\n",
              "      <td>NaN</td>\n",
              "      <td>NaN</td>\n",
              "    </tr>\n",
              "    <tr>\n",
              "      <th>1</th>\n",
              "      <td>1</td>\n",
              "      <td>0.0</td>\n",
              "      <td>-0.2358</td>\n",
              "      <td>0.055602</td>\n",
              "      <td>57.8518</td>\n",
              "      <td>62.145032</td>\n",
              "      <td>12</td>\n",
              "      <td>12</td>\n",
              "      <td>51</td>\n",
              "      <td>27</td>\n",
              "      <td>...</td>\n",
              "      <td>NaN</td>\n",
              "      <td>NaN</td>\n",
              "      <td>NaN</td>\n",
              "      <td>NaN</td>\n",
              "      <td>NaN</td>\n",
              "      <td>NaN</td>\n",
              "      <td>NaN</td>\n",
              "      <td>NaN</td>\n",
              "      <td>NaN</td>\n",
              "      <td>NaN</td>\n",
              "    </tr>\n",
              "    <tr>\n",
              "      <th>2</th>\n",
              "      <td>1</td>\n",
              "      <td>1.0</td>\n",
              "      <td>1.2406</td>\n",
              "      <td>1.539088</td>\n",
              "      <td>27.0587</td>\n",
              "      <td>40.509309</td>\n",
              "      <td>12</td>\n",
              "      <td>12</td>\n",
              "      <td>33</td>\n",
              "      <td>20</td>\n",
              "      <td>...</td>\n",
              "      <td>NaN</td>\n",
              "      <td>NaN</td>\n",
              "      <td>NaN</td>\n",
              "      <td>NaN</td>\n",
              "      <td>NaN</td>\n",
              "      <td>NaN</td>\n",
              "      <td>NaN</td>\n",
              "      <td>NaN</td>\n",
              "      <td>NaN</td>\n",
              "      <td>NaN</td>\n",
              "    </tr>\n",
              "  </tbody>\n",
              "</table>\n",
              "<p>3 rows × 1876 columns</p>\n",
              "</div>\n",
              "      <button class=\"colab-df-convert\" onclick=\"convertToInteractive('df-d02e87fa-efb2-4ffd-8d33-7f48ab12e7f2')\"\n",
              "              title=\"Convert this dataframe to an interactive table.\"\n",
              "              style=\"display:none;\">\n",
              "        \n",
              "  <svg xmlns=\"http://www.w3.org/2000/svg\" height=\"24px\"viewBox=\"0 0 24 24\"\n",
              "       width=\"24px\">\n",
              "    <path d=\"M0 0h24v24H0V0z\" fill=\"none\"/>\n",
              "    <path d=\"M18.56 5.44l.94 2.06.94-2.06 2.06-.94-2.06-.94-.94-2.06-.94 2.06-2.06.94zm-11 1L8.5 8.5l.94-2.06 2.06-.94-2.06-.94L8.5 2.5l-.94 2.06-2.06.94zm10 10l.94 2.06.94-2.06 2.06-.94-2.06-.94-.94-2.06-.94 2.06-2.06.94z\"/><path d=\"M17.41 7.96l-1.37-1.37c-.4-.4-.92-.59-1.43-.59-.52 0-1.04.2-1.43.59L10.3 9.45l-7.72 7.72c-.78.78-.78 2.05 0 2.83L4 21.41c.39.39.9.59 1.41.59.51 0 1.02-.2 1.41-.59l7.78-7.78 2.81-2.81c.8-.78.8-2.07 0-2.86zM5.41 20L4 18.59l7.72-7.72 1.47 1.35L5.41 20z\"/>\n",
              "  </svg>\n",
              "      </button>\n",
              "      \n",
              "  <style>\n",
              "    .colab-df-container {\n",
              "      display:flex;\n",
              "      flex-wrap:wrap;\n",
              "      gap: 12px;\n",
              "    }\n",
              "\n",
              "    .colab-df-convert {\n",
              "      background-color: #E8F0FE;\n",
              "      border: none;\n",
              "      border-radius: 50%;\n",
              "      cursor: pointer;\n",
              "      display: none;\n",
              "      fill: #1967D2;\n",
              "      height: 32px;\n",
              "      padding: 0 0 0 0;\n",
              "      width: 32px;\n",
              "    }\n",
              "\n",
              "    .colab-df-convert:hover {\n",
              "      background-color: #E2EBFA;\n",
              "      box-shadow: 0px 1px 2px rgba(60, 64, 67, 0.3), 0px 1px 3px 1px rgba(60, 64, 67, 0.15);\n",
              "      fill: #174EA6;\n",
              "    }\n",
              "\n",
              "    [theme=dark] .colab-df-convert {\n",
              "      background-color: #3B4455;\n",
              "      fill: #D2E3FC;\n",
              "    }\n",
              "\n",
              "    [theme=dark] .colab-df-convert:hover {\n",
              "      background-color: #434B5C;\n",
              "      box-shadow: 0px 1px 3px 1px rgba(0, 0, 0, 0.15);\n",
              "      filter: drop-shadow(0px 1px 2px rgba(0, 0, 0, 0.3));\n",
              "      fill: #FFFFFF;\n",
              "    }\n",
              "  </style>\n",
              "\n",
              "      <script>\n",
              "        const buttonEl =\n",
              "          document.querySelector('#df-d02e87fa-efb2-4ffd-8d33-7f48ab12e7f2 button.colab-df-convert');\n",
              "        buttonEl.style.display =\n",
              "          google.colab.kernel.accessAllowed ? 'block' : 'none';\n",
              "\n",
              "        async function convertToInteractive(key) {\n",
              "          const element = document.querySelector('#df-d02e87fa-efb2-4ffd-8d33-7f48ab12e7f2');\n",
              "          const dataTable =\n",
              "            await google.colab.kernel.invokeFunction('convertToInteractive',\n",
              "                                                     [key], {});\n",
              "          if (!dataTable) return;\n",
              "\n",
              "          const docLinkHtml = 'Like what you see? Visit the ' +\n",
              "            '<a target=\"_blank\" href=https://colab.research.google.com/notebooks/data_table.ipynb>data table notebook</a>'\n",
              "            + ' to learn more about interactive tables.';\n",
              "          element.innerHTML = '';\n",
              "          dataTable['output_type'] = 'display_data';\n",
              "          await google.colab.output.renderOutput(dataTable, element);\n",
              "          const docLink = document.createElement('div');\n",
              "          docLink.innerHTML = docLinkHtml;\n",
              "          element.appendChild(docLink);\n",
              "        }\n",
              "      </script>\n",
              "    </div>\n",
              "  </div>\n",
              "  "
            ]
          },
          "metadata": {},
          "execution_count": 50
        }
      ],
      "source": [
        "train_desc=pd.read_csv('train-desc.csv')\n",
        "print(train_desc.shape)\n",
        "train_desc.head(3)"
      ],
      "id": "5b0cc589"
    },
    {
      "cell_type": "code",
      "execution_count": null,
      "metadata": {
        "id": "06feda17"
      },
      "outputs": [],
      "source": [
        "train_desc.dropna(axis=1, how='all', inplace=True)\n",
        "train_desc=train_desc.replace([np.inf, -np.inf], np.nan)\n",
        "train_desc=train_desc.fillna(train_desc.mean()).round(3)\n",
        "train_desc=train_desc.replace(np.inf, np.nan)\n",
        "train_desc['gmin']=train_desc['gmin'].fillna(train_desc['gmin'].mean())"
      ],
      "id": "06feda17"
    },
    {
      "cell_type": "code",
      "execution_count": 52,
      "metadata": {
        "id": "5b6a7cbf"
      },
      "outputs": [],
      "source": [
        "scaler=MinMaxScaler()"
      ],
      "id": "5b6a7cbf"
    },
    {
      "cell_type": "code",
      "execution_count": 53,
      "metadata": {
        "id": "e761f553",
        "outputId": "20160daf-6e88-4be0-f2d3-69f44883f4ae",
        "colab": {
          "base_uri": "https://localhost:8080/"
        }
      },
      "outputs": [
        {
          "output_type": "execute_result",
          "data": {
            "text/plain": [
              "array([[0.        , 0.47237632, 0.62143762, ..., 0.49516838, 0.4156782 ,\n",
              "        0.49949907],\n",
              "       [0.        , 0.54608835, 0.03084382, ..., 0.53645037, 0.52030599,\n",
              "        0.5488032 ],\n",
              "       [0.98581726, 0.65094663, 0.41651154, ..., 0.41472872, 0.55528021,\n",
              "        0.42256086],\n",
              "       ...,\n",
              "       [0.        , 0.49847239, 0.44432469, ..., 0.41472872, 0.48832133,\n",
              "        0.34478274],\n",
              "       [0.        , 0.58357415, 0.07678778, ..., 0.3925051 , 0.64464571,\n",
              "        0.44413231],\n",
              "       [0.        , 0.81180598, 0.72170619, ..., 0.47129417, 0.58786806,\n",
              "        0.5102441 ]])"
            ]
          },
          "metadata": {},
          "execution_count": 53
        }
      ],
      "source": [
        "Xtrain=power_transform(train_desc.iloc[0:,1:], method='yeo-johnson')\n",
        "Xtrain=scaler.fit_transform(Xtrain)\n",
        "Xtrain"
      ],
      "id": "e761f553"
    },
    {
      "cell_type": "code",
      "execution_count": 54,
      "metadata": {
        "id": "5ed1cf68",
        "outputId": "194192a8-6288-4512-8554-fda803d6cede",
        "colab": {
          "base_uri": "https://localhost:8080/"
        }
      },
      "outputs": [
        {
          "output_type": "stream",
          "name": "stdout",
          "text": [
            "(244, 1444)\n",
            "(244, 1)\n"
          ]
        }
      ],
      "source": [
        "ytrain=train_desc[['Name']]\n",
        "print(Xtrain.shape)\n",
        "print(ytrain.shape)"
      ],
      "id": "5ed1cf68"
    },
    {
      "cell_type": "markdown",
      "metadata": {
        "id": "d4a215cd"
      },
      "source": [
        "### ***Test Data Preprocessing***"
      ],
      "id": "d4a215cd"
    },
    {
      "cell_type": "code",
      "execution_count": 55,
      "metadata": {
        "id": "86dbb2e5",
        "outputId": "ce02886c-84bd-413f-a7de-6fdf9c057aa3",
        "colab": {
          "base_uri": "https://localhost:8080/",
          "height": 190
        }
      },
      "outputs": [
        {
          "output_type": "stream",
          "name": "stdout",
          "text": [
            "(27, 1876)\n"
          ]
        },
        {
          "output_type": "execute_result",
          "data": {
            "text/plain": [
              "   Name  nAcid   ALogP    ALogp2      AMR       apol  naAromAtom  nAromBond  \\\n",
              "0     1      0  0.1140  0.012996  34.0178  53.510653          16         17   \n",
              "1     1      0 -1.2109  1.466279  33.6479  55.341860          17         19   \n",
              "2     1      1  1.1043  1.219478  33.8626  31.280723           6          6   \n",
              "\n",
              "   nAtom  nHeavyAtom  ...  P1s  P2s  E1s  E2s  E3s  Ts  As  Vs  Ks  Ds  \n",
              "0     46          25  ...  NaN  NaN  NaN  NaN  NaN NaN NaN NaN NaN NaN  \n",
              "1     47          27  ...  NaN  NaN  NaN  NaN  NaN NaN NaN NaN NaN NaN  \n",
              "2     26          15  ...  NaN  NaN  NaN  NaN  NaN NaN NaN NaN NaN NaN  \n",
              "\n",
              "[3 rows x 1876 columns]"
            ],
            "text/html": [
              "\n",
              "  <div id=\"df-16f66440-f974-4078-b6b1-18f71be5d5d8\">\n",
              "    <div class=\"colab-df-container\">\n",
              "      <div>\n",
              "<style scoped>\n",
              "    .dataframe tbody tr th:only-of-type {\n",
              "        vertical-align: middle;\n",
              "    }\n",
              "\n",
              "    .dataframe tbody tr th {\n",
              "        vertical-align: top;\n",
              "    }\n",
              "\n",
              "    .dataframe thead th {\n",
              "        text-align: right;\n",
              "    }\n",
              "</style>\n",
              "<table border=\"1\" class=\"dataframe\">\n",
              "  <thead>\n",
              "    <tr style=\"text-align: right;\">\n",
              "      <th></th>\n",
              "      <th>Name</th>\n",
              "      <th>nAcid</th>\n",
              "      <th>ALogP</th>\n",
              "      <th>ALogp2</th>\n",
              "      <th>AMR</th>\n",
              "      <th>apol</th>\n",
              "      <th>naAromAtom</th>\n",
              "      <th>nAromBond</th>\n",
              "      <th>nAtom</th>\n",
              "      <th>nHeavyAtom</th>\n",
              "      <th>...</th>\n",
              "      <th>P1s</th>\n",
              "      <th>P2s</th>\n",
              "      <th>E1s</th>\n",
              "      <th>E2s</th>\n",
              "      <th>E3s</th>\n",
              "      <th>Ts</th>\n",
              "      <th>As</th>\n",
              "      <th>Vs</th>\n",
              "      <th>Ks</th>\n",
              "      <th>Ds</th>\n",
              "    </tr>\n",
              "  </thead>\n",
              "  <tbody>\n",
              "    <tr>\n",
              "      <th>0</th>\n",
              "      <td>1</td>\n",
              "      <td>0</td>\n",
              "      <td>0.1140</td>\n",
              "      <td>0.012996</td>\n",
              "      <td>34.0178</td>\n",
              "      <td>53.510653</td>\n",
              "      <td>16</td>\n",
              "      <td>17</td>\n",
              "      <td>46</td>\n",
              "      <td>25</td>\n",
              "      <td>...</td>\n",
              "      <td>NaN</td>\n",
              "      <td>NaN</td>\n",
              "      <td>NaN</td>\n",
              "      <td>NaN</td>\n",
              "      <td>NaN</td>\n",
              "      <td>NaN</td>\n",
              "      <td>NaN</td>\n",
              "      <td>NaN</td>\n",
              "      <td>NaN</td>\n",
              "      <td>NaN</td>\n",
              "    </tr>\n",
              "    <tr>\n",
              "      <th>1</th>\n",
              "      <td>1</td>\n",
              "      <td>0</td>\n",
              "      <td>-1.2109</td>\n",
              "      <td>1.466279</td>\n",
              "      <td>33.6479</td>\n",
              "      <td>55.341860</td>\n",
              "      <td>17</td>\n",
              "      <td>19</td>\n",
              "      <td>47</td>\n",
              "      <td>27</td>\n",
              "      <td>...</td>\n",
              "      <td>NaN</td>\n",
              "      <td>NaN</td>\n",
              "      <td>NaN</td>\n",
              "      <td>NaN</td>\n",
              "      <td>NaN</td>\n",
              "      <td>NaN</td>\n",
              "      <td>NaN</td>\n",
              "      <td>NaN</td>\n",
              "      <td>NaN</td>\n",
              "      <td>NaN</td>\n",
              "    </tr>\n",
              "    <tr>\n",
              "      <th>2</th>\n",
              "      <td>1</td>\n",
              "      <td>1</td>\n",
              "      <td>1.1043</td>\n",
              "      <td>1.219478</td>\n",
              "      <td>33.8626</td>\n",
              "      <td>31.280723</td>\n",
              "      <td>6</td>\n",
              "      <td>6</td>\n",
              "      <td>26</td>\n",
              "      <td>15</td>\n",
              "      <td>...</td>\n",
              "      <td>NaN</td>\n",
              "      <td>NaN</td>\n",
              "      <td>NaN</td>\n",
              "      <td>NaN</td>\n",
              "      <td>NaN</td>\n",
              "      <td>NaN</td>\n",
              "      <td>NaN</td>\n",
              "      <td>NaN</td>\n",
              "      <td>NaN</td>\n",
              "      <td>NaN</td>\n",
              "    </tr>\n",
              "  </tbody>\n",
              "</table>\n",
              "<p>3 rows × 1876 columns</p>\n",
              "</div>\n",
              "      <button class=\"colab-df-convert\" onclick=\"convertToInteractive('df-16f66440-f974-4078-b6b1-18f71be5d5d8')\"\n",
              "              title=\"Convert this dataframe to an interactive table.\"\n",
              "              style=\"display:none;\">\n",
              "        \n",
              "  <svg xmlns=\"http://www.w3.org/2000/svg\" height=\"24px\"viewBox=\"0 0 24 24\"\n",
              "       width=\"24px\">\n",
              "    <path d=\"M0 0h24v24H0V0z\" fill=\"none\"/>\n",
              "    <path d=\"M18.56 5.44l.94 2.06.94-2.06 2.06-.94-2.06-.94-.94-2.06-.94 2.06-2.06.94zm-11 1L8.5 8.5l.94-2.06 2.06-.94-2.06-.94L8.5 2.5l-.94 2.06-2.06.94zm10 10l.94 2.06.94-2.06 2.06-.94-2.06-.94-.94-2.06-.94 2.06-2.06.94z\"/><path d=\"M17.41 7.96l-1.37-1.37c-.4-.4-.92-.59-1.43-.59-.52 0-1.04.2-1.43.59L10.3 9.45l-7.72 7.72c-.78.78-.78 2.05 0 2.83L4 21.41c.39.39.9.59 1.41.59.51 0 1.02-.2 1.41-.59l7.78-7.78 2.81-2.81c.8-.78.8-2.07 0-2.86zM5.41 20L4 18.59l7.72-7.72 1.47 1.35L5.41 20z\"/>\n",
              "  </svg>\n",
              "      </button>\n",
              "      \n",
              "  <style>\n",
              "    .colab-df-container {\n",
              "      display:flex;\n",
              "      flex-wrap:wrap;\n",
              "      gap: 12px;\n",
              "    }\n",
              "\n",
              "    .colab-df-convert {\n",
              "      background-color: #E8F0FE;\n",
              "      border: none;\n",
              "      border-radius: 50%;\n",
              "      cursor: pointer;\n",
              "      display: none;\n",
              "      fill: #1967D2;\n",
              "      height: 32px;\n",
              "      padding: 0 0 0 0;\n",
              "      width: 32px;\n",
              "    }\n",
              "\n",
              "    .colab-df-convert:hover {\n",
              "      background-color: #E2EBFA;\n",
              "      box-shadow: 0px 1px 2px rgba(60, 64, 67, 0.3), 0px 1px 3px 1px rgba(60, 64, 67, 0.15);\n",
              "      fill: #174EA6;\n",
              "    }\n",
              "\n",
              "    [theme=dark] .colab-df-convert {\n",
              "      background-color: #3B4455;\n",
              "      fill: #D2E3FC;\n",
              "    }\n",
              "\n",
              "    [theme=dark] .colab-df-convert:hover {\n",
              "      background-color: #434B5C;\n",
              "      box-shadow: 0px 1px 3px 1px rgba(0, 0, 0, 0.15);\n",
              "      filter: drop-shadow(0px 1px 2px rgba(0, 0, 0, 0.3));\n",
              "      fill: #FFFFFF;\n",
              "    }\n",
              "  </style>\n",
              "\n",
              "      <script>\n",
              "        const buttonEl =\n",
              "          document.querySelector('#df-16f66440-f974-4078-b6b1-18f71be5d5d8 button.colab-df-convert');\n",
              "        buttonEl.style.display =\n",
              "          google.colab.kernel.accessAllowed ? 'block' : 'none';\n",
              "\n",
              "        async function convertToInteractive(key) {\n",
              "          const element = document.querySelector('#df-16f66440-f974-4078-b6b1-18f71be5d5d8');\n",
              "          const dataTable =\n",
              "            await google.colab.kernel.invokeFunction('convertToInteractive',\n",
              "                                                     [key], {});\n",
              "          if (!dataTable) return;\n",
              "\n",
              "          const docLinkHtml = 'Like what you see? Visit the ' +\n",
              "            '<a target=\"_blank\" href=https://colab.research.google.com/notebooks/data_table.ipynb>data table notebook</a>'\n",
              "            + ' to learn more about interactive tables.';\n",
              "          element.innerHTML = '';\n",
              "          dataTable['output_type'] = 'display_data';\n",
              "          await google.colab.output.renderOutput(dataTable, element);\n",
              "          const docLink = document.createElement('div');\n",
              "          docLink.innerHTML = docLinkHtml;\n",
              "          element.appendChild(docLink);\n",
              "        }\n",
              "      </script>\n",
              "    </div>\n",
              "  </div>\n",
              "  "
            ]
          },
          "metadata": {},
          "execution_count": 55
        }
      ],
      "source": [
        "test_desc=pd.read_csv('test-desc.csv')\n",
        "print(test_desc.shape)\n",
        "test_desc.head(3)"
      ],
      "id": "86dbb2e5"
    },
    {
      "cell_type": "code",
      "execution_count": 56,
      "metadata": {
        "id": "3a9c0ba1"
      },
      "outputs": [],
      "source": [
        "test_desc.dropna(axis=1, how='all', inplace=True)\n",
        "test_desc=test_desc.round(3)\n",
        "test_desc.dropna(how='any', inplace=True)"
      ],
      "id": "3a9c0ba1"
    },
    {
      "cell_type": "code",
      "execution_count": 57,
      "metadata": {
        "id": "454ecfd1",
        "outputId": "e07780d6-88c0-4498-93f3-f8ac3641d986",
        "colab": {
          "base_uri": "https://localhost:8080/"
        }
      },
      "outputs": [
        {
          "output_type": "execute_result",
          "data": {
            "text/plain": [
              "array([[0.        , 0.5650054 , 0.0094331 , ..., 0.74809095, 0.48845012,\n",
              "        0.66557812],\n",
              "       [0.        , 0.39489114, 0.50663176, ..., 0.70432078, 0.61057944,\n",
              "        0.72723734],\n",
              "       [1.        , 0.69745208, 0.46097294, ..., 0.17168411, 0.40625753,\n",
              "        0.18644029],\n",
              "       ...,\n",
              "       [0.        , 0.52879033, 0.0193748 , ..., 0.70432078, 0.63378708,\n",
              "        0.63458708],\n",
              "       [0.        , 0.32620567, 0.68859394, ..., 0.42769146, 0.51049298,\n",
              "        0.49366965],\n",
              "       [0.        , 0.41825376, 0.42536756, ..., 0.89709254, 0.29212722,\n",
              "        0.69646033]])"
            ]
          },
          "metadata": {},
          "execution_count": 57
        }
      ],
      "source": [
        "Xtest=power_transform(test_desc.iloc[0:,1:], method='yeo-johnson')\n",
        "Xtest=scaler.fit_transform(Xtest)\n",
        "Xtest"
      ],
      "id": "454ecfd1"
    },
    {
      "cell_type": "code",
      "execution_count": 58,
      "metadata": {
        "id": "5aa61dd1",
        "outputId": "7a8faad9-bab6-4314-9d00-791aafce88c2",
        "colab": {
          "base_uri": "https://localhost:8080/"
        }
      },
      "outputs": [
        {
          "output_type": "stream",
          "name": "stdout",
          "text": [
            "(26, 1444)\n",
            "(26, 1)\n"
          ]
        }
      ],
      "source": [
        "ytest=test_desc[['Name']]\n",
        "print(Xtest.shape)\n",
        "print(ytest.shape)"
      ],
      "id": "5aa61dd1"
    },
    {
      "cell_type": "markdown",
      "metadata": {
        "id": "5f54fa78"
      },
      "source": [
        "### ***Build Classifier Models***"
      ],
      "id": "5f54fa78"
    },
    {
      "cell_type": "code",
      "execution_count": 59,
      "metadata": {
        "id": "35a2529b"
      },
      "outputs": [],
      "source": [
        "classifier=[]\n",
        "rf=RandomForestClassifier(random_state=42)\n",
        "classifier.append(rf)\n",
        "svc=SVC(random_state=42)\n",
        "classifier.append(svc)\n",
        "knn=KNeighborsClassifier()\n",
        "classifier.append(knn)\n",
        "nb=GaussianNB()\n",
        "classifier.append(nb)"
      ],
      "id": "35a2529b"
    },
    {
      "cell_type": "code",
      "execution_count": 60,
      "metadata": {
        "id": "f3c3121e"
      },
      "outputs": [],
      "source": [
        "name=['Random Forest', 'SVC', 'KNN', 'Naive Bayes']"
      ],
      "id": "f3c3121e"
    },
    {
      "cell_type": "code",
      "execution_count": 61,
      "metadata": {
        "id": "040281db"
      },
      "outputs": [],
      "source": [
        "parameters=[]\n",
        "rf_param_grid_={'n_estimators': [500,700,900,1000],\n",
        "             'criterion':['entropy', 'gini'],\n",
        "             'max_features':['sqrt','log2'],\n",
        "             'max_depth':[50,60,70,80],\n",
        "             'min_samples_split':[10,20,30],\n",
        "             'min_samples_leaf':[1,5,7],\n",
        "             'bootstrap':[False]}\n",
        "parameters.append(rf_param_grid_)\n",
        "svc_param_grid_ = {'kernel':['linear', 'rbf', 'poly'],\n",
        "                  'C':[0.001, 0.01, 0.1, 1, 10, 100],\n",
        "                  'gamma':[0.0001, 0.001, 0.001, 0.01, 0.1, 1, 10], \n",
        "                  'degree':[2,3,4]}\n",
        "parameters.append(svc_param_grid_)\n",
        "knn_param_grid_ = { 'n_neighbors' : [5,7,9,11,13,15],\n",
        "               'weights' : ['uniform','distance'],\n",
        "               'metric' : ['minkowski','euclidean','manhattan']}\n",
        "parameters.append(knn_param_grid_)\n",
        "nb_param_grid_ = { 'var_smoothing' : np.logspace(0,-9,num=100)}\n",
        "parameters.append(nb_param_grid_)"
      ],
      "id": "040281db"
    },
    {
      "cell_type": "code",
      "execution_count": 62,
      "metadata": {
        "id": "eb1d6302",
        "outputId": "10d8bc59-012e-4564-873a-2a2273498a0f",
        "colab": {
          "base_uri": "https://localhost:8080/"
        }
      },
      "outputs": [
        {
          "output_type": "stream",
          "name": "stderr",
          "text": [
            "\r  0%|          | 0/4 [00:00<?, ?it/s]"
          ]
        },
        {
          "output_type": "stream",
          "name": "stdout",
          "text": [
            "Fitting 5 folds for each of 576 candidates, totalling 2880 fits\n"
          ]
        },
        {
          "output_type": "stream",
          "name": "stderr",
          "text": [
            "\r 25%|██▌       | 1/4 [1:41:32<5:04:38, 6092.79s/it]"
          ]
        },
        {
          "output_type": "stream",
          "name": "stdout",
          "text": [
            "Random Forest Accuracy:\n",
            "Train Data: 0.7335884353741496\n",
            "Test Data: 0.6923076923076923\n",
            "Fitting 5 folds for each of 378 candidates, totalling 1890 fits\n"
          ]
        },
        {
          "output_type": "stream",
          "name": "stderr",
          "text": [
            "\r 50%|█████     | 2/4 [1:42:37<1:24:53, 2546.92s/it]"
          ]
        },
        {
          "output_type": "stream",
          "name": "stdout",
          "text": [
            "SVC Accuracy:\n",
            "Train Data: 0.6761904761904761\n",
            "Test Data: 0.7307692307692307\n",
            "Fitting 5 folds for each of 36 candidates, totalling 180 fits\n"
          ]
        },
        {
          "output_type": "stream",
          "name": "stderr",
          "text": [
            "Exception ignored on calling ctypes callback function: <function ThreadpoolController._find_libraries_with_dl_iterate_phdr.<locals>.match_library_callback at 0x7f5244302040>\n",
            "Traceback (most recent call last):\n",
            "  File \"/usr/local/lib/python3.9/dist-packages/threadpoolctl.py\", line 584, in match_library_callback\n",
            "    self._make_controller_from_path(filepath)\n",
            "  File \"/usr/local/lib/python3.9/dist-packages/threadpoolctl.py\", line 683, in _make_controller_from_path\n",
            "    filepath = _realpath(filepath)\n",
            "  File \"/usr/local/lib/python3.9/dist-packages/threadpoolctl.py\", line 127, in _realpath\n",
            "    return os.path.realpath(filepath)\n",
            "  File \"/usr/lib/python3.9/posixpath.py\", line 393, in realpath\n",
            "    return abspath(path)\n",
            "  File \"/usr/lib/python3.9/posixpath.py\", line 380, in abspath\n",
            "    cwd = os.getcwd()\n",
            "OSError: [Errno 107] Transport endpoint is not connected\n",
            " 75%|███████▌  | 3/4 [1:42:41<23:05, 1385.78s/it]  "
          ]
        },
        {
          "output_type": "stream",
          "name": "stdout",
          "text": [
            "KNN Accuracy:\n",
            "Train Data: 0.7087585034013606\n",
            "Test Data: 0.6538461538461539\n",
            "Fitting 5 folds for each of 100 candidates, totalling 500 fits\n"
          ]
        },
        {
          "output_type": "stream",
          "name": "stderr",
          "text": [
            "100%|██████████| 4/4 [1:42:44<00:00, 1541.18s/it]"
          ]
        },
        {
          "output_type": "stream",
          "name": "stdout",
          "text": [
            "Naive Bayes Accuracy:\n",
            "Train Data: 0.6188775510204081\n",
            "Test Data: 0.6538461538461539\n"
          ]
        },
        {
          "output_type": "stream",
          "name": "stderr",
          "text": [
            "\n"
          ]
        }
      ],
      "source": [
        "from tqdm import tqdm\n",
        "\n",
        "def gridSearchCV(model, name, params, count):\n",
        "    best_models=[]\n",
        "    for i in tqdm(range(0,count)):\n",
        "        model_grid=GridSearchCV(estimator=model[i], param_grid=params[i], scoring='accuracy', cv=5, n_jobs=-1, verbose=2)\n",
        "        model_grid.fit(Xtrain,ytrain.values.ravel())\n",
        "        best_models.append(model_grid.best_estimator_)\n",
        "        print(name[i],'Accuracy:')\n",
        "        print('Train Data:', model_grid.best_score_)\n",
        "        print('Test Data:', model_grid.best_estimator_.score(Xtest,ytest))\n",
        "    return best_models   \n",
        "\n",
        "\n",
        "best_model_list=gridSearchCV(classifier, name, parameters, 4)"
      ],
      "id": "eb1d6302"
    },
    {
      "cell_type": "markdown",
      "metadata": {
        "id": "f97277b9"
      },
      "source": [
        "### ***Ensemble Voting Classifier***"
      ],
      "id": "f97277b9"
    },
    {
      "cell_type": "code",
      "source": [
        "best_model_list"
      ],
      "metadata": {
        "colab": {
          "base_uri": "https://localhost:8080/"
        },
        "id": "kDAJ5aCyJ_EL",
        "outputId": "acd59678-3399-44d8-8235-2c617e831347"
      },
      "id": "kDAJ5aCyJ_EL",
      "execution_count": 69,
      "outputs": [
        {
          "output_type": "execute_result",
          "data": {
            "text/plain": [
              "[RandomForestClassifier(bootstrap=False, max_depth=50, min_samples_leaf=7,\n",
              "                        min_samples_split=30, n_estimators=1000,\n",
              "                        random_state=42),\n",
              " SVC(C=10, degree=2, gamma=0.01, random_state=42),\n",
              " KNeighborsClassifier(n_neighbors=7),\n",
              " GaussianNB(var_smoothing=0.08111308307896872)]"
            ]
          },
          "metadata": {},
          "execution_count": 69
        }
      ]
    },
    {
      "cell_type": "code",
      "execution_count": 71,
      "metadata": {
        "id": "d7309d97"
      },
      "outputs": [],
      "source": [
        "estimators_=[('RF', best_model_list[0]), ('SVC', best_model_list[1]), ('KNN', best_model_list[2]), ('GNB', best_model_list[3])]\n",
        "eclf_=VotingClassifier(estimators=estimators_, voting='hard')\n",
        "eclf_.fit(Xtrain,ytrain.values.ravel())\n",
        "ypred=eclf_.predict(Xtest)"
      ],
      "id": "d7309d97"
    },
    {
      "cell_type": "code",
      "execution_count": 72,
      "metadata": {
        "id": "5a429a9e",
        "colab": {
          "base_uri": "https://localhost:8080/"
        },
        "outputId": "a17c3d1d-79aa-484f-8d2c-6fb9b24d62d2"
      },
      "outputs": [
        {
          "output_type": "stream",
          "name": "stdout",
          "text": [
            "Ensemble Classifier Train data score: 0.951\n",
            "Ensemble Classifier Test data score: 0.692\n",
            "Ensemble Classifier AUC score: 0.675\n"
          ]
        }
      ],
      "source": [
        "print('Ensemble Classifier Train data score:', round(eclf_.score(Xtrain,ytrain),3))\n",
        "print('Ensemble Classifier Test data score:', round(eclf_.score(Xtest,ytest), 3))\n",
        "print('Ensemble Classifier AUC score:', round(metrics.roc_auc_score(ytest,ypred), 3))"
      ],
      "id": "5a429a9e"
    },
    {
      "cell_type": "markdown",
      "metadata": {
        "id": "ee1401ee"
      },
      "source": [
        "### ***Scores Comparison***"
      ],
      "id": "ee1401ee"
    },
    {
      "cell_type": "code",
      "execution_count": 73,
      "metadata": {
        "id": "3aec2f5f"
      },
      "outputs": [],
      "source": [
        "result_desc=pd.DataFrame ({'Random Forest':[0.734,0.692], 'SVC':[0.676, 0.730], 'KNN':[0.709, 0.654],\n",
        "                     'Naive Bayes':[0.619, 0.654], 'Ensemble Voting':[0.951, 0.692]}, index=['Train Data', 'Test Data'])"
      ],
      "id": "3aec2f5f"
    },
    {
      "cell_type": "code",
      "execution_count": 74,
      "metadata": {
        "id": "bfa5b61e",
        "colab": {
          "base_uri": "https://localhost:8080/",
          "height": 112
        },
        "outputId": "f9b7448a-8270-4120-c6ed-4fdda66c4ab1"
      },
      "outputs": [
        {
          "output_type": "execute_result",
          "data": {
            "text/plain": [
              "            Random Forest    SVC    KNN  Naive Bayes  Ensemble Voting\n",
              "Train Data          0.734  0.676  0.709        0.619            0.951\n",
              "Test Data           0.692  0.730  0.654        0.654            0.692"
            ],
            "text/html": [
              "\n",
              "  <div id=\"df-0749f1a0-2ccf-47f2-8652-d065f8e24b57\">\n",
              "    <div class=\"colab-df-container\">\n",
              "      <div>\n",
              "<style scoped>\n",
              "    .dataframe tbody tr th:only-of-type {\n",
              "        vertical-align: middle;\n",
              "    }\n",
              "\n",
              "    .dataframe tbody tr th {\n",
              "        vertical-align: top;\n",
              "    }\n",
              "\n",
              "    .dataframe thead th {\n",
              "        text-align: right;\n",
              "    }\n",
              "</style>\n",
              "<table border=\"1\" class=\"dataframe\">\n",
              "  <thead>\n",
              "    <tr style=\"text-align: right;\">\n",
              "      <th></th>\n",
              "      <th>Random Forest</th>\n",
              "      <th>SVC</th>\n",
              "      <th>KNN</th>\n",
              "      <th>Naive Bayes</th>\n",
              "      <th>Ensemble Voting</th>\n",
              "    </tr>\n",
              "  </thead>\n",
              "  <tbody>\n",
              "    <tr>\n",
              "      <th>Train Data</th>\n",
              "      <td>0.734</td>\n",
              "      <td>0.676</td>\n",
              "      <td>0.709</td>\n",
              "      <td>0.619</td>\n",
              "      <td>0.951</td>\n",
              "    </tr>\n",
              "    <tr>\n",
              "      <th>Test Data</th>\n",
              "      <td>0.692</td>\n",
              "      <td>0.730</td>\n",
              "      <td>0.654</td>\n",
              "      <td>0.654</td>\n",
              "      <td>0.692</td>\n",
              "    </tr>\n",
              "  </tbody>\n",
              "</table>\n",
              "</div>\n",
              "      <button class=\"colab-df-convert\" onclick=\"convertToInteractive('df-0749f1a0-2ccf-47f2-8652-d065f8e24b57')\"\n",
              "              title=\"Convert this dataframe to an interactive table.\"\n",
              "              style=\"display:none;\">\n",
              "        \n",
              "  <svg xmlns=\"http://www.w3.org/2000/svg\" height=\"24px\"viewBox=\"0 0 24 24\"\n",
              "       width=\"24px\">\n",
              "    <path d=\"M0 0h24v24H0V0z\" fill=\"none\"/>\n",
              "    <path d=\"M18.56 5.44l.94 2.06.94-2.06 2.06-.94-2.06-.94-.94-2.06-.94 2.06-2.06.94zm-11 1L8.5 8.5l.94-2.06 2.06-.94-2.06-.94L8.5 2.5l-.94 2.06-2.06.94zm10 10l.94 2.06.94-2.06 2.06-.94-2.06-.94-.94-2.06-.94 2.06-2.06.94z\"/><path d=\"M17.41 7.96l-1.37-1.37c-.4-.4-.92-.59-1.43-.59-.52 0-1.04.2-1.43.59L10.3 9.45l-7.72 7.72c-.78.78-.78 2.05 0 2.83L4 21.41c.39.39.9.59 1.41.59.51 0 1.02-.2 1.41-.59l7.78-7.78 2.81-2.81c.8-.78.8-2.07 0-2.86zM5.41 20L4 18.59l7.72-7.72 1.47 1.35L5.41 20z\"/>\n",
              "  </svg>\n",
              "      </button>\n",
              "      \n",
              "  <style>\n",
              "    .colab-df-container {\n",
              "      display:flex;\n",
              "      flex-wrap:wrap;\n",
              "      gap: 12px;\n",
              "    }\n",
              "\n",
              "    .colab-df-convert {\n",
              "      background-color: #E8F0FE;\n",
              "      border: none;\n",
              "      border-radius: 50%;\n",
              "      cursor: pointer;\n",
              "      display: none;\n",
              "      fill: #1967D2;\n",
              "      height: 32px;\n",
              "      padding: 0 0 0 0;\n",
              "      width: 32px;\n",
              "    }\n",
              "\n",
              "    .colab-df-convert:hover {\n",
              "      background-color: #E2EBFA;\n",
              "      box-shadow: 0px 1px 2px rgba(60, 64, 67, 0.3), 0px 1px 3px 1px rgba(60, 64, 67, 0.15);\n",
              "      fill: #174EA6;\n",
              "    }\n",
              "\n",
              "    [theme=dark] .colab-df-convert {\n",
              "      background-color: #3B4455;\n",
              "      fill: #D2E3FC;\n",
              "    }\n",
              "\n",
              "    [theme=dark] .colab-df-convert:hover {\n",
              "      background-color: #434B5C;\n",
              "      box-shadow: 0px 1px 3px 1px rgba(0, 0, 0, 0.15);\n",
              "      filter: drop-shadow(0px 1px 2px rgba(0, 0, 0, 0.3));\n",
              "      fill: #FFFFFF;\n",
              "    }\n",
              "  </style>\n",
              "\n",
              "      <script>\n",
              "        const buttonEl =\n",
              "          document.querySelector('#df-0749f1a0-2ccf-47f2-8652-d065f8e24b57 button.colab-df-convert');\n",
              "        buttonEl.style.display =\n",
              "          google.colab.kernel.accessAllowed ? 'block' : 'none';\n",
              "\n",
              "        async function convertToInteractive(key) {\n",
              "          const element = document.querySelector('#df-0749f1a0-2ccf-47f2-8652-d065f8e24b57');\n",
              "          const dataTable =\n",
              "            await google.colab.kernel.invokeFunction('convertToInteractive',\n",
              "                                                     [key], {});\n",
              "          if (!dataTable) return;\n",
              "\n",
              "          const docLinkHtml = 'Like what you see? Visit the ' +\n",
              "            '<a target=\"_blank\" href=https://colab.research.google.com/notebooks/data_table.ipynb>data table notebook</a>'\n",
              "            + ' to learn more about interactive tables.';\n",
              "          element.innerHTML = '';\n",
              "          dataTable['output_type'] = 'display_data';\n",
              "          await google.colab.output.renderOutput(dataTable, element);\n",
              "          const docLink = document.createElement('div');\n",
              "          docLink.innerHTML = docLinkHtml;\n",
              "          element.appendChild(docLink);\n",
              "        }\n",
              "      </script>\n",
              "    </div>\n",
              "  </div>\n",
              "  "
            ]
          },
          "metadata": {},
          "execution_count": 74
        }
      ],
      "source": [
        "result_desc"
      ],
      "id": "bfa5b61e"
    }
  ],
  "metadata": {
    "colab": {
      "provenance": []
    },
    "kernelspec": {
      "display_name": "Python 3 (ipykernel)",
      "language": "python",
      "name": "python3"
    },
    "language_info": {
      "codemirror_mode": {
        "name": "ipython",
        "version": 3
      },
      "file_extension": ".py",
      "mimetype": "text/x-python",
      "name": "python",
      "nbconvert_exporter": "python",
      "pygments_lexer": "ipython3",
      "version": "3.7.12"
    }
  },
  "nbformat": 4,
  "nbformat_minor": 5
}
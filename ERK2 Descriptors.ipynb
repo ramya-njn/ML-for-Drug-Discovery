{
 "cells": [
  {
   "cell_type": "markdown",
   "id": "a03d8a78",
   "metadata": {},
   "source": [
    "### Descriptor Feature Selection with RReliefF (Relief for Regression)\n",
    "\n",
    "### Dataset: MAP Kinase ERK2 Bioactivity data from ChEMBL Database"
   ]
  },
  {
   "cell_type": "markdown",
   "id": "00c08af2",
   "metadata": {},
   "source": [
    "### Import Libraries and data file"
   ]
  },
  {
   "cell_type": "code",
   "execution_count": 1,
   "id": "20416c05",
   "metadata": {},
   "outputs": [],
   "source": [
    "# Base libraries\n",
    "import pandas as pd\n",
    "import numpy as np\n",
    "\n",
    "# rdkit\n",
    "from rdkit import Chem\n",
    "from rdkit.Chem import AllChem\n",
    "from rdkit.Chem import Draw\n",
    "from rdkit.Chem.Draw import IPythonConsole\n",
    "from rdkit import rdBase\n",
    "from rdkit.Chem import Descriptors as des\n",
    "from rdkit.Chem.Descriptors import qed\n",
    "from rdkit.Chem import QED\n",
    "\n",
    "# molvs\n",
    "from molvs import standardize_smiles\n",
    "\n",
    "# Data Transformation\n",
    "from sklearn.preprocessing import MinMaxScaler\n",
    "from sklearn.preprocessing import power_transform\n",
    "\n",
    "# Feature Selection\n",
    "import sklearn_relief as sr\n",
    "\n",
    "# Model\n",
    "from sklearn.model_selection import train_test_split\n",
    "from sklearn.ensemble import RandomForestRegressor"
   ]
  },
  {
   "cell_type": "code",
   "execution_count": 2,
   "id": "b510beb7",
   "metadata": {},
   "outputs": [
    {
     "name": "stdout",
     "output_type": "stream",
     "text": [
      "(23306, 45)\n"
     ]
    },
    {
     "data": {
      "text/html": [
       "<div>\n",
       "<style scoped>\n",
       "    .dataframe tbody tr th:only-of-type {\n",
       "        vertical-align: middle;\n",
       "    }\n",
       "\n",
       "    .dataframe tbody tr th {\n",
       "        vertical-align: top;\n",
       "    }\n",
       "\n",
       "    .dataframe thead th {\n",
       "        text-align: right;\n",
       "    }\n",
       "</style>\n",
       "<table border=\"1\" class=\"dataframe\">\n",
       "  <thead>\n",
       "    <tr style=\"text-align: right;\">\n",
       "      <th></th>\n",
       "      <th>Molecule ChEMBL ID</th>\n",
       "      <th>Molecule Name</th>\n",
       "      <th>Molecule Max Phase</th>\n",
       "      <th>Molecular Weight</th>\n",
       "      <th>#RO5 Violations</th>\n",
       "      <th>AlogP</th>\n",
       "      <th>Compound Key</th>\n",
       "      <th>Smiles</th>\n",
       "      <th>Standard Type</th>\n",
       "      <th>Standard Relation</th>\n",
       "      <th>...</th>\n",
       "      <th>Target Name</th>\n",
       "      <th>Target Organism</th>\n",
       "      <th>Target Type</th>\n",
       "      <th>Document ChEMBL ID</th>\n",
       "      <th>Source ID</th>\n",
       "      <th>Source Description</th>\n",
       "      <th>Document Journal</th>\n",
       "      <th>Document Year</th>\n",
       "      <th>Cell ChEMBL ID</th>\n",
       "      <th>Properties</th>\n",
       "    </tr>\n",
       "  </thead>\n",
       "  <tbody>\n",
       "    <tr>\n",
       "      <th>0</th>\n",
       "      <td>CHEMBL440356</td>\n",
       "      <td>NaN</td>\n",
       "      <td>0.0</td>\n",
       "      <td>243.06</td>\n",
       "      <td>0</td>\n",
       "      <td>1.09</td>\n",
       "      <td>2</td>\n",
       "      <td>O=C1CCNC(=O)c2[nH]c(Br)cc21</td>\n",
       "      <td>IC50</td>\n",
       "      <td>'='</td>\n",
       "      <td>...</td>\n",
       "      <td>MAP kinase ERK2</td>\n",
       "      <td>Homo sapiens</td>\n",
       "      <td>SINGLE PROTEIN</td>\n",
       "      <td>CHEMBL1135814</td>\n",
       "      <td>1.0</td>\n",
       "      <td>Scientific Literature</td>\n",
       "      <td>J. Med. Chem.</td>\n",
       "      <td>2002.0</td>\n",
       "      <td>None</td>\n",
       "      <td>NaN</td>\n",
       "    </tr>\n",
       "    <tr>\n",
       "      <th>1</th>\n",
       "      <td>CHEMBL260417</td>\n",
       "      <td>NaN</td>\n",
       "      <td>0.0</td>\n",
       "      <td>373.21</td>\n",
       "      <td>0</td>\n",
       "      <td>3.44</td>\n",
       "      <td>SB-725317</td>\n",
       "      <td>O=C(Nc1n[nH]c2nc(-c3ccc(O)cc3)c(Br)cc12)C1CC1</td>\n",
       "      <td>Inhibition</td>\n",
       "      <td>'='</td>\n",
       "      <td>...</td>\n",
       "      <td>MAP kinase ERK2</td>\n",
       "      <td>Homo sapiens</td>\n",
       "      <td>SINGLE PROTEIN</td>\n",
       "      <td>CHEMBL1961873</td>\n",
       "      <td>16.0</td>\n",
       "      <td>GSK Published Kinase Inhibitor Set</td>\n",
       "      <td>NaN</td>\n",
       "      <td>NaN</td>\n",
       "      <td>None</td>\n",
       "      <td>NaN</td>\n",
       "    </tr>\n",
       "    <tr>\n",
       "      <th>2</th>\n",
       "      <td>CHEMBL213451</td>\n",
       "      <td>NaN</td>\n",
       "      <td>0.0</td>\n",
       "      <td>323.33</td>\n",
       "      <td>0</td>\n",
       "      <td>3.62</td>\n",
       "      <td>43</td>\n",
       "      <td>CCNc1nnc2ccc(-c3ocnc3-c3ccc(F)cc3)cn12</td>\n",
       "      <td>IC50</td>\n",
       "      <td>'&gt;'</td>\n",
       "      <td>...</td>\n",
       "      <td>MAP kinase ERK2</td>\n",
       "      <td>Homo sapiens</td>\n",
       "      <td>SINGLE PROTEIN</td>\n",
       "      <td>CHEMBL1145312</td>\n",
       "      <td>1.0</td>\n",
       "      <td>Scientific Literature</td>\n",
       "      <td>Bioorg. Med. Chem. Lett.</td>\n",
       "      <td>2006.0</td>\n",
       "      <td>None</td>\n",
       "      <td>NaN</td>\n",
       "    </tr>\n",
       "  </tbody>\n",
       "</table>\n",
       "<p>3 rows × 45 columns</p>\n",
       "</div>"
      ],
      "text/plain": [
       "  Molecule ChEMBL ID Molecule Name  Molecule Max Phase Molecular Weight  \\\n",
       "0       CHEMBL440356           NaN                 0.0           243.06   \n",
       "1       CHEMBL260417           NaN                 0.0           373.21   \n",
       "2       CHEMBL213451           NaN                 0.0           323.33   \n",
       "\n",
       "  #RO5 Violations AlogP Compound Key  \\\n",
       "0               0  1.09            2   \n",
       "1               0  3.44    SB-725317   \n",
       "2               0  3.62           43   \n",
       "\n",
       "                                          Smiles Standard Type  \\\n",
       "0                    O=C1CCNC(=O)c2[nH]c(Br)cc21          IC50   \n",
       "1  O=C(Nc1n[nH]c2nc(-c3ccc(O)cc3)c(Br)cc12)C1CC1    Inhibition   \n",
       "2         CCNc1nnc2ccc(-c3ocnc3-c3ccc(F)cc3)cn12          IC50   \n",
       "\n",
       "  Standard Relation  ...      Target Name Target Organism     Target Type  \\\n",
       "0               '='  ...  MAP kinase ERK2    Homo sapiens  SINGLE PROTEIN   \n",
       "1               '='  ...  MAP kinase ERK2    Homo sapiens  SINGLE PROTEIN   \n",
       "2               '>'  ...  MAP kinase ERK2    Homo sapiens  SINGLE PROTEIN   \n",
       "\n",
       "  Document ChEMBL ID Source ID                  Source Description  \\\n",
       "0      CHEMBL1135814       1.0               Scientific Literature   \n",
       "1      CHEMBL1961873      16.0  GSK Published Kinase Inhibitor Set   \n",
       "2      CHEMBL1145312       1.0               Scientific Literature   \n",
       "\n",
       "           Document Journal Document Year Cell ChEMBL ID Properties  \n",
       "0             J. Med. Chem.        2002.0           None        NaN  \n",
       "1                       NaN           NaN           None        NaN  \n",
       "2  Bioorg. Med. Chem. Lett.        2006.0           None        NaN  \n",
       "\n",
       "[3 rows x 45 columns]"
      ]
     },
     "execution_count": 2,
     "metadata": {},
     "output_type": "execute_result"
    }
   ],
   "source": [
    "x=pd.read_csv('erk2.csv')\n",
    "print(x.shape)\n",
    "x.head(3)"
   ]
  },
  {
   "cell_type": "markdown",
   "id": "40e6defd",
   "metadata": {},
   "source": [
    "### Data Preprocessing"
   ]
  },
  {
   "cell_type": "code",
   "execution_count": 3,
   "id": "1af50b8a",
   "metadata": {},
   "outputs": [
    {
     "name": "stdout",
     "output_type": "stream",
     "text": [
      "(18810, 5)\n"
     ]
    },
    {
     "data": {
      "text/html": [
       "<div>\n",
       "<style scoped>\n",
       "    .dataframe tbody tr th:only-of-type {\n",
       "        vertical-align: middle;\n",
       "    }\n",
       "\n",
       "    .dataframe tbody tr th {\n",
       "        vertical-align: top;\n",
       "    }\n",
       "\n",
       "    .dataframe thead th {\n",
       "        text-align: right;\n",
       "    }\n",
       "</style>\n",
       "<table border=\"1\" class=\"dataframe\">\n",
       "  <thead>\n",
       "    <tr style=\"text-align: right;\">\n",
       "      <th></th>\n",
       "      <th>Molecule ChEMBL ID</th>\n",
       "      <th>Smiles</th>\n",
       "      <th>Standard Type</th>\n",
       "      <th>Standard Value</th>\n",
       "      <th>Standard Units</th>\n",
       "    </tr>\n",
       "  </thead>\n",
       "  <tbody>\n",
       "    <tr>\n",
       "      <th>0</th>\n",
       "      <td>CHEMBL440356</td>\n",
       "      <td>O=C1CCNC(=O)c2[nH]c(Br)cc21</td>\n",
       "      <td>IC50</td>\n",
       "      <td>539.0</td>\n",
       "      <td>nM</td>\n",
       "    </tr>\n",
       "    <tr>\n",
       "      <th>2</th>\n",
       "      <td>CHEMBL213451</td>\n",
       "      <td>CCNc1nnc2ccc(-c3ocnc3-c3ccc(F)cc3)cn12</td>\n",
       "      <td>IC50</td>\n",
       "      <td>10000.0</td>\n",
       "      <td>nM</td>\n",
       "    </tr>\n",
       "    <tr>\n",
       "      <th>4</th>\n",
       "      <td>CHEMBL214198</td>\n",
       "      <td>CC(C)c1nnc2ccc(-c3c[nH]nc3-c3cc(F)ccc3F)cn12</td>\n",
       "      <td>IC50</td>\n",
       "      <td>10000.0</td>\n",
       "      <td>nM</td>\n",
       "    </tr>\n",
       "  </tbody>\n",
       "</table>\n",
       "</div>"
      ],
      "text/plain": [
       "  Molecule ChEMBL ID                                        Smiles  \\\n",
       "0       CHEMBL440356                   O=C1CCNC(=O)c2[nH]c(Br)cc21   \n",
       "2       CHEMBL213451        CCNc1nnc2ccc(-c3ocnc3-c3ccc(F)cc3)cn12   \n",
       "4       CHEMBL214198  CC(C)c1nnc2ccc(-c3c[nH]nc3-c3cc(F)ccc3F)cn12   \n",
       "\n",
       "  Standard Type  Standard Value Standard Units  \n",
       "0          IC50           539.0             nM  \n",
       "2          IC50         10000.0             nM  \n",
       "4          IC50         10000.0             nM  "
      ]
     },
     "execution_count": 3,
     "metadata": {},
     "output_type": "execute_result"
    }
   ],
   "source": [
    "x1=x[['Molecule ChEMBL ID','Smiles', 'Standard Type', 'Standard Value','Standard Units']]\n",
    "x1=x1[x1['Standard Units'].str.contains('nM', na=False)]\n",
    "x1.drop_duplicates(keep='first', inplace=True)\n",
    "print(x1.shape)\n",
    "x1.head(3)"
   ]
  },
  {
   "cell_type": "code",
   "execution_count": 4,
   "id": "6c634636",
   "metadata": {},
   "outputs": [
    {
     "data": {
      "text/html": [
       "<div>\n",
       "<style scoped>\n",
       "    .dataframe tbody tr th:only-of-type {\n",
       "        vertical-align: middle;\n",
       "    }\n",
       "\n",
       "    .dataframe tbody tr th {\n",
       "        vertical-align: top;\n",
       "    }\n",
       "\n",
       "    .dataframe thead th {\n",
       "        text-align: right;\n",
       "    }\n",
       "</style>\n",
       "<table border=\"1\" class=\"dataframe\">\n",
       "  <thead>\n",
       "    <tr style=\"text-align: right;\">\n",
       "      <th></th>\n",
       "      <th>Molecule ChEMBL ID</th>\n",
       "      <th>Smiles</th>\n",
       "      <th>Standard Type</th>\n",
       "      <th>Standard Value</th>\n",
       "      <th>Standard Units</th>\n",
       "    </tr>\n",
       "  </thead>\n",
       "  <tbody>\n",
       "    <tr>\n",
       "      <th>False</th>\n",
       "      <td>18810.0</td>\n",
       "      <td>18762</td>\n",
       "      <td>18810.0</td>\n",
       "      <td>18806</td>\n",
       "      <td>18810.0</td>\n",
       "    </tr>\n",
       "    <tr>\n",
       "      <th>True</th>\n",
       "      <td>NaN</td>\n",
       "      <td>48</td>\n",
       "      <td>NaN</td>\n",
       "      <td>4</td>\n",
       "      <td>NaN</td>\n",
       "    </tr>\n",
       "  </tbody>\n",
       "</table>\n",
       "</div>"
      ],
      "text/plain": [
       "       Molecule ChEMBL ID  Smiles  Standard Type  Standard Value  \\\n",
       "False             18810.0   18762        18810.0           18806   \n",
       "True                  NaN      48            NaN               4   \n",
       "\n",
       "       Standard Units  \n",
       "False         18810.0  \n",
       "True              NaN  "
      ]
     },
     "execution_count": 4,
     "metadata": {},
     "output_type": "execute_result"
    }
   ],
   "source": [
    "x1.isnull().apply(pd.value_counts)"
   ]
  },
  {
   "cell_type": "code",
   "execution_count": 5,
   "id": "1c7930c3",
   "metadata": {},
   "outputs": [
    {
     "name": "stdout",
     "output_type": "stream",
     "text": [
      "(18758, 5)\n"
     ]
    }
   ],
   "source": [
    "x1.dropna(inplace=True)\n",
    "print(x1.shape)"
   ]
  },
  {
   "cell_type": "code",
   "execution_count": 6,
   "id": "f2946b69",
   "metadata": {},
   "outputs": [
    {
     "name": "stdout",
     "output_type": "stream",
     "text": [
      "(17739, 3)\n"
     ]
    },
    {
     "data": {
      "text/html": [
       "<div>\n",
       "<style scoped>\n",
       "    .dataframe tbody tr th:only-of-type {\n",
       "        vertical-align: middle;\n",
       "    }\n",
       "\n",
       "    .dataframe tbody tr th {\n",
       "        vertical-align: top;\n",
       "    }\n",
       "\n",
       "    .dataframe thead th {\n",
       "        text-align: right;\n",
       "    }\n",
       "</style>\n",
       "<table border=\"1\" class=\"dataframe\">\n",
       "  <thead>\n",
       "    <tr style=\"text-align: right;\">\n",
       "      <th></th>\n",
       "      <th>Molecule ChEMBL ID</th>\n",
       "      <th>Smiles</th>\n",
       "      <th>New Std_value</th>\n",
       "    </tr>\n",
       "  </thead>\n",
       "  <tbody>\n",
       "    <tr>\n",
       "      <th>0</th>\n",
       "      <td>CHEMBL4868141</td>\n",
       "      <td>Nc1ncc(-c2ccc(NS(=O)(=O)C3CC3)cc2OC2CCCCC2)cc1...</td>\n",
       "      <td>-29600.00000</td>\n",
       "    </tr>\n",
       "    <tr>\n",
       "      <th>1</th>\n",
       "      <td>CHEMBL4115001</td>\n",
       "      <td>Nc1ncc([C@@H]2CC[C@@H](O)[C@H](O)C2)nc1-c1ccc(...</td>\n",
       "      <td>0.00431</td>\n",
       "    </tr>\n",
       "    <tr>\n",
       "      <th>2</th>\n",
       "      <td>CHEMBL4111166</td>\n",
       "      <td>NC[C@@H](NC(=O)c1ccc(-c2nc([C@@H]3CC[C@@H](O)[...</td>\n",
       "      <td>0.00500</td>\n",
       "    </tr>\n",
       "  </tbody>\n",
       "</table>\n",
       "</div>"
      ],
      "text/plain": [
       "  Molecule ChEMBL ID                                             Smiles  \\\n",
       "0      CHEMBL4868141  Nc1ncc(-c2ccc(NS(=O)(=O)C3CC3)cc2OC2CCCCC2)cc1...   \n",
       "1      CHEMBL4115001  Nc1ncc([C@@H]2CC[C@@H](O)[C@H](O)C2)nc1-c1ccc(...   \n",
       "2      CHEMBL4111166  NC[C@@H](NC(=O)c1ccc(-c2nc([C@@H]3CC[C@@H](O)[...   \n",
       "\n",
       "   New Std_value  \n",
       "0   -29600.00000  \n",
       "1        0.00431  \n",
       "2        0.00500  "
      ]
     },
     "execution_count": 6,
     "metadata": {},
     "output_type": "execute_result"
    }
   ],
   "source": [
    "x1['New Std_value']=x1.groupby('Molecule ChEMBL ID')['Standard Value'].transform('mean')\n",
    "x1.drop_duplicates('Molecule ChEMBL ID', inplace=True)\n",
    "x1=x1.drop(['Standard Type', 'Standard Value', 'Standard Units'], axis=1)\n",
    "x1=x1.sort_values('New Std_value').reset_index(drop=True)\n",
    "print(x1.shape)\n",
    "x1.head(3)"
   ]
  },
  {
   "cell_type": "code",
   "execution_count": 7,
   "id": "c0d63e53",
   "metadata": {},
   "outputs": [],
   "source": [
    "std_smiles=[standardize_smiles(smi) for smi in x1['Smiles']]\n",
    "std_smiles_df=pd.DataFrame(std_smiles, columns=['Std_Smiles'])"
   ]
  },
  {
   "cell_type": "code",
   "execution_count": 8,
   "id": "538247d2",
   "metadata": {},
   "outputs": [
    {
     "name": "stdout",
     "output_type": "stream",
     "text": [
      "(17739, 3)\n"
     ]
    },
    {
     "data": {
      "text/html": [
       "<div>\n",
       "<style scoped>\n",
       "    .dataframe tbody tr th:only-of-type {\n",
       "        vertical-align: middle;\n",
       "    }\n",
       "\n",
       "    .dataframe tbody tr th {\n",
       "        vertical-align: top;\n",
       "    }\n",
       "\n",
       "    .dataframe thead th {\n",
       "        text-align: right;\n",
       "    }\n",
       "</style>\n",
       "<table border=\"1\" class=\"dataframe\">\n",
       "  <thead>\n",
       "    <tr style=\"text-align: right;\">\n",
       "      <th></th>\n",
       "      <th>Molecule ChEMBL ID</th>\n",
       "      <th>New Std_value</th>\n",
       "      <th>Std_Smiles</th>\n",
       "    </tr>\n",
       "  </thead>\n",
       "  <tbody>\n",
       "    <tr>\n",
       "      <th>0</th>\n",
       "      <td>CHEMBL4868141</td>\n",
       "      <td>-29600.00000</td>\n",
       "      <td>Nc1ncc(-c2ccc(NS(=O)(=O)C3CC3)cc2OC2CCCCC2)cc1...</td>\n",
       "    </tr>\n",
       "    <tr>\n",
       "      <th>1</th>\n",
       "      <td>CHEMBL4115001</td>\n",
       "      <td>0.00431</td>\n",
       "      <td>Nc1ncc([C@@H]2CC[C@@H](O)[C@H](O)C2)nc1-c1ccc(...</td>\n",
       "    </tr>\n",
       "    <tr>\n",
       "      <th>2</th>\n",
       "      <td>CHEMBL4111166</td>\n",
       "      <td>0.00500</td>\n",
       "      <td>NC[C@@H](NC(=O)c1ccc(-c2nc([C@@H]3CC[C@@H](O)[...</td>\n",
       "    </tr>\n",
       "  </tbody>\n",
       "</table>\n",
       "</div>"
      ],
      "text/plain": [
       "  Molecule ChEMBL ID  New Std_value  \\\n",
       "0      CHEMBL4868141   -29600.00000   \n",
       "1      CHEMBL4115001        0.00431   \n",
       "2      CHEMBL4111166        0.00500   \n",
       "\n",
       "                                          Std_Smiles  \n",
       "0  Nc1ncc(-c2ccc(NS(=O)(=O)C3CC3)cc2OC2CCCCC2)cc1...  \n",
       "1  Nc1ncc([C@@H]2CC[C@@H](O)[C@H](O)C2)nc1-c1ccc(...  \n",
       "2  NC[C@@H](NC(=O)c1ccc(-c2nc([C@@H]3CC[C@@H](O)[...  "
      ]
     },
     "execution_count": 8,
     "metadata": {},
     "output_type": "execute_result"
    }
   ],
   "source": [
    "x2=pd.concat([x1[['Molecule ChEMBL ID', 'New Std_value']], std_smiles_df], axis=1)\n",
    "print(x2.shape)\n",
    "x2.head(3)"
   ]
  },
  {
   "cell_type": "markdown",
   "id": "0055f106",
   "metadata": {},
   "source": [
    "### Label Actives and Inactives"
   ]
  },
  {
   "cell_type": "code",
   "execution_count": 9,
   "id": "d3a1e416",
   "metadata": {},
   "outputs": [
    {
     "data": {
      "text/html": [
       "<div>\n",
       "<style scoped>\n",
       "    .dataframe tbody tr th:only-of-type {\n",
       "        vertical-align: middle;\n",
       "    }\n",
       "\n",
       "    .dataframe tbody tr th {\n",
       "        vertical-align: top;\n",
       "    }\n",
       "\n",
       "    .dataframe thead th {\n",
       "        text-align: right;\n",
       "    }\n",
       "</style>\n",
       "<table border=\"1\" class=\"dataframe\">\n",
       "  <thead>\n",
       "    <tr style=\"text-align: right;\">\n",
       "      <th></th>\n",
       "      <th>Molecule ChEMBL ID</th>\n",
       "      <th>New Std_value</th>\n",
       "      <th>Std_Smiles</th>\n",
       "      <th>Label</th>\n",
       "    </tr>\n",
       "  </thead>\n",
       "  <tbody>\n",
       "    <tr>\n",
       "      <th>0</th>\n",
       "      <td>CHEMBL4868141</td>\n",
       "      <td>-29600.00000</td>\n",
       "      <td>Nc1ncc(-c2ccc(NS(=O)(=O)C3CC3)cc2OC2CCCCC2)cc1...</td>\n",
       "      <td>1</td>\n",
       "    </tr>\n",
       "    <tr>\n",
       "      <th>1</th>\n",
       "      <td>CHEMBL4115001</td>\n",
       "      <td>0.00431</td>\n",
       "      <td>Nc1ncc([C@@H]2CC[C@@H](O)[C@H](O)C2)nc1-c1ccc(...</td>\n",
       "      <td>1</td>\n",
       "    </tr>\n",
       "    <tr>\n",
       "      <th>2</th>\n",
       "      <td>CHEMBL4111166</td>\n",
       "      <td>0.00500</td>\n",
       "      <td>NC[C@@H](NC(=O)c1ccc(-c2nc([C@@H]3CC[C@@H](O)[...</td>\n",
       "      <td>1</td>\n",
       "    </tr>\n",
       "  </tbody>\n",
       "</table>\n",
       "</div>"
      ],
      "text/plain": [
       "  Molecule ChEMBL ID  New Std_value  \\\n",
       "0      CHEMBL4868141   -29600.00000   \n",
       "1      CHEMBL4115001        0.00431   \n",
       "2      CHEMBL4111166        0.00500   \n",
       "\n",
       "                                          Std_Smiles  Label  \n",
       "0  Nc1ncc(-c2ccc(NS(=O)(=O)C3CC3)cc2OC2CCCCC2)cc1...      1  \n",
       "1  Nc1ncc([C@@H]2CC[C@@H](O)[C@H](O)C2)nc1-c1ccc(...      1  \n",
       "2  NC[C@@H](NC(=O)c1ccc(-c2nc([C@@H]3CC[C@@H](O)[...      1  "
      ]
     },
     "execution_count": 9,
     "metadata": {},
     "output_type": "execute_result"
    }
   ],
   "source": [
    "x2['Label']=x2['New Std_value'].apply(lambda x: 1 if x <=10000 else 0)\n",
    "x2.head(3)"
   ]
  },
  {
   "cell_type": "code",
   "execution_count": 10,
   "id": "630c73a6",
   "metadata": {},
   "outputs": [
    {
     "data": {
      "text/plain": [
       "0    10534\n",
       "1     7205\n",
       "Name: Label, dtype: int64"
      ]
     },
     "execution_count": 10,
     "metadata": {},
     "output_type": "execute_result"
    }
   ],
   "source": [
    "x2['Label'].value_counts()"
   ]
  },
  {
   "cell_type": "code",
   "execution_count": 11,
   "id": "27280c48",
   "metadata": {},
   "outputs": [],
   "source": [
    "x2[['Std_Smiles','New Std_value']].to_csv('erk2_regression.smi', sep='\\t', index=None, header=None)"
   ]
  },
  {
   "cell_type": "markdown",
   "id": "6965291f",
   "metadata": {},
   "source": [
    "### RDKit Descriptors"
   ]
  },
  {
   "cell_type": "code",
   "execution_count": 12,
   "id": "e769a86c",
   "metadata": {},
   "outputs": [],
   "source": [
    "supplier=Chem.SmilesMolSupplier('erk2_regression.smi', delimiter='\\t', titleLine=False)"
   ]
  },
  {
   "cell_type": "code",
   "execution_count": 13,
   "id": "75802ef6",
   "metadata": {},
   "outputs": [],
   "source": [
    "qed, ExactMolWt, MolLogP, TPSA, numHA, numHD, Std_Value = [],[],[],[],[],[],[] \n",
    "\n",
    "for i,mol in enumerate(supplier):\n",
    "    molH=Chem.AddHs(mol)\n",
    "    qed.append(des.qed(molH))\n",
    "    ExactMolWt.append(des.ExactMolWt(molH))\n",
    "    MolLogP.append(des.MolLogP(molH))\n",
    "    TPSA.append(des.TPSA(molH))\n",
    "    numHA.append(des.NumHAcceptors(molH))\n",
    "    numHD.append(des.NumHDonors(molH))\n",
    "    Std_Value.append(mol.GetProp('_Name'))"
   ]
  },
  {
   "cell_type": "code",
   "execution_count": 14,
   "id": "f23a725e",
   "metadata": {},
   "outputs": [
    {
     "data": {
      "text/html": [
       "<div>\n",
       "<style scoped>\n",
       "    .dataframe tbody tr th:only-of-type {\n",
       "        vertical-align: middle;\n",
       "    }\n",
       "\n",
       "    .dataframe tbody tr th {\n",
       "        vertical-align: top;\n",
       "    }\n",
       "\n",
       "    .dataframe thead th {\n",
       "        text-align: right;\n",
       "    }\n",
       "</style>\n",
       "<table border=\"1\" class=\"dataframe\">\n",
       "  <thead>\n",
       "    <tr style=\"text-align: right;\">\n",
       "      <th></th>\n",
       "      <th>qed</th>\n",
       "      <th>ExactMolWt</th>\n",
       "      <th>MolLogP</th>\n",
       "      <th>TPSA</th>\n",
       "      <th>numHA</th>\n",
       "      <th>numHD</th>\n",
       "      <th>Std_Value</th>\n",
       "    </tr>\n",
       "  </thead>\n",
       "  <tbody>\n",
       "    <tr>\n",
       "      <th>0</th>\n",
       "      <td>0.397743</td>\n",
       "      <td>532.214427</td>\n",
       "      <td>4.8993</td>\n",
       "      <td>123.41</td>\n",
       "      <td>6</td>\n",
       "      <td>3</td>\n",
       "      <td>-29600.0</td>\n",
       "    </tr>\n",
       "    <tr>\n",
       "      <th>1</th>\n",
       "      <td>0.270421</td>\n",
       "      <td>610.088860</td>\n",
       "      <td>3.0613</td>\n",
       "      <td>141.59</td>\n",
       "      <td>7</td>\n",
       "      <td>5</td>\n",
       "      <td>0.00431</td>\n",
       "    </tr>\n",
       "    <tr>\n",
       "      <th>2</th>\n",
       "      <td>0.312455</td>\n",
       "      <td>611.100508</td>\n",
       "      <td>4.0049</td>\n",
       "      <td>127.15</td>\n",
       "      <td>6</td>\n",
       "      <td>4</td>\n",
       "      <td>0.005</td>\n",
       "    </tr>\n",
       "    <tr>\n",
       "      <th>3</th>\n",
       "      <td>0.270421</td>\n",
       "      <td>610.088860</td>\n",
       "      <td>3.0613</td>\n",
       "      <td>141.59</td>\n",
       "      <td>7</td>\n",
       "      <td>5</td>\n",
       "      <td>0.0055</td>\n",
       "    </tr>\n",
       "    <tr>\n",
       "      <th>4</th>\n",
       "      <td>0.381566</td>\n",
       "      <td>579.094279</td>\n",
       "      <td>3.9324</td>\n",
       "      <td>116.15</td>\n",
       "      <td>6</td>\n",
       "      <td>3</td>\n",
       "      <td>0.00612</td>\n",
       "    </tr>\n",
       "  </tbody>\n",
       "</table>\n",
       "</div>"
      ],
      "text/plain": [
       "        qed  ExactMolWt  MolLogP    TPSA  numHA  numHD Std_Value\n",
       "0  0.397743  532.214427   4.8993  123.41      6      3  -29600.0\n",
       "1  0.270421  610.088860   3.0613  141.59      7      5   0.00431\n",
       "2  0.312455  611.100508   4.0049  127.15      6      4     0.005\n",
       "3  0.270421  610.088860   3.0613  141.59      7      5    0.0055\n",
       "4  0.381566  579.094279   3.9324  116.15      6      3   0.00612"
      ]
     },
     "execution_count": 14,
     "metadata": {},
     "output_type": "execute_result"
    }
   ],
   "source": [
    "descriptors=list(zip(qed, ExactMolWt, MolLogP, TPSA, numHA, numHD, Std_Value))\n",
    "desc_df=pd.DataFrame(descriptors, columns=['qed', 'ExactMolWt', 'MolLogP', 'TPSA', 'numHA', 'numHD', 'Std_Value'])\n",
    "desc_df.head()"
   ]
  },
  {
   "cell_type": "markdown",
   "id": "1a72486f",
   "metadata": {},
   "source": [
    "### Scale data"
   ]
  },
  {
   "cell_type": "code",
   "execution_count": 15,
   "id": "6c0488d4",
   "metadata": {},
   "outputs": [],
   "source": [
    "scaler=MinMaxScaler()"
   ]
  },
  {
   "cell_type": "code",
   "execution_count": 16,
   "id": "1539694e",
   "metadata": {},
   "outputs": [
    {
     "name": "stdout",
     "output_type": "stream",
     "text": [
      "(17739, 7)\n"
     ]
    },
    {
     "data": {
      "text/plain": [
       "array([[0.36294761, 0.44200627, 0.471274  , ..., 0.29132204, 0.30335564,\n",
       "        0.        ],\n",
       "       [0.235572  , 0.47427127, 0.37697699, ..., 0.31987807, 0.39631998,\n",
       "        0.46405025],\n",
       "       [0.27675052, 0.47466669, 0.42383281, ..., 0.29132204, 0.35427354,\n",
       "        0.46405025],\n",
       "       ...,\n",
       "       [0.81397936, 0.26098163, 0.30936194, ..., 0.13907291, 0.14892822,\n",
       "        0.61418504],\n",
       "       [0.81397936, 0.26098163, 0.30936194, ..., 0.13907291, 0.14892822,\n",
       "        0.61418504],\n",
       "       [0.72939581, 0.36289692, 0.34293624, ..., 0.26003151, 0.23858206,\n",
       "        1.        ]])"
      ]
     },
     "execution_count": 16,
     "metadata": {},
     "output_type": "execute_result"
    }
   ],
   "source": [
    "scaledData=power_transform(desc_df, method='yeo-johnson')\n",
    "scaledData=scaler.fit_transform(scaledData)\n",
    "print(scaledData.shape)\n",
    "scaledData"
   ]
  },
  {
   "cell_type": "code",
   "execution_count": 17,
   "id": "04d52c48",
   "metadata": {},
   "outputs": [
    {
     "data": {
      "text/html": [
       "<div>\n",
       "<style scoped>\n",
       "    .dataframe tbody tr th:only-of-type {\n",
       "        vertical-align: middle;\n",
       "    }\n",
       "\n",
       "    .dataframe tbody tr th {\n",
       "        vertical-align: top;\n",
       "    }\n",
       "\n",
       "    .dataframe thead tr th {\n",
       "        text-align: left;\n",
       "    }\n",
       "</style>\n",
       "<table border=\"1\" class=\"dataframe\">\n",
       "  <thead>\n",
       "    <tr>\n",
       "      <th></th>\n",
       "      <th>qed</th>\n",
       "      <th>ExactMolWt</th>\n",
       "      <th>MolLogP</th>\n",
       "      <th>TPSA</th>\n",
       "      <th>numHA</th>\n",
       "      <th>numHD</th>\n",
       "    </tr>\n",
       "  </thead>\n",
       "  <tbody>\n",
       "    <tr>\n",
       "      <th>0</th>\n",
       "      <td>0.362948</td>\n",
       "      <td>0.442006</td>\n",
       "      <td>0.471274</td>\n",
       "      <td>0.269596</td>\n",
       "      <td>0.291322</td>\n",
       "      <td>0.303356</td>\n",
       "    </tr>\n",
       "    <tr>\n",
       "      <th>1</th>\n",
       "      <td>0.235572</td>\n",
       "      <td>0.474271</td>\n",
       "      <td>0.376977</td>\n",
       "      <td>0.288866</td>\n",
       "      <td>0.319878</td>\n",
       "      <td>0.396320</td>\n",
       "    </tr>\n",
       "    <tr>\n",
       "      <th>2</th>\n",
       "      <td>0.276751</td>\n",
       "      <td>0.474667</td>\n",
       "      <td>0.423833</td>\n",
       "      <td>0.273680</td>\n",
       "      <td>0.291322</td>\n",
       "      <td>0.354274</td>\n",
       "    </tr>\n",
       "  </tbody>\n",
       "</table>\n",
       "</div>"
      ],
      "text/plain": [
       "        qed ExactMolWt   MolLogP      TPSA     numHA     numHD\n",
       "0  0.362948   0.442006  0.471274  0.269596  0.291322  0.303356\n",
       "1  0.235572   0.474271  0.376977  0.288866  0.319878  0.396320\n",
       "2  0.276751   0.474667  0.423833  0.273680  0.291322  0.354274"
      ]
     },
     "execution_count": 17,
     "metadata": {},
     "output_type": "execute_result"
    }
   ],
   "source": [
    "scaledData_df=pd.DataFrame(scaledData, columns=[['qed', 'ExactMolWt', 'MolLogP', 'TPSA', 'numHA', 'numHD', 'Std_Value']])\n",
    "Features=scaledData_df[['qed', 'ExactMolWt', 'MolLogP', 'TPSA', 'numHA', 'numHD']]\n",
    "Features.head(3)"
   ]
  },
  {
   "cell_type": "markdown",
   "id": "3ab25072",
   "metadata": {},
   "source": [
    "### Apply RRelief algorithim and deduce feature importance"
   ]
  },
  {
   "cell_type": "code",
   "execution_count": 18,
   "id": "8799f76c",
   "metadata": {},
   "outputs": [
    {
     "name": "stdout",
     "output_type": "stream",
     "text": [
      "(17739, 6)\n",
      "(17739, 1)\n"
     ]
    }
   ],
   "source": [
    "X=scaledData[:,0:6]\n",
    "y=scaledData[:,6:7]\n",
    "print(X.shape)\n",
    "print(y.shape)"
   ]
  },
  {
   "cell_type": "code",
   "execution_count": 19,
   "id": "85f9ce46",
   "metadata": {},
   "outputs": [],
   "source": [
    "X_train, X_test, y_train, y_test = train_test_split(X, y, test_size=0.30, random_state=42)"
   ]
  },
  {
   "cell_type": "code",
   "execution_count": 20,
   "id": "e9cb5127",
   "metadata": {},
   "outputs": [],
   "source": [
    "RR=sr.RReliefF(n_features=6)\n",
    "feature_importance=RR.fit_transform(X_train,y_train.ravel())"
   ]
  },
  {
   "cell_type": "code",
   "execution_count": 21,
   "id": "de4abd8c",
   "metadata": {},
   "outputs": [
    {
     "data": {
      "text/plain": [
       "array([[0.44847002, 0.28354096, 0.24823155, 0.23858206, 0.39383239,\n",
       "        0.4786291 ],\n",
       "       [0.33834123, 0.18507858, 0.54182413, 0.23858206, 0.26003151,\n",
       "        0.2917241 ],\n",
       "       [0.35492335, 0.22425825, 0.66658793, 0.30335564, 0.22521192,\n",
       "        0.34950285],\n",
       "       ...,\n",
       "       [0.39198836, 0.1463276 , 0.73896931, 0.        , 0.22521192,\n",
       "        0.2979378 ],\n",
       "       [0.32192046, 0.26736139, 0.44866298, 0.35427354, 0.29132204,\n",
       "        0.35987208],\n",
       "       [0.39074898, 0.23887791, 0.38717001, 0.23858206, 0.29132204,\n",
       "        0.37888239]])"
      ]
     },
     "execution_count": 21,
     "metadata": {},
     "output_type": "execute_result"
    }
   ],
   "source": [
    "feature_importance"
   ]
  },
  {
   "cell_type": "code",
   "execution_count": 22,
   "id": "062f4b8d",
   "metadata": {},
   "outputs": [
    {
     "data": {
      "text/html": [
       "<div>\n",
       "<style scoped>\n",
       "    .dataframe tbody tr th:only-of-type {\n",
       "        vertical-align: middle;\n",
       "    }\n",
       "\n",
       "    .dataframe tbody tr th {\n",
       "        vertical-align: top;\n",
       "    }\n",
       "\n",
       "    .dataframe thead th {\n",
       "        text-align: right;\n",
       "    }\n",
       "</style>\n",
       "<table border=\"1\" class=\"dataframe\">\n",
       "  <thead>\n",
       "    <tr style=\"text-align: right;\">\n",
       "      <th></th>\n",
       "      <th>1</th>\n",
       "      <th>2</th>\n",
       "      <th>3</th>\n",
       "      <th>4</th>\n",
       "      <th>5</th>\n",
       "      <th>6</th>\n",
       "    </tr>\n",
       "  </thead>\n",
       "  <tbody>\n",
       "    <tr>\n",
       "      <th>0</th>\n",
       "      <td>0.448470</td>\n",
       "      <td>0.283541</td>\n",
       "      <td>0.248232</td>\n",
       "      <td>0.238582</td>\n",
       "      <td>0.393832</td>\n",
       "      <td>0.478629</td>\n",
       "    </tr>\n",
       "    <tr>\n",
       "      <th>1</th>\n",
       "      <td>0.338341</td>\n",
       "      <td>0.185079</td>\n",
       "      <td>0.541824</td>\n",
       "      <td>0.238582</td>\n",
       "      <td>0.260032</td>\n",
       "      <td>0.291724</td>\n",
       "    </tr>\n",
       "    <tr>\n",
       "      <th>2</th>\n",
       "      <td>0.354923</td>\n",
       "      <td>0.224258</td>\n",
       "      <td>0.666588</td>\n",
       "      <td>0.303356</td>\n",
       "      <td>0.225212</td>\n",
       "      <td>0.349503</td>\n",
       "    </tr>\n",
       "  </tbody>\n",
       "</table>\n",
       "</div>"
      ],
      "text/plain": [
       "          1         2         3         4         5         6\n",
       "0  0.448470  0.283541  0.248232  0.238582  0.393832  0.478629\n",
       "1  0.338341  0.185079  0.541824  0.238582  0.260032  0.291724\n",
       "2  0.354923  0.224258  0.666588  0.303356  0.225212  0.349503"
      ]
     },
     "execution_count": 22,
     "metadata": {},
     "output_type": "execute_result"
    }
   ],
   "source": [
    "feature_importance_df=pd.DataFrame(feature_importance, columns=['1','2','3','4','5','6'])\n",
    "feature_importance_df.head(3)"
   ]
  },
  {
   "cell_type": "code",
   "execution_count": 23,
   "id": "95e78de3",
   "metadata": {},
   "outputs": [
    {
     "data": {
      "text/html": [
       "<div>\n",
       "<style scoped>\n",
       "    .dataframe tbody tr th:only-of-type {\n",
       "        vertical-align: middle;\n",
       "    }\n",
       "\n",
       "    .dataframe tbody tr th {\n",
       "        vertical-align: top;\n",
       "    }\n",
       "\n",
       "    .dataframe thead tr th {\n",
       "        text-align: left;\n",
       "    }\n",
       "</style>\n",
       "<table border=\"1\" class=\"dataframe\">\n",
       "  <thead>\n",
       "    <tr>\n",
       "      <th></th>\n",
       "      <th>qed</th>\n",
       "      <th>ExactMolWt</th>\n",
       "      <th>MolLogP</th>\n",
       "      <th>TPSA</th>\n",
       "      <th>numHA</th>\n",
       "      <th>numHD</th>\n",
       "    </tr>\n",
       "  </thead>\n",
       "  <tbody>\n",
       "    <tr>\n",
       "      <th>0</th>\n",
       "      <td>0.248232</td>\n",
       "      <td>0.478629</td>\n",
       "      <td>0.448470</td>\n",
       "      <td>0.283541</td>\n",
       "      <td>0.393832</td>\n",
       "      <td>0.238582</td>\n",
       "    </tr>\n",
       "    <tr>\n",
       "      <th>1</th>\n",
       "      <td>0.541824</td>\n",
       "      <td>0.291724</td>\n",
       "      <td>0.338341</td>\n",
       "      <td>0.185079</td>\n",
       "      <td>0.260032</td>\n",
       "      <td>0.238582</td>\n",
       "    </tr>\n",
       "    <tr>\n",
       "      <th>2</th>\n",
       "      <td>0.666588</td>\n",
       "      <td>0.349503</td>\n",
       "      <td>0.354923</td>\n",
       "      <td>0.224258</td>\n",
       "      <td>0.225212</td>\n",
       "      <td>0.303356</td>\n",
       "    </tr>\n",
       "  </tbody>\n",
       "</table>\n",
       "</div>"
      ],
      "text/plain": [
       "        qed ExactMolWt   MolLogP      TPSA     numHA     numHD\n",
       "0  0.248232   0.478629  0.448470  0.283541  0.393832  0.238582\n",
       "1  0.541824   0.291724  0.338341  0.185079  0.260032  0.238582\n",
       "2  0.666588   0.349503  0.354923  0.224258  0.225212  0.303356"
      ]
     },
     "execution_count": 23,
     "metadata": {},
     "output_type": "execute_result"
    }
   ],
   "source": [
    "Xtrain_features=pd.DataFrame(X_train, columns=[['qed', 'ExactMolWt', 'MolLogP', 'TPSA', 'numHA', 'numHD']])\n",
    "Xtrain_features.head(3)"
   ]
  },
  {
   "cell_type": "markdown",
   "id": "53fc3e4b",
   "metadata": {},
   "source": [
    "Feature importance from most to least important: \n",
    "1-->MolLogP, 2-->TPSA, 3-->qed, 4-->numHD, 5-->numHA, 6-->ExactMolWt"
   ]
  }
 ],
 "metadata": {
  "kernelspec": {
   "display_name": "Python 3 (ipykernel)",
   "language": "python",
   "name": "python3"
  },
  "language_info": {
   "codemirror_mode": {
    "name": "ipython",
    "version": 3
   },
   "file_extension": ".py",
   "mimetype": "text/x-python",
   "name": "python",
   "nbconvert_exporter": "python",
   "pygments_lexer": "ipython3",
   "version": "3.7.12"
  }
 },
 "nbformat": 4,
 "nbformat_minor": 5
}

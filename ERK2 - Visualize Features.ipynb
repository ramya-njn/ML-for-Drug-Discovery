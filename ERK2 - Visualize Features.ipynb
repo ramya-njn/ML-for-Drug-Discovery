{
 "cells": [
  {
   "cell_type": "markdown",
   "id": "ea2f954d",
   "metadata": {},
   "source": [
    "### Visualize Features of Active Molecules using Random Forest Classifier \n",
    "###  Database: Bioactivity data MAP Kinase ERK2 from ChEMBL"
   ]
  },
  {
   "cell_type": "markdown",
   "id": "7043680b",
   "metadata": {},
   "source": [
    "### Import Libraries and read file"
   ]
  },
  {
   "cell_type": "code",
   "execution_count": 1,
   "id": "44e5300a",
   "metadata": {},
   "outputs": [],
   "source": [
    "import pandas as pd\n",
    "import numpy as np\n",
    "\n",
    "from rdkit import Chem\n",
    "from rdkit.Chem import AllChem\n",
    "from rdkit import rdBase\n",
    "from rdkit.Chem import Draw\n",
    "from rdkit.Chem.Draw import IPythonConsole\n",
    "from molvs import standardize_smiles\n",
    "\n",
    "from sklearn.model_selection import train_test_split\n",
    "from sklearn.ensemble import RandomForestClassifier\n",
    "from sklearn.metrics import roc_auc_score"
   ]
  },
  {
   "cell_type": "code",
   "execution_count": 2,
   "id": "827b408a",
   "metadata": {},
   "outputs": [
    {
     "data": {
      "text/html": [
       "<div>\n",
       "<style scoped>\n",
       "    .dataframe tbody tr th:only-of-type {\n",
       "        vertical-align: middle;\n",
       "    }\n",
       "\n",
       "    .dataframe tbody tr th {\n",
       "        vertical-align: top;\n",
       "    }\n",
       "\n",
       "    .dataframe thead th {\n",
       "        text-align: right;\n",
       "    }\n",
       "</style>\n",
       "<table border=\"1\" class=\"dataframe\">\n",
       "  <thead>\n",
       "    <tr style=\"text-align: right;\">\n",
       "      <th></th>\n",
       "      <th>Molecule ChEMBL ID</th>\n",
       "      <th>Molecule Name</th>\n",
       "      <th>Molecule Max Phase</th>\n",
       "      <th>Molecular Weight</th>\n",
       "      <th>#RO5 Violations</th>\n",
       "      <th>AlogP</th>\n",
       "      <th>Compound Key</th>\n",
       "      <th>Smiles</th>\n",
       "      <th>Standard Type</th>\n",
       "      <th>Standard Relation</th>\n",
       "      <th>...</th>\n",
       "      <th>Target Name</th>\n",
       "      <th>Target Organism</th>\n",
       "      <th>Target Type</th>\n",
       "      <th>Document ChEMBL ID</th>\n",
       "      <th>Source ID</th>\n",
       "      <th>Source Description</th>\n",
       "      <th>Document Journal</th>\n",
       "      <th>Document Year</th>\n",
       "      <th>Cell ChEMBL ID</th>\n",
       "      <th>Properties</th>\n",
       "    </tr>\n",
       "  </thead>\n",
       "  <tbody>\n",
       "    <tr>\n",
       "      <th>0</th>\n",
       "      <td>CHEMBL440356</td>\n",
       "      <td>NaN</td>\n",
       "      <td>0.0</td>\n",
       "      <td>243.06</td>\n",
       "      <td>0</td>\n",
       "      <td>1.09</td>\n",
       "      <td>2</td>\n",
       "      <td>O=C1CCNC(=O)c2[nH]c(Br)cc21</td>\n",
       "      <td>IC50</td>\n",
       "      <td>'='</td>\n",
       "      <td>...</td>\n",
       "      <td>MAP kinase ERK2</td>\n",
       "      <td>Homo sapiens</td>\n",
       "      <td>SINGLE PROTEIN</td>\n",
       "      <td>CHEMBL1135814</td>\n",
       "      <td>1.0</td>\n",
       "      <td>Scientific Literature</td>\n",
       "      <td>J. Med. Chem.</td>\n",
       "      <td>2002.0</td>\n",
       "      <td>None</td>\n",
       "      <td>NaN</td>\n",
       "    </tr>\n",
       "    <tr>\n",
       "      <th>1</th>\n",
       "      <td>CHEMBL260417</td>\n",
       "      <td>NaN</td>\n",
       "      <td>0.0</td>\n",
       "      <td>373.21</td>\n",
       "      <td>0</td>\n",
       "      <td>3.44</td>\n",
       "      <td>SB-725317</td>\n",
       "      <td>O=C(Nc1n[nH]c2nc(-c3ccc(O)cc3)c(Br)cc12)C1CC1</td>\n",
       "      <td>Inhibition</td>\n",
       "      <td>'='</td>\n",
       "      <td>...</td>\n",
       "      <td>MAP kinase ERK2</td>\n",
       "      <td>Homo sapiens</td>\n",
       "      <td>SINGLE PROTEIN</td>\n",
       "      <td>CHEMBL1961873</td>\n",
       "      <td>16.0</td>\n",
       "      <td>GSK Published Kinase Inhibitor Set</td>\n",
       "      <td>NaN</td>\n",
       "      <td>NaN</td>\n",
       "      <td>None</td>\n",
       "      <td>NaN</td>\n",
       "    </tr>\n",
       "  </tbody>\n",
       "</table>\n",
       "<p>2 rows × 45 columns</p>\n",
       "</div>"
      ],
      "text/plain": [
       "  Molecule ChEMBL ID Molecule Name  Molecule Max Phase Molecular Weight  \\\n",
       "0       CHEMBL440356           NaN                 0.0           243.06   \n",
       "1       CHEMBL260417           NaN                 0.0           373.21   \n",
       "\n",
       "  #RO5 Violations AlogP Compound Key  \\\n",
       "0               0  1.09            2   \n",
       "1               0  3.44    SB-725317   \n",
       "\n",
       "                                          Smiles Standard Type  \\\n",
       "0                    O=C1CCNC(=O)c2[nH]c(Br)cc21          IC50   \n",
       "1  O=C(Nc1n[nH]c2nc(-c3ccc(O)cc3)c(Br)cc12)C1CC1    Inhibition   \n",
       "\n",
       "  Standard Relation  ...      Target Name Target Organism     Target Type  \\\n",
       "0               '='  ...  MAP kinase ERK2    Homo sapiens  SINGLE PROTEIN   \n",
       "1               '='  ...  MAP kinase ERK2    Homo sapiens  SINGLE PROTEIN   \n",
       "\n",
       "  Document ChEMBL ID Source ID                  Source Description  \\\n",
       "0      CHEMBL1135814       1.0               Scientific Literature   \n",
       "1      CHEMBL1961873      16.0  GSK Published Kinase Inhibitor Set   \n",
       "\n",
       "   Document Journal Document Year Cell ChEMBL ID Properties  \n",
       "0     J. Med. Chem.        2002.0           None        NaN  \n",
       "1               NaN           NaN           None        NaN  \n",
       "\n",
       "[2 rows x 45 columns]"
      ]
     },
     "execution_count": 2,
     "metadata": {},
     "output_type": "execute_result"
    }
   ],
   "source": [
    "x=pd.read_csv('erk2.csv')\n",
    "x.head(2)"
   ]
  },
  {
   "cell_type": "markdown",
   "id": "9e980098",
   "metadata": {},
   "source": [
    "### Data preprocessing"
   ]
  },
  {
   "cell_type": "code",
   "execution_count": 3,
   "id": "b4cd38fb",
   "metadata": {},
   "outputs": [
    {
     "name": "stdout",
     "output_type": "stream",
     "text": [
      "(18810, 5)\n"
     ]
    },
    {
     "data": {
      "text/html": [
       "<div>\n",
       "<style scoped>\n",
       "    .dataframe tbody tr th:only-of-type {\n",
       "        vertical-align: middle;\n",
       "    }\n",
       "\n",
       "    .dataframe tbody tr th {\n",
       "        vertical-align: top;\n",
       "    }\n",
       "\n",
       "    .dataframe thead th {\n",
       "        text-align: right;\n",
       "    }\n",
       "</style>\n",
       "<table border=\"1\" class=\"dataframe\">\n",
       "  <thead>\n",
       "    <tr style=\"text-align: right;\">\n",
       "      <th></th>\n",
       "      <th>Molecule ChEMBL ID</th>\n",
       "      <th>Smiles</th>\n",
       "      <th>Standard Type</th>\n",
       "      <th>Standard Value</th>\n",
       "      <th>Standard Units</th>\n",
       "    </tr>\n",
       "  </thead>\n",
       "  <tbody>\n",
       "    <tr>\n",
       "      <th>0</th>\n",
       "      <td>CHEMBL440356</td>\n",
       "      <td>O=C1CCNC(=O)c2[nH]c(Br)cc21</td>\n",
       "      <td>IC50</td>\n",
       "      <td>539.0</td>\n",
       "      <td>nM</td>\n",
       "    </tr>\n",
       "    <tr>\n",
       "      <th>2</th>\n",
       "      <td>CHEMBL213451</td>\n",
       "      <td>CCNc1nnc2ccc(-c3ocnc3-c3ccc(F)cc3)cn12</td>\n",
       "      <td>IC50</td>\n",
       "      <td>10000.0</td>\n",
       "      <td>nM</td>\n",
       "    </tr>\n",
       "  </tbody>\n",
       "</table>\n",
       "</div>"
      ],
      "text/plain": [
       "  Molecule ChEMBL ID                                  Smiles Standard Type  \\\n",
       "0       CHEMBL440356             O=C1CCNC(=O)c2[nH]c(Br)cc21          IC50   \n",
       "2       CHEMBL213451  CCNc1nnc2ccc(-c3ocnc3-c3ccc(F)cc3)cn12          IC50   \n",
       "\n",
       "   Standard Value Standard Units  \n",
       "0           539.0             nM  \n",
       "2         10000.0             nM  "
      ]
     },
     "execution_count": 3,
     "metadata": {},
     "output_type": "execute_result"
    }
   ],
   "source": [
    "x1=x[['Molecule ChEMBL ID', 'Smiles', 'Standard Type', 'Standard Value','Standard Units']]\n",
    "x1=x1[x1['Standard Units'].str.contains('nM', na=False)]\n",
    "x1.drop_duplicates(inplace=True)\n",
    "print(x1.shape)\n",
    "x1.head(2)"
   ]
  },
  {
   "cell_type": "code",
   "execution_count": 4,
   "id": "7ecd8193",
   "metadata": {},
   "outputs": [
    {
     "data": {
      "text/html": [
       "<div>\n",
       "<style scoped>\n",
       "    .dataframe tbody tr th:only-of-type {\n",
       "        vertical-align: middle;\n",
       "    }\n",
       "\n",
       "    .dataframe tbody tr th {\n",
       "        vertical-align: top;\n",
       "    }\n",
       "\n",
       "    .dataframe thead th {\n",
       "        text-align: right;\n",
       "    }\n",
       "</style>\n",
       "<table border=\"1\" class=\"dataframe\">\n",
       "  <thead>\n",
       "    <tr style=\"text-align: right;\">\n",
       "      <th></th>\n",
       "      <th>Molecule ChEMBL ID</th>\n",
       "      <th>Smiles</th>\n",
       "      <th>Standard Type</th>\n",
       "      <th>Standard Value</th>\n",
       "      <th>Standard Units</th>\n",
       "    </tr>\n",
       "  </thead>\n",
       "  <tbody>\n",
       "    <tr>\n",
       "      <th>False</th>\n",
       "      <td>18810.0</td>\n",
       "      <td>18762</td>\n",
       "      <td>18810.0</td>\n",
       "      <td>18806</td>\n",
       "      <td>18810.0</td>\n",
       "    </tr>\n",
       "    <tr>\n",
       "      <th>True</th>\n",
       "      <td>NaN</td>\n",
       "      <td>48</td>\n",
       "      <td>NaN</td>\n",
       "      <td>4</td>\n",
       "      <td>NaN</td>\n",
       "    </tr>\n",
       "  </tbody>\n",
       "</table>\n",
       "</div>"
      ],
      "text/plain": [
       "       Molecule ChEMBL ID  Smiles  Standard Type  Standard Value  \\\n",
       "False             18810.0   18762        18810.0           18806   \n",
       "True                  NaN      48            NaN               4   \n",
       "\n",
       "       Standard Units  \n",
       "False         18810.0  \n",
       "True              NaN  "
      ]
     },
     "execution_count": 4,
     "metadata": {},
     "output_type": "execute_result"
    }
   ],
   "source": [
    "x1.isnull().apply(pd.value_counts)"
   ]
  },
  {
   "cell_type": "code",
   "execution_count": 5,
   "id": "d948ec3c",
   "metadata": {},
   "outputs": [
    {
     "data": {
      "text/plain": [
       "(18758, 5)"
      ]
     },
     "execution_count": 5,
     "metadata": {},
     "output_type": "execute_result"
    }
   ],
   "source": [
    "x1.dropna(inplace=True)\n",
    "x1.shape"
   ]
  },
  {
   "cell_type": "code",
   "execution_count": 6,
   "id": "75a3d571",
   "metadata": {},
   "outputs": [
    {
     "name": "stdout",
     "output_type": "stream",
     "text": [
      "(17739, 3)\n"
     ]
    },
    {
     "data": {
      "text/html": [
       "<div>\n",
       "<style scoped>\n",
       "    .dataframe tbody tr th:only-of-type {\n",
       "        vertical-align: middle;\n",
       "    }\n",
       "\n",
       "    .dataframe tbody tr th {\n",
       "        vertical-align: top;\n",
       "    }\n",
       "\n",
       "    .dataframe thead th {\n",
       "        text-align: right;\n",
       "    }\n",
       "</style>\n",
       "<table border=\"1\" class=\"dataframe\">\n",
       "  <thead>\n",
       "    <tr style=\"text-align: right;\">\n",
       "      <th></th>\n",
       "      <th>Molecule ChEMBL ID</th>\n",
       "      <th>Smiles</th>\n",
       "      <th>New Std_value</th>\n",
       "    </tr>\n",
       "  </thead>\n",
       "  <tbody>\n",
       "    <tr>\n",
       "      <th>0</th>\n",
       "      <td>CHEMBL4868141</td>\n",
       "      <td>Nc1ncc(-c2ccc(NS(=O)(=O)C3CC3)cc2OC2CCCCC2)cc1...</td>\n",
       "      <td>-29600.00000</td>\n",
       "    </tr>\n",
       "    <tr>\n",
       "      <th>1</th>\n",
       "      <td>CHEMBL4115001</td>\n",
       "      <td>Nc1ncc([C@@H]2CC[C@@H](O)[C@H](O)C2)nc1-c1ccc(...</td>\n",
       "      <td>0.00431</td>\n",
       "    </tr>\n",
       "    <tr>\n",
       "      <th>2</th>\n",
       "      <td>CHEMBL4111166</td>\n",
       "      <td>NC[C@@H](NC(=O)c1ccc(-c2nc([C@@H]3CC[C@@H](O)[...</td>\n",
       "      <td>0.00500</td>\n",
       "    </tr>\n",
       "  </tbody>\n",
       "</table>\n",
       "</div>"
      ],
      "text/plain": [
       "  Molecule ChEMBL ID                                             Smiles  \\\n",
       "0      CHEMBL4868141  Nc1ncc(-c2ccc(NS(=O)(=O)C3CC3)cc2OC2CCCCC2)cc1...   \n",
       "1      CHEMBL4115001  Nc1ncc([C@@H]2CC[C@@H](O)[C@H](O)C2)nc1-c1ccc(...   \n",
       "2      CHEMBL4111166  NC[C@@H](NC(=O)c1ccc(-c2nc([C@@H]3CC[C@@H](O)[...   \n",
       "\n",
       "   New Std_value  \n",
       "0   -29600.00000  \n",
       "1        0.00431  \n",
       "2        0.00500  "
      ]
     },
     "execution_count": 6,
     "metadata": {},
     "output_type": "execute_result"
    }
   ],
   "source": [
    "x1['New Std_value']=x1.groupby('Molecule ChEMBL ID')['Standard Value'].transform('mean')\n",
    "x1=x1.drop_duplicates('Molecule ChEMBL ID', keep='first')\n",
    "x1=x1.sort_values('New Std_value', ascending=True).reset_index(drop=True)\n",
    "x1=x1.drop(['Standard Type', 'Standard Value', 'Standard Units'], axis=1)\n",
    "print(x1.shape)\n",
    "x1.head(3)"
   ]
  },
  {
   "cell_type": "markdown",
   "id": "ca165524",
   "metadata": {},
   "source": [
    "### Seggregate data into Actives (Label = 1)and Inactives (Label = 0)"
   ]
  },
  {
   "cell_type": "code",
   "execution_count": 7,
   "id": "f54e2a61",
   "metadata": {},
   "outputs": [
    {
     "data": {
      "text/html": [
       "<div>\n",
       "<style scoped>\n",
       "    .dataframe tbody tr th:only-of-type {\n",
       "        vertical-align: middle;\n",
       "    }\n",
       "\n",
       "    .dataframe tbody tr th {\n",
       "        vertical-align: top;\n",
       "    }\n",
       "\n",
       "    .dataframe thead th {\n",
       "        text-align: right;\n",
       "    }\n",
       "</style>\n",
       "<table border=\"1\" class=\"dataframe\">\n",
       "  <thead>\n",
       "    <tr style=\"text-align: right;\">\n",
       "      <th></th>\n",
       "      <th>Molecule ChEMBL ID</th>\n",
       "      <th>Smiles</th>\n",
       "      <th>New Std_value</th>\n",
       "      <th>Label</th>\n",
       "    </tr>\n",
       "  </thead>\n",
       "  <tbody>\n",
       "    <tr>\n",
       "      <th>0</th>\n",
       "      <td>CHEMBL4868141</td>\n",
       "      <td>Nc1ncc(-c2ccc(NS(=O)(=O)C3CC3)cc2OC2CCCCC2)cc1...</td>\n",
       "      <td>-29600.00000</td>\n",
       "      <td>1</td>\n",
       "    </tr>\n",
       "    <tr>\n",
       "      <th>1</th>\n",
       "      <td>CHEMBL4115001</td>\n",
       "      <td>Nc1ncc([C@@H]2CC[C@@H](O)[C@H](O)C2)nc1-c1ccc(...</td>\n",
       "      <td>0.00431</td>\n",
       "      <td>1</td>\n",
       "    </tr>\n",
       "    <tr>\n",
       "      <th>2</th>\n",
       "      <td>CHEMBL4111166</td>\n",
       "      <td>NC[C@@H](NC(=O)c1ccc(-c2nc([C@@H]3CC[C@@H](O)[...</td>\n",
       "      <td>0.00500</td>\n",
       "      <td>1</td>\n",
       "    </tr>\n",
       "    <tr>\n",
       "      <th>3</th>\n",
       "      <td>CHEMBL3904235</td>\n",
       "      <td>Nc1ncc([C@H]2CC[C@H](O)[C@@H](O)C2)nc1-c1ccc(C...</td>\n",
       "      <td>0.00550</td>\n",
       "      <td>1</td>\n",
       "    </tr>\n",
       "    <tr>\n",
       "      <th>4</th>\n",
       "      <td>CHEMBL3980387</td>\n",
       "      <td>NC[C@@H](NC(=O)c1ccc(-c2nc(C3CCOCC3)cnc2N)cc1F...</td>\n",
       "      <td>0.00612</td>\n",
       "      <td>1</td>\n",
       "    </tr>\n",
       "  </tbody>\n",
       "</table>\n",
       "</div>"
      ],
      "text/plain": [
       "  Molecule ChEMBL ID                                             Smiles  \\\n",
       "0      CHEMBL4868141  Nc1ncc(-c2ccc(NS(=O)(=O)C3CC3)cc2OC2CCCCC2)cc1...   \n",
       "1      CHEMBL4115001  Nc1ncc([C@@H]2CC[C@@H](O)[C@H](O)C2)nc1-c1ccc(...   \n",
       "2      CHEMBL4111166  NC[C@@H](NC(=O)c1ccc(-c2nc([C@@H]3CC[C@@H](O)[...   \n",
       "3      CHEMBL3904235  Nc1ncc([C@H]2CC[C@H](O)[C@@H](O)C2)nc1-c1ccc(C...   \n",
       "4      CHEMBL3980387  NC[C@@H](NC(=O)c1ccc(-c2nc(C3CCOCC3)cnc2N)cc1F...   \n",
       "\n",
       "   New Std_value  Label  \n",
       "0   -29600.00000      1  \n",
       "1        0.00431      1  \n",
       "2        0.00500      1  \n",
       "3        0.00550      1  \n",
       "4        0.00612      1  "
      ]
     },
     "execution_count": 7,
     "metadata": {},
     "output_type": "execute_result"
    }
   ],
   "source": [
    "x1['Label']=x1['New Std_value'].apply(lambda x: 1 if x <=10000 else 0)\n",
    "x1.head()"
   ]
  },
  {
   "cell_type": "code",
   "execution_count": 8,
   "id": "71527068",
   "metadata": {},
   "outputs": [
    {
     "data": {
      "text/plain": [
       "0    10534\n",
       "1     7205\n",
       "Name: Label, dtype: int64"
      ]
     },
     "execution_count": 8,
     "metadata": {},
     "output_type": "execute_result"
    }
   ],
   "source": [
    "x1['Label'].value_counts()"
   ]
  },
  {
   "cell_type": "markdown",
   "id": "f59a8b01",
   "metadata": {},
   "source": [
    "### Standardize Smiles"
   ]
  },
  {
   "cell_type": "code",
   "execution_count": 9,
   "id": "8f8d3322",
   "metadata": {},
   "outputs": [],
   "source": [
    "std_smiles=[standardize_smiles(smi) for smi in x1['Smiles'] if smi is not None]"
   ]
  },
  {
   "cell_type": "code",
   "execution_count": 10,
   "id": "8d08bc0c",
   "metadata": {},
   "outputs": [
    {
     "name": "stdout",
     "output_type": "stream",
     "text": [
      "(17738, 4)\n"
     ]
    },
    {
     "data": {
      "text/html": [
       "<div>\n",
       "<style scoped>\n",
       "    .dataframe tbody tr th:only-of-type {\n",
       "        vertical-align: middle;\n",
       "    }\n",
       "\n",
       "    .dataframe tbody tr th {\n",
       "        vertical-align: top;\n",
       "    }\n",
       "\n",
       "    .dataframe thead th {\n",
       "        text-align: right;\n",
       "    }\n",
       "</style>\n",
       "<table border=\"1\" class=\"dataframe\">\n",
       "  <thead>\n",
       "    <tr style=\"text-align: right;\">\n",
       "      <th></th>\n",
       "      <th>Molecule ChEMBL ID</th>\n",
       "      <th>New Std_value</th>\n",
       "      <th>Label</th>\n",
       "      <th>Std_Smiles</th>\n",
       "    </tr>\n",
       "  </thead>\n",
       "  <tbody>\n",
       "    <tr>\n",
       "      <th>0</th>\n",
       "      <td>CHEMBL4868141</td>\n",
       "      <td>-29600.00000</td>\n",
       "      <td>1</td>\n",
       "      <td>Nc1ncc(-c2ccc(NS(=O)(=O)C3CC3)cc2OC2CCCCC2)cc1...</td>\n",
       "    </tr>\n",
       "    <tr>\n",
       "      <th>1</th>\n",
       "      <td>CHEMBL4115001</td>\n",
       "      <td>0.00431</td>\n",
       "      <td>1</td>\n",
       "      <td>Nc1ncc([C@@H]2CC[C@@H](O)[C@H](O)C2)nc1-c1ccc(...</td>\n",
       "    </tr>\n",
       "    <tr>\n",
       "      <th>2</th>\n",
       "      <td>CHEMBL4111166</td>\n",
       "      <td>0.00500</td>\n",
       "      <td>1</td>\n",
       "      <td>NC[C@@H](NC(=O)c1ccc(-c2nc([C@@H]3CC[C@@H](O)[...</td>\n",
       "    </tr>\n",
       "    <tr>\n",
       "      <th>3</th>\n",
       "      <td>CHEMBL3904235</td>\n",
       "      <td>0.00550</td>\n",
       "      <td>1</td>\n",
       "      <td>Nc1ncc([C@H]2CC[C@H](O)[C@@H](O)C2)nc1-c1ccc(C...</td>\n",
       "    </tr>\n",
       "    <tr>\n",
       "      <th>4</th>\n",
       "      <td>CHEMBL3980387</td>\n",
       "      <td>0.00612</td>\n",
       "      <td>1</td>\n",
       "      <td>NC[C@@H](NC(=O)c1ccc(-c2nc(C3CCOCC3)cnc2N)cc1F...</td>\n",
       "    </tr>\n",
       "  </tbody>\n",
       "</table>\n",
       "</div>"
      ],
      "text/plain": [
       "  Molecule ChEMBL ID  New Std_value  Label  \\\n",
       "0      CHEMBL4868141   -29600.00000      1   \n",
       "1      CHEMBL4115001        0.00431      1   \n",
       "2      CHEMBL4111166        0.00500      1   \n",
       "3      CHEMBL3904235        0.00550      1   \n",
       "4      CHEMBL3980387        0.00612      1   \n",
       "\n",
       "                                          Std_Smiles  \n",
       "0  Nc1ncc(-c2ccc(NS(=O)(=O)C3CC3)cc2OC2CCCCC2)cc1...  \n",
       "1  Nc1ncc([C@@H]2CC[C@@H](O)[C@H](O)C2)nc1-c1ccc(...  \n",
       "2  NC[C@@H](NC(=O)c1ccc(-c2nc([C@@H]3CC[C@@H](O)[...  \n",
       "3  Nc1ncc([C@H]2CC[C@H](O)[C@@H](O)C2)nc1-c1ccc(C...  \n",
       "4  NC[C@@H](NC(=O)c1ccc(-c2nc(C3CCOCC3)cnc2N)cc1F...  "
      ]
     },
     "execution_count": 10,
     "metadata": {},
     "output_type": "execute_result"
    }
   ],
   "source": [
    "std_smi=pd.DataFrame(std_smiles, columns=['Std_Smiles'])\n",
    "x2=pd.concat([x1[['Molecule ChEMBL ID', 'New Std_value', 'Label']],std_smi],axis=1)\n",
    "x2.drop_duplicates('Std_Smiles', keep='first', inplace=True)\n",
    "print(x2.shape)\n",
    "x2.head()"
   ]
  },
  {
   "cell_type": "code",
   "execution_count": 11,
   "id": "205b986c",
   "metadata": {},
   "outputs": [],
   "source": [
    "x2[['Std_Smiles','Label']].to_csv('erk2_labelled.smi', sep='\\t', index=None, header=None)"
   ]
  },
  {
   "cell_type": "markdown",
   "id": "0c56be81",
   "metadata": {},
   "source": [
    "### Identify top 50 features by applying RandomForest Classifier"
   ]
  },
  {
   "cell_type": "code",
   "execution_count": 12,
   "id": "f7186302",
   "metadata": {},
   "outputs": [],
   "source": [
    "X_train,X_test,y_train,y_test=train_test_split(x2['Std_Smiles'], x2['Label'], test_size=0.30, random_state=42)"
   ]
  },
  {
   "cell_type": "code",
   "execution_count": 13,
   "id": "996cf891",
   "metadata": {},
   "outputs": [],
   "source": [
    "train=pd.concat([X_train,y_train], axis=1)\n",
    "test=pd.concat([X_test,y_test], axis=1)"
   ]
  },
  {
   "cell_type": "code",
   "execution_count": 14,
   "id": "1c764609",
   "metadata": {},
   "outputs": [],
   "source": [
    "train.to_csv('train.smi', sep='\\t', header=None, index=None)\n",
    "test.to_csv('test.smi', sep='\\t', header=None, index=None)"
   ]
  },
  {
   "cell_type": "code",
   "execution_count": 15,
   "id": "0305cb71",
   "metadata": {},
   "outputs": [],
   "source": [
    "train_mols=Chem.SmilesMolSupplier('train.smi', delimiter='\\t', titleLine=False)\n",
    "test_mols=Chem.SmilesMolSupplier('test.smi', delimiter='\\t', titleLine=False)"
   ]
  },
  {
   "cell_type": "code",
   "execution_count": 16,
   "id": "c0ba078b",
   "metadata": {},
   "outputs": [],
   "source": [
    "train_morgan_fp=[AllChem.GetMorganFingerprintAsBitVect(mol,2,nBits=1024) for mol in train_mols]\n",
    "test_morgan_fp=[AllChem.GetMorganFingerprintAsBitVect(mol,2,nBits=1024) for mol in test_mols]"
   ]
  },
  {
   "cell_type": "code",
   "execution_count": 17,
   "id": "21c22544",
   "metadata": {},
   "outputs": [],
   "source": [
    "train_labels=[mol.GetProp('_Name') for mol in train_mols]\n",
    "test_labels=[mol.GetProp('_Name') for mol in test_mols]"
   ]
  },
  {
   "cell_type": "code",
   "execution_count": null,
   "id": "80bdefc0",
   "metadata": {},
   "outputs": [],
   "source": [
    "train_X=np.asarray(train_morgan_fp, dtype=np.int32)\n",
    "test_X=np.asarray(test_morgan_fp, dtype=np.int32)"
   ]
  },
  {
   "cell_type": "code",
   "execution_count": null,
   "id": "7461a464",
   "metadata": {},
   "outputs": [],
   "source": [
    "train_y=np.asarray(train_labels, dtype=np.int32).reshape(-1,1)\n",
    "test_y=np.asarray(test_labels, dtype=np.int32).reshape(-1,1)"
   ]
  },
  {
   "cell_type": "code",
   "execution_count": null,
   "id": "7edaeeb0",
   "metadata": {},
   "outputs": [],
   "source": [
    "clf=RandomForestClassifier(n_estimators=50)\n",
    "clf.fit(train_X,train_y.ravel())"
   ]
  },
  {
   "cell_type": "code",
   "execution_count": null,
   "id": "dacc152e",
   "metadata": {},
   "outputs": [],
   "source": [
    "predict_y=clf.predict(test_X)"
   ]
  },
  {
   "cell_type": "code",
   "execution_count": null,
   "id": "e4d89fb5",
   "metadata": {},
   "outputs": [],
   "source": [
    "print('Accuracy:', roc_auc_score(test_y, predict_y))"
   ]
  },
  {
   "cell_type": "code",
   "execution_count": null,
   "id": "8749eddc",
   "metadata": {},
   "outputs": [],
   "source": [
    "impFeatures=clf.feature_importances_\n",
    "impFeatures_dict=dict(enumerate(impFeatures.flatten(), 1))\n",
    "impFeatures_sorted=sorted(impFeatures_dict.items(), key=lambda x:x[1], reverse=True)"
   ]
  },
  {
   "cell_type": "code",
   "execution_count": null,
   "id": "6881a843",
   "metadata": {},
   "outputs": [],
   "source": [
    "top50=[x[0] for x in impFeatures_sorted[:50]]\n",
    "print(top50)"
   ]
  },
  {
   "cell_type": "markdown",
   "id": "86b95f8b",
   "metadata": {},
   "source": [
    "### Visualize important features on a test molecule"
   ]
  },
  {
   "cell_type": "code",
   "execution_count": null,
   "id": "95ffb810",
   "metadata": {},
   "outputs": [],
   "source": [
    "test_active_idx=[]\n",
    "for i,l in enumerate(test_y):\n",
    "    if l==[1]:\n",
    "        test_active_idx.append(i)       "
   ]
  },
  {
   "cell_type": "code",
   "execution_count": null,
   "id": "8dc0e263",
   "metadata": {},
   "outputs": [],
   "source": [
    "result=clf.predict(test_X[test_active_idx[1]].reshape(1,-1))\n",
    "result"
   ]
  },
  {
   "cell_type": "code",
   "execution_count": null,
   "id": "06d631de",
   "metadata": {},
   "outputs": [],
   "source": [
    "test=test_mols[test_active_idx[1]]\n",
    "test"
   ]
  },
  {
   "cell_type": "code",
   "execution_count": null,
   "id": "f61feb37",
   "metadata": {},
   "outputs": [],
   "source": [
    "bitinfo={}\n",
    "test_fp=[AllChem.GetMorganFingerprintAsBitVect(test, 2, nBits=1024, bitInfo=bitinfo)]\n",
    "onBits=[bit for bit in bitinfo.keys()]\n",
    "print(onBits)"
   ]
  },
  {
   "cell_type": "code",
   "execution_count": null,
   "id": "b9e9fc62",
   "metadata": {},
   "outputs": [],
   "source": [
    "commonOnBits=list(set(top50) & set(onBits))\n",
    "commonOnBits"
   ]
  },
  {
   "cell_type": "code",
   "execution_count": null,
   "id": "c77ea5fb",
   "metadata": {},
   "outputs": [],
   "source": [
    "commonOnBits_=[[test, x, bitinfo] for x in commonOnBits]\n",
    "Draw.DrawMorganBits(commonOnBits_, legends=[str(x) for x in commonOnBits])"
   ]
  },
  {
   "cell_type": "code",
   "execution_count": null,
   "id": "8dc61afc",
   "metadata": {},
   "outputs": [],
   "source": []
  }
 ],
 "metadata": {
  "kernelspec": {
   "display_name": "Python 3 (ipykernel)",
   "language": "python",
   "name": "python3"
  },
  "language_info": {
   "codemirror_mode": {
    "name": "ipython",
    "version": 3
   },
   "file_extension": ".py",
   "mimetype": "text/x-python",
   "name": "python",
   "nbconvert_exporter": "python",
   "pygments_lexer": "ipython3",
   "version": "3.7.12"
  }
 },
 "nbformat": 4,
 "nbformat_minor": 5
}

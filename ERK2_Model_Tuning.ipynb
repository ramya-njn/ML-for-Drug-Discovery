{
  "cells": [
    {
      "cell_type": "code",
      "source": [
        "import tensorflow as tf\n",
        "\n",
        "physical_devices = tf.config.list_physical_devices('GPU')\n",
        "try:\n",
        "  tf.config.experimental.set_memory_growth(physical_devices[0], True)\n",
        "except:\n",
        "  # Invalid device or cannot modify virtual devices once initialized.\n",
        "  pass \n"
      ],
      "metadata": {
        "id": "lqlxwydLhDvG"
      },
      "id": "lqlxwydLhDvG",
      "execution_count": 1,
      "outputs": []
    },
    {
      "cell_type": "code",
      "source": [
        "!pip install rdkit-pypi "
      ],
      "metadata": {
        "colab": {
          "base_uri": "https://localhost:8080/"
        },
        "id": "EnbzmHAvgfQa",
        "outputId": "a8a12c32-6a1d-44c4-ee37-3233aad031df"
      },
      "id": "EnbzmHAvgfQa",
      "execution_count": 2,
      "outputs": [
        {
          "output_type": "stream",
          "name": "stdout",
          "text": [
            "Looking in indexes: https://pypi.org/simple, https://us-python.pkg.dev/colab-wheels/public/simple/\n",
            "Collecting rdkit-pypi\n",
            "  Downloading rdkit_pypi-2022.9.4-cp38-cp38-manylinux_2_17_x86_64.manylinux2014_x86_64.whl (29.3 MB)\n",
            "\u001b[2K     \u001b[90m━━━━━━━━━━━━━━━━━━━━━━━━━━━━━━━━━━━━━━━━\u001b[0m \u001b[32m29.3/29.3 MB\u001b[0m \u001b[31m16.0 MB/s\u001b[0m eta \u001b[36m0:00:00\u001b[0m\n",
            "\u001b[?25hRequirement already satisfied: Pillow in /usr/local/lib/python3.8/dist-packages (from rdkit-pypi) (7.1.2)\n",
            "Requirement already satisfied: numpy in /usr/local/lib/python3.8/dist-packages (from rdkit-pypi) (1.21.6)\n",
            "Installing collected packages: rdkit-pypi\n",
            "Successfully installed rdkit-pypi-2022.9.4\n"
          ]
        }
      ]
    },
    {
      "cell_type": "code",
      "source": [
        "!pip install molvs"
      ],
      "metadata": {
        "colab": {
          "base_uri": "https://localhost:8080/"
        },
        "id": "48ppJAdUghMJ",
        "outputId": "d3ace34c-399c-4417-97d4-e74df7769e4a"
      },
      "id": "48ppJAdUghMJ",
      "execution_count": 3,
      "outputs": [
        {
          "output_type": "stream",
          "name": "stdout",
          "text": [
            "Looking in indexes: https://pypi.org/simple, https://us-python.pkg.dev/colab-wheels/public/simple/\n",
            "Collecting molvs\n",
            "  Downloading MolVS-0.1.1.tar.gz (61 kB)\n",
            "\u001b[2K     \u001b[90m━━━━━━━━━━━━━━━━━━━━━━━━━━━━━━━━━━━━━━━━\u001b[0m \u001b[32m61.9/61.9 KB\u001b[0m \u001b[31m2.6 MB/s\u001b[0m eta \u001b[36m0:00:00\u001b[0m\n",
            "\u001b[?25h  Preparing metadata (setup.py) ... \u001b[?25l\u001b[?25hdone\n",
            "Requirement already satisfied: six in /usr/local/lib/python3.8/dist-packages (from molvs) (1.15.0)\n",
            "Building wheels for collected packages: molvs\n",
            "  Building wheel for molvs (setup.py) ... \u001b[?25l\u001b[?25hdone\n",
            "  Created wheel for molvs: filename=MolVS-0.1.1-py3-none-any.whl size=32385 sha256=1acc2e4001c1a1512c906c2169aaa4fa3e9e545baf7ee12d42f75865034d33a2\n",
            "  Stored in directory: /root/.cache/pip/wheels/f5/0b/44/a9ee577a6de1da52be0d5acbc0940957446cc208b808c2f6c4\n",
            "Successfully built molvs\n",
            "Installing collected packages: molvs\n",
            "Successfully installed molvs-0.1.1\n"
          ]
        }
      ]
    },
    {
      "cell_type": "code",
      "source": [
        "!pip install pycm"
      ],
      "metadata": {
        "colab": {
          "base_uri": "https://localhost:8080/"
        },
        "id": "I5q-kHF7MfOw",
        "outputId": "2fd997c3-2966-412e-c9d2-6ad5ea5ca46f"
      },
      "id": "I5q-kHF7MfOw",
      "execution_count": 4,
      "outputs": [
        {
          "output_type": "stream",
          "name": "stdout",
          "text": [
            "Looking in indexes: https://pypi.org/simple, https://us-python.pkg.dev/colab-wheels/public/simple/\n",
            "Collecting pycm\n",
            "  Downloading pycm-3.7-py2.py3-none-any.whl (62 kB)\n",
            "\u001b[2K     \u001b[90m━━━━━━━━━━━━━━━━━━━━━━━━━━━━━━━━━━━━━━━━\u001b[0m \u001b[32m63.0/63.0 KB\u001b[0m \u001b[31m2.7 MB/s\u001b[0m eta \u001b[36m0:00:00\u001b[0m\n",
            "\u001b[?25hCollecting art>=1.8\n",
            "  Downloading art-5.8-py2.py3-none-any.whl (595 kB)\n",
            "\u001b[2K     \u001b[90m━━━━━━━━━━━━━━━━━━━━━━━━━━━━━━━━━━━━━━\u001b[0m \u001b[32m595.7/595.7 KB\u001b[0m \u001b[31m14.6 MB/s\u001b[0m eta \u001b[36m0:00:00\u001b[0m\n",
            "\u001b[?25hRequirement already satisfied: numpy>=1.9.0 in /usr/local/lib/python3.8/dist-packages (from pycm) (1.21.6)\n",
            "Installing collected packages: art, pycm\n",
            "Successfully installed art-5.8 pycm-3.7\n"
          ]
        }
      ]
    },
    {
      "cell_type": "markdown",
      "id": "fa828447",
      "metadata": {
        "id": "fa828447"
      },
      "source": [
        "### Import Libraries and data file"
      ]
    },
    {
      "cell_type": "code",
      "execution_count": 5,
      "id": "351b781e",
      "metadata": {
        "id": "351b781e"
      },
      "outputs": [],
      "source": [
        "import os\n",
        "import numpy as np\n",
        "import pandas as pd\n",
        "\n",
        "from rdkit import Chem\n",
        "from rdkit.Chem import AllChem\n",
        "from rdkit.Chem import Draw\n",
        "from rdkit.Chem.Draw import IPythonConsole\n",
        "from rdkit import rdBase\n",
        "from molvs import standardize_smiles\n",
        "\n",
        "from sklearn.preprocessing import MinMaxScaler\n",
        "from sklearn.model_selection import train_test_split\n",
        "from sklearn.model_selection import GridSearchCV, RandomizedSearchCV\n",
        "from sklearn.model_selection import KFold, StratifiedKFold, ShuffleSplit\n",
        "from sklearn.model_selection import cross_val_score, cross_val_predict, cross_validate\n",
        "from sklearn.ensemble import RandomForestClassifier\n",
        "from sklearn.metrics import classification_report\n",
        "from sklearn.metrics import confusion_matrix, accuracy_score"
      ]
    },
    {
      "cell_type": "code",
      "source": [
        "from google.colab import drive\n",
        "drive.mount('/content/drive')"
      ],
      "metadata": {
        "colab": {
          "base_uri": "https://localhost:8080/"
        },
        "id": "8fij0djNghV4",
        "outputId": "4f2004a6-41fd-454a-afe3-a72365a2ace9"
      },
      "id": "8fij0djNghV4",
      "execution_count": 6,
      "outputs": [
        {
          "output_type": "stream",
          "name": "stdout",
          "text": [
            "Mounted at /content/drive\n"
          ]
        }
      ]
    },
    {
      "cell_type": "code",
      "source": [
        "os.chdir('/content/drive/My Drive/')"
      ],
      "metadata": {
        "id": "73w5qhrRghap"
      },
      "id": "73w5qhrRghap",
      "execution_count": 7,
      "outputs": []
    },
    {
      "cell_type": "code",
      "execution_count": 8,
      "id": "b184faea",
      "metadata": {
        "colab": {
          "base_uri": "https://localhost:8080/",
          "height": 327
        },
        "id": "b184faea",
        "outputId": "dffb705b-b1e0-4039-9f03-f5105fb33927"
      },
      "outputs": [
        {
          "output_type": "execute_result",
          "data": {
            "text/plain": [
              "  Molecule ChEMBL ID Molecule Name  Molecule Max Phase Molecular Weight  \\\n",
              "0       CHEMBL440356           NaN                 0.0           243.06   \n",
              "1       CHEMBL260417           NaN                 0.0           373.21   \n",
              "\n",
              "  #RO5 Violations AlogP Compound Key  \\\n",
              "0               0  1.09            2   \n",
              "1               0  3.44    SB-725317   \n",
              "\n",
              "                                          Smiles Standard Type  \\\n",
              "0                    O=C1CCNC(=O)c2[nH]c(Br)cc21          IC50   \n",
              "1  O=C(Nc1n[nH]c2nc(-c3ccc(O)cc3)c(Br)cc12)C1CC1    Inhibition   \n",
              "\n",
              "  Standard Relation  ...      Target Name Target Organism     Target Type  \\\n",
              "0               '='  ...  MAP kinase ERK2    Homo sapiens  SINGLE PROTEIN   \n",
              "1               '='  ...  MAP kinase ERK2    Homo sapiens  SINGLE PROTEIN   \n",
              "\n",
              "  Document ChEMBL ID Source ID                  Source Description  \\\n",
              "0      CHEMBL1135814       1.0               Scientific Literature   \n",
              "1      CHEMBL1961873      16.0  GSK Published Kinase Inhibitor Set   \n",
              "\n",
              "   Document Journal Document Year Cell ChEMBL ID Properties  \n",
              "0     J. Med. Chem.        2002.0           None        NaN  \n",
              "1               NaN           NaN           None        NaN  \n",
              "\n",
              "[2 rows x 45 columns]"
            ],
            "text/html": [
              "\n",
              "  <div id=\"df-be3b0162-c772-4709-8286-cd5b8ec0442e\">\n",
              "    <div class=\"colab-df-container\">\n",
              "      <div>\n",
              "<style scoped>\n",
              "    .dataframe tbody tr th:only-of-type {\n",
              "        vertical-align: middle;\n",
              "    }\n",
              "\n",
              "    .dataframe tbody tr th {\n",
              "        vertical-align: top;\n",
              "    }\n",
              "\n",
              "    .dataframe thead th {\n",
              "        text-align: right;\n",
              "    }\n",
              "</style>\n",
              "<table border=\"1\" class=\"dataframe\">\n",
              "  <thead>\n",
              "    <tr style=\"text-align: right;\">\n",
              "      <th></th>\n",
              "      <th>Molecule ChEMBL ID</th>\n",
              "      <th>Molecule Name</th>\n",
              "      <th>Molecule Max Phase</th>\n",
              "      <th>Molecular Weight</th>\n",
              "      <th>#RO5 Violations</th>\n",
              "      <th>AlogP</th>\n",
              "      <th>Compound Key</th>\n",
              "      <th>Smiles</th>\n",
              "      <th>Standard Type</th>\n",
              "      <th>Standard Relation</th>\n",
              "      <th>...</th>\n",
              "      <th>Target Name</th>\n",
              "      <th>Target Organism</th>\n",
              "      <th>Target Type</th>\n",
              "      <th>Document ChEMBL ID</th>\n",
              "      <th>Source ID</th>\n",
              "      <th>Source Description</th>\n",
              "      <th>Document Journal</th>\n",
              "      <th>Document Year</th>\n",
              "      <th>Cell ChEMBL ID</th>\n",
              "      <th>Properties</th>\n",
              "    </tr>\n",
              "  </thead>\n",
              "  <tbody>\n",
              "    <tr>\n",
              "      <th>0</th>\n",
              "      <td>CHEMBL440356</td>\n",
              "      <td>NaN</td>\n",
              "      <td>0.0</td>\n",
              "      <td>243.06</td>\n",
              "      <td>0</td>\n",
              "      <td>1.09</td>\n",
              "      <td>2</td>\n",
              "      <td>O=C1CCNC(=O)c2[nH]c(Br)cc21</td>\n",
              "      <td>IC50</td>\n",
              "      <td>'='</td>\n",
              "      <td>...</td>\n",
              "      <td>MAP kinase ERK2</td>\n",
              "      <td>Homo sapiens</td>\n",
              "      <td>SINGLE PROTEIN</td>\n",
              "      <td>CHEMBL1135814</td>\n",
              "      <td>1.0</td>\n",
              "      <td>Scientific Literature</td>\n",
              "      <td>J. Med. Chem.</td>\n",
              "      <td>2002.0</td>\n",
              "      <td>None</td>\n",
              "      <td>NaN</td>\n",
              "    </tr>\n",
              "    <tr>\n",
              "      <th>1</th>\n",
              "      <td>CHEMBL260417</td>\n",
              "      <td>NaN</td>\n",
              "      <td>0.0</td>\n",
              "      <td>373.21</td>\n",
              "      <td>0</td>\n",
              "      <td>3.44</td>\n",
              "      <td>SB-725317</td>\n",
              "      <td>O=C(Nc1n[nH]c2nc(-c3ccc(O)cc3)c(Br)cc12)C1CC1</td>\n",
              "      <td>Inhibition</td>\n",
              "      <td>'='</td>\n",
              "      <td>...</td>\n",
              "      <td>MAP kinase ERK2</td>\n",
              "      <td>Homo sapiens</td>\n",
              "      <td>SINGLE PROTEIN</td>\n",
              "      <td>CHEMBL1961873</td>\n",
              "      <td>16.0</td>\n",
              "      <td>GSK Published Kinase Inhibitor Set</td>\n",
              "      <td>NaN</td>\n",
              "      <td>NaN</td>\n",
              "      <td>None</td>\n",
              "      <td>NaN</td>\n",
              "    </tr>\n",
              "  </tbody>\n",
              "</table>\n",
              "<p>2 rows × 45 columns</p>\n",
              "</div>\n",
              "      <button class=\"colab-df-convert\" onclick=\"convertToInteractive('df-be3b0162-c772-4709-8286-cd5b8ec0442e')\"\n",
              "              title=\"Convert this dataframe to an interactive table.\"\n",
              "              style=\"display:none;\">\n",
              "        \n",
              "  <svg xmlns=\"http://www.w3.org/2000/svg\" height=\"24px\"viewBox=\"0 0 24 24\"\n",
              "       width=\"24px\">\n",
              "    <path d=\"M0 0h24v24H0V0z\" fill=\"none\"/>\n",
              "    <path d=\"M18.56 5.44l.94 2.06.94-2.06 2.06-.94-2.06-.94-.94-2.06-.94 2.06-2.06.94zm-11 1L8.5 8.5l.94-2.06 2.06-.94-2.06-.94L8.5 2.5l-.94 2.06-2.06.94zm10 10l.94 2.06.94-2.06 2.06-.94-2.06-.94-.94-2.06-.94 2.06-2.06.94z\"/><path d=\"M17.41 7.96l-1.37-1.37c-.4-.4-.92-.59-1.43-.59-.52 0-1.04.2-1.43.59L10.3 9.45l-7.72 7.72c-.78.78-.78 2.05 0 2.83L4 21.41c.39.39.9.59 1.41.59.51 0 1.02-.2 1.41-.59l7.78-7.78 2.81-2.81c.8-.78.8-2.07 0-2.86zM5.41 20L4 18.59l7.72-7.72 1.47 1.35L5.41 20z\"/>\n",
              "  </svg>\n",
              "      </button>\n",
              "      \n",
              "  <style>\n",
              "    .colab-df-container {\n",
              "      display:flex;\n",
              "      flex-wrap:wrap;\n",
              "      gap: 12px;\n",
              "    }\n",
              "\n",
              "    .colab-df-convert {\n",
              "      background-color: #E8F0FE;\n",
              "      border: none;\n",
              "      border-radius: 50%;\n",
              "      cursor: pointer;\n",
              "      display: none;\n",
              "      fill: #1967D2;\n",
              "      height: 32px;\n",
              "      padding: 0 0 0 0;\n",
              "      width: 32px;\n",
              "    }\n",
              "\n",
              "    .colab-df-convert:hover {\n",
              "      background-color: #E2EBFA;\n",
              "      box-shadow: 0px 1px 2px rgba(60, 64, 67, 0.3), 0px 1px 3px 1px rgba(60, 64, 67, 0.15);\n",
              "      fill: #174EA6;\n",
              "    }\n",
              "\n",
              "    [theme=dark] .colab-df-convert {\n",
              "      background-color: #3B4455;\n",
              "      fill: #D2E3FC;\n",
              "    }\n",
              "\n",
              "    [theme=dark] .colab-df-convert:hover {\n",
              "      background-color: #434B5C;\n",
              "      box-shadow: 0px 1px 3px 1px rgba(0, 0, 0, 0.15);\n",
              "      filter: drop-shadow(0px 1px 2px rgba(0, 0, 0, 0.3));\n",
              "      fill: #FFFFFF;\n",
              "    }\n",
              "  </style>\n",
              "\n",
              "      <script>\n",
              "        const buttonEl =\n",
              "          document.querySelector('#df-be3b0162-c772-4709-8286-cd5b8ec0442e button.colab-df-convert');\n",
              "        buttonEl.style.display =\n",
              "          google.colab.kernel.accessAllowed ? 'block' : 'none';\n",
              "\n",
              "        async function convertToInteractive(key) {\n",
              "          const element = document.querySelector('#df-be3b0162-c772-4709-8286-cd5b8ec0442e');\n",
              "          const dataTable =\n",
              "            await google.colab.kernel.invokeFunction('convertToInteractive',\n",
              "                                                     [key], {});\n",
              "          if (!dataTable) return;\n",
              "\n",
              "          const docLinkHtml = 'Like what you see? Visit the ' +\n",
              "            '<a target=\"_blank\" href=https://colab.research.google.com/notebooks/data_table.ipynb>data table notebook</a>'\n",
              "            + ' to learn more about interactive tables.';\n",
              "          element.innerHTML = '';\n",
              "          dataTable['output_type'] = 'display_data';\n",
              "          await google.colab.output.renderOutput(dataTable, element);\n",
              "          const docLink = document.createElement('div');\n",
              "          docLink.innerHTML = docLinkHtml;\n",
              "          element.appendChild(docLink);\n",
              "        }\n",
              "      </script>\n",
              "    </div>\n",
              "  </div>\n",
              "  "
            ]
          },
          "metadata": {},
          "execution_count": 8
        }
      ],
      "source": [
        "x=pd.read_csv('erk2.csv')\n",
        "x.head(2)"
      ]
    },
    {
      "cell_type": "markdown",
      "id": "4b6d1082",
      "metadata": {
        "id": "4b6d1082"
      },
      "source": [
        "### Data Preprocessing"
      ]
    },
    {
      "cell_type": "code",
      "execution_count": 9,
      "id": "2a419e2a",
      "metadata": {
        "colab": {
          "base_uri": "https://localhost:8080/",
          "height": 143
        },
        "id": "2a419e2a",
        "outputId": "10b039c0-25b0-4716-874e-d0280699b557"
      },
      "outputs": [
        {
          "output_type": "execute_result",
          "data": {
            "text/plain": [
              "  Molecule ChEMBL ID                                        Smiles  \\\n",
              "0       CHEMBL440356                   O=C1CCNC(=O)c2[nH]c(Br)cc21   \n",
              "2       CHEMBL213451        CCNc1nnc2ccc(-c3ocnc3-c3ccc(F)cc3)cn12   \n",
              "4       CHEMBL214198  CC(C)c1nnc2ccc(-c3c[nH]nc3-c3cc(F)ccc3F)cn12   \n",
              "\n",
              "   Standard Value Standard Units  \n",
              "0           539.0             nM  \n",
              "2         10000.0             nM  \n",
              "4         10000.0             nM  "
            ],
            "text/html": [
              "\n",
              "  <div id=\"df-fe14277c-24ee-465f-895a-1c88fea8d91f\">\n",
              "    <div class=\"colab-df-container\">\n",
              "      <div>\n",
              "<style scoped>\n",
              "    .dataframe tbody tr th:only-of-type {\n",
              "        vertical-align: middle;\n",
              "    }\n",
              "\n",
              "    .dataframe tbody tr th {\n",
              "        vertical-align: top;\n",
              "    }\n",
              "\n",
              "    .dataframe thead th {\n",
              "        text-align: right;\n",
              "    }\n",
              "</style>\n",
              "<table border=\"1\" class=\"dataframe\">\n",
              "  <thead>\n",
              "    <tr style=\"text-align: right;\">\n",
              "      <th></th>\n",
              "      <th>Molecule ChEMBL ID</th>\n",
              "      <th>Smiles</th>\n",
              "      <th>Standard Value</th>\n",
              "      <th>Standard Units</th>\n",
              "    </tr>\n",
              "  </thead>\n",
              "  <tbody>\n",
              "    <tr>\n",
              "      <th>0</th>\n",
              "      <td>CHEMBL440356</td>\n",
              "      <td>O=C1CCNC(=O)c2[nH]c(Br)cc21</td>\n",
              "      <td>539.0</td>\n",
              "      <td>nM</td>\n",
              "    </tr>\n",
              "    <tr>\n",
              "      <th>2</th>\n",
              "      <td>CHEMBL213451</td>\n",
              "      <td>CCNc1nnc2ccc(-c3ocnc3-c3ccc(F)cc3)cn12</td>\n",
              "      <td>10000.0</td>\n",
              "      <td>nM</td>\n",
              "    </tr>\n",
              "    <tr>\n",
              "      <th>4</th>\n",
              "      <td>CHEMBL214198</td>\n",
              "      <td>CC(C)c1nnc2ccc(-c3c[nH]nc3-c3cc(F)ccc3F)cn12</td>\n",
              "      <td>10000.0</td>\n",
              "      <td>nM</td>\n",
              "    </tr>\n",
              "  </tbody>\n",
              "</table>\n",
              "</div>\n",
              "      <button class=\"colab-df-convert\" onclick=\"convertToInteractive('df-fe14277c-24ee-465f-895a-1c88fea8d91f')\"\n",
              "              title=\"Convert this dataframe to an interactive table.\"\n",
              "              style=\"display:none;\">\n",
              "        \n",
              "  <svg xmlns=\"http://www.w3.org/2000/svg\" height=\"24px\"viewBox=\"0 0 24 24\"\n",
              "       width=\"24px\">\n",
              "    <path d=\"M0 0h24v24H0V0z\" fill=\"none\"/>\n",
              "    <path d=\"M18.56 5.44l.94 2.06.94-2.06 2.06-.94-2.06-.94-.94-2.06-.94 2.06-2.06.94zm-11 1L8.5 8.5l.94-2.06 2.06-.94-2.06-.94L8.5 2.5l-.94 2.06-2.06.94zm10 10l.94 2.06.94-2.06 2.06-.94-2.06-.94-.94-2.06-.94 2.06-2.06.94z\"/><path d=\"M17.41 7.96l-1.37-1.37c-.4-.4-.92-.59-1.43-.59-.52 0-1.04.2-1.43.59L10.3 9.45l-7.72 7.72c-.78.78-.78 2.05 0 2.83L4 21.41c.39.39.9.59 1.41.59.51 0 1.02-.2 1.41-.59l7.78-7.78 2.81-2.81c.8-.78.8-2.07 0-2.86zM5.41 20L4 18.59l7.72-7.72 1.47 1.35L5.41 20z\"/>\n",
              "  </svg>\n",
              "      </button>\n",
              "      \n",
              "  <style>\n",
              "    .colab-df-container {\n",
              "      display:flex;\n",
              "      flex-wrap:wrap;\n",
              "      gap: 12px;\n",
              "    }\n",
              "\n",
              "    .colab-df-convert {\n",
              "      background-color: #E8F0FE;\n",
              "      border: none;\n",
              "      border-radius: 50%;\n",
              "      cursor: pointer;\n",
              "      display: none;\n",
              "      fill: #1967D2;\n",
              "      height: 32px;\n",
              "      padding: 0 0 0 0;\n",
              "      width: 32px;\n",
              "    }\n",
              "\n",
              "    .colab-df-convert:hover {\n",
              "      background-color: #E2EBFA;\n",
              "      box-shadow: 0px 1px 2px rgba(60, 64, 67, 0.3), 0px 1px 3px 1px rgba(60, 64, 67, 0.15);\n",
              "      fill: #174EA6;\n",
              "    }\n",
              "\n",
              "    [theme=dark] .colab-df-convert {\n",
              "      background-color: #3B4455;\n",
              "      fill: #D2E3FC;\n",
              "    }\n",
              "\n",
              "    [theme=dark] .colab-df-convert:hover {\n",
              "      background-color: #434B5C;\n",
              "      box-shadow: 0px 1px 3px 1px rgba(0, 0, 0, 0.15);\n",
              "      filter: drop-shadow(0px 1px 2px rgba(0, 0, 0, 0.3));\n",
              "      fill: #FFFFFF;\n",
              "    }\n",
              "  </style>\n",
              "\n",
              "      <script>\n",
              "        const buttonEl =\n",
              "          document.querySelector('#df-fe14277c-24ee-465f-895a-1c88fea8d91f button.colab-df-convert');\n",
              "        buttonEl.style.display =\n",
              "          google.colab.kernel.accessAllowed ? 'block' : 'none';\n",
              "\n",
              "        async function convertToInteractive(key) {\n",
              "          const element = document.querySelector('#df-fe14277c-24ee-465f-895a-1c88fea8d91f');\n",
              "          const dataTable =\n",
              "            await google.colab.kernel.invokeFunction('convertToInteractive',\n",
              "                                                     [key], {});\n",
              "          if (!dataTable) return;\n",
              "\n",
              "          const docLinkHtml = 'Like what you see? Visit the ' +\n",
              "            '<a target=\"_blank\" href=https://colab.research.google.com/notebooks/data_table.ipynb>data table notebook</a>'\n",
              "            + ' to learn more about interactive tables.';\n",
              "          element.innerHTML = '';\n",
              "          dataTable['output_type'] = 'display_data';\n",
              "          await google.colab.output.renderOutput(dataTable, element);\n",
              "          const docLink = document.createElement('div');\n",
              "          docLink.innerHTML = docLinkHtml;\n",
              "          element.appendChild(docLink);\n",
              "        }\n",
              "      </script>\n",
              "    </div>\n",
              "  </div>\n",
              "  "
            ]
          },
          "metadata": {},
          "execution_count": 9
        }
      ],
      "source": [
        "x1=x[['Molecule ChEMBL ID','Smiles', 'Standard Value', 'Standard Units']]\n",
        "x1=x1[x1['Standard Units'].str.contains('nM', na=False)]\n",
        "x1.head(3)"
      ]
    },
    {
      "cell_type": "code",
      "execution_count": 10,
      "id": "a5afc688",
      "metadata": {
        "colab": {
          "base_uri": "https://localhost:8080/"
        },
        "id": "a5afc688",
        "outputId": "0c17bd45-166f-4916-ec67-1938915cfbbc"
      },
      "outputs": [
        {
          "output_type": "execute_result",
          "data": {
            "text/plain": [
              "(18756, 4)"
            ]
          },
          "metadata": {},
          "execution_count": 10
        }
      ],
      "source": [
        "x1.drop_duplicates(keep='first', inplace=True)\n",
        "x1.dropna(inplace=True)\n",
        "x1.shape"
      ]
    },
    {
      "cell_type": "code",
      "execution_count": 11,
      "id": "9f64d981",
      "metadata": {
        "colab": {
          "base_uri": "https://localhost:8080/",
          "height": 161
        },
        "id": "9f64d981",
        "outputId": "16c03f23-acac-4b13-d07d-92cd7802b642"
      },
      "outputs": [
        {
          "output_type": "stream",
          "name": "stdout",
          "text": [
            "(17739, 3)\n"
          ]
        },
        {
          "output_type": "execute_result",
          "data": {
            "text/plain": [
              "  Molecule ChEMBL ID                                             Smiles  \\\n",
              "0      CHEMBL4868141  Nc1ncc(-c2ccc(NS(=O)(=O)C3CC3)cc2OC2CCCCC2)cc1...   \n",
              "1      CHEMBL4115001  Nc1ncc([C@@H]2CC[C@@H](O)[C@H](O)C2)nc1-c1ccc(...   \n",
              "2      CHEMBL4111166  NC[C@@H](NC(=O)c1ccc(-c2nc([C@@H]3CC[C@@H](O)[...   \n",
              "\n",
              "   New Std_value  \n",
              "0   -29600.00000  \n",
              "1        0.00431  \n",
              "2        0.00500  "
            ],
            "text/html": [
              "\n",
              "  <div id=\"df-820c7804-92aa-4d06-837d-31eabcfd9611\">\n",
              "    <div class=\"colab-df-container\">\n",
              "      <div>\n",
              "<style scoped>\n",
              "    .dataframe tbody tr th:only-of-type {\n",
              "        vertical-align: middle;\n",
              "    }\n",
              "\n",
              "    .dataframe tbody tr th {\n",
              "        vertical-align: top;\n",
              "    }\n",
              "\n",
              "    .dataframe thead th {\n",
              "        text-align: right;\n",
              "    }\n",
              "</style>\n",
              "<table border=\"1\" class=\"dataframe\">\n",
              "  <thead>\n",
              "    <tr style=\"text-align: right;\">\n",
              "      <th></th>\n",
              "      <th>Molecule ChEMBL ID</th>\n",
              "      <th>Smiles</th>\n",
              "      <th>New Std_value</th>\n",
              "    </tr>\n",
              "  </thead>\n",
              "  <tbody>\n",
              "    <tr>\n",
              "      <th>0</th>\n",
              "      <td>CHEMBL4868141</td>\n",
              "      <td>Nc1ncc(-c2ccc(NS(=O)(=O)C3CC3)cc2OC2CCCCC2)cc1...</td>\n",
              "      <td>-29600.00000</td>\n",
              "    </tr>\n",
              "    <tr>\n",
              "      <th>1</th>\n",
              "      <td>CHEMBL4115001</td>\n",
              "      <td>Nc1ncc([C@@H]2CC[C@@H](O)[C@H](O)C2)nc1-c1ccc(...</td>\n",
              "      <td>0.00431</td>\n",
              "    </tr>\n",
              "    <tr>\n",
              "      <th>2</th>\n",
              "      <td>CHEMBL4111166</td>\n",
              "      <td>NC[C@@H](NC(=O)c1ccc(-c2nc([C@@H]3CC[C@@H](O)[...</td>\n",
              "      <td>0.00500</td>\n",
              "    </tr>\n",
              "  </tbody>\n",
              "</table>\n",
              "</div>\n",
              "      <button class=\"colab-df-convert\" onclick=\"convertToInteractive('df-820c7804-92aa-4d06-837d-31eabcfd9611')\"\n",
              "              title=\"Convert this dataframe to an interactive table.\"\n",
              "              style=\"display:none;\">\n",
              "        \n",
              "  <svg xmlns=\"http://www.w3.org/2000/svg\" height=\"24px\"viewBox=\"0 0 24 24\"\n",
              "       width=\"24px\">\n",
              "    <path d=\"M0 0h24v24H0V0z\" fill=\"none\"/>\n",
              "    <path d=\"M18.56 5.44l.94 2.06.94-2.06 2.06-.94-2.06-.94-.94-2.06-.94 2.06-2.06.94zm-11 1L8.5 8.5l.94-2.06 2.06-.94-2.06-.94L8.5 2.5l-.94 2.06-2.06.94zm10 10l.94 2.06.94-2.06 2.06-.94-2.06-.94-.94-2.06-.94 2.06-2.06.94z\"/><path d=\"M17.41 7.96l-1.37-1.37c-.4-.4-.92-.59-1.43-.59-.52 0-1.04.2-1.43.59L10.3 9.45l-7.72 7.72c-.78.78-.78 2.05 0 2.83L4 21.41c.39.39.9.59 1.41.59.51 0 1.02-.2 1.41-.59l7.78-7.78 2.81-2.81c.8-.78.8-2.07 0-2.86zM5.41 20L4 18.59l7.72-7.72 1.47 1.35L5.41 20z\"/>\n",
              "  </svg>\n",
              "      </button>\n",
              "      \n",
              "  <style>\n",
              "    .colab-df-container {\n",
              "      display:flex;\n",
              "      flex-wrap:wrap;\n",
              "      gap: 12px;\n",
              "    }\n",
              "\n",
              "    .colab-df-convert {\n",
              "      background-color: #E8F0FE;\n",
              "      border: none;\n",
              "      border-radius: 50%;\n",
              "      cursor: pointer;\n",
              "      display: none;\n",
              "      fill: #1967D2;\n",
              "      height: 32px;\n",
              "      padding: 0 0 0 0;\n",
              "      width: 32px;\n",
              "    }\n",
              "\n",
              "    .colab-df-convert:hover {\n",
              "      background-color: #E2EBFA;\n",
              "      box-shadow: 0px 1px 2px rgba(60, 64, 67, 0.3), 0px 1px 3px 1px rgba(60, 64, 67, 0.15);\n",
              "      fill: #174EA6;\n",
              "    }\n",
              "\n",
              "    [theme=dark] .colab-df-convert {\n",
              "      background-color: #3B4455;\n",
              "      fill: #D2E3FC;\n",
              "    }\n",
              "\n",
              "    [theme=dark] .colab-df-convert:hover {\n",
              "      background-color: #434B5C;\n",
              "      box-shadow: 0px 1px 3px 1px rgba(0, 0, 0, 0.15);\n",
              "      filter: drop-shadow(0px 1px 2px rgba(0, 0, 0, 0.3));\n",
              "      fill: #FFFFFF;\n",
              "    }\n",
              "  </style>\n",
              "\n",
              "      <script>\n",
              "        const buttonEl =\n",
              "          document.querySelector('#df-820c7804-92aa-4d06-837d-31eabcfd9611 button.colab-df-convert');\n",
              "        buttonEl.style.display =\n",
              "          google.colab.kernel.accessAllowed ? 'block' : 'none';\n",
              "\n",
              "        async function convertToInteractive(key) {\n",
              "          const element = document.querySelector('#df-820c7804-92aa-4d06-837d-31eabcfd9611');\n",
              "          const dataTable =\n",
              "            await google.colab.kernel.invokeFunction('convertToInteractive',\n",
              "                                                     [key], {});\n",
              "          if (!dataTable) return;\n",
              "\n",
              "          const docLinkHtml = 'Like what you see? Visit the ' +\n",
              "            '<a target=\"_blank\" href=https://colab.research.google.com/notebooks/data_table.ipynb>data table notebook</a>'\n",
              "            + ' to learn more about interactive tables.';\n",
              "          element.innerHTML = '';\n",
              "          dataTable['output_type'] = 'display_data';\n",
              "          await google.colab.output.renderOutput(dataTable, element);\n",
              "          const docLink = document.createElement('div');\n",
              "          docLink.innerHTML = docLinkHtml;\n",
              "          element.appendChild(docLink);\n",
              "        }\n",
              "      </script>\n",
              "    </div>\n",
              "  </div>\n",
              "  "
            ]
          },
          "metadata": {},
          "execution_count": 11
        }
      ],
      "source": [
        "x1['New Std_value']=x1.groupby('Molecule ChEMBL ID')['Standard Value'].transform('mean')\n",
        "x1.drop_duplicates('Molecule ChEMBL ID', keep='first', inplace=True)\n",
        "x1=x1.drop(['Standard Value', 'Standard Units'], axis=1)\n",
        "x1=x1.sort_values('New Std_value', ascending=True).reset_index(drop=True)\n",
        "print(x1.shape)\n",
        "x1.head(3)"
      ]
    },
    {
      "cell_type": "code",
      "execution_count": 12,
      "id": "e31ade74",
      "metadata": {
        "colab": {
          "base_uri": "https://localhost:8080/",
          "height": 143
        },
        "id": "e31ade74",
        "outputId": "7f4eccf5-8b1d-453d-edeb-c88e0d8ae5a0"
      },
      "outputs": [
        {
          "output_type": "execute_result",
          "data": {
            "text/plain": [
              "  Molecule ChEMBL ID                                             Smiles  \\\n",
              "0      CHEMBL4868141  Nc1ncc(-c2ccc(NS(=O)(=O)C3CC3)cc2OC2CCCCC2)cc1...   \n",
              "1      CHEMBL4115001  Nc1ncc([C@@H]2CC[C@@H](O)[C@H](O)C2)nc1-c1ccc(...   \n",
              "2      CHEMBL4111166  NC[C@@H](NC(=O)c1ccc(-c2nc([C@@H]3CC[C@@H](O)[...   \n",
              "\n",
              "   New Std_value  Label  \n",
              "0   -29600.00000      1  \n",
              "1        0.00431      1  \n",
              "2        0.00500      1  "
            ],
            "text/html": [
              "\n",
              "  <div id=\"df-2a21b390-0fc7-49a0-a556-de798ccbe7f4\">\n",
              "    <div class=\"colab-df-container\">\n",
              "      <div>\n",
              "<style scoped>\n",
              "    .dataframe tbody tr th:only-of-type {\n",
              "        vertical-align: middle;\n",
              "    }\n",
              "\n",
              "    .dataframe tbody tr th {\n",
              "        vertical-align: top;\n",
              "    }\n",
              "\n",
              "    .dataframe thead th {\n",
              "        text-align: right;\n",
              "    }\n",
              "</style>\n",
              "<table border=\"1\" class=\"dataframe\">\n",
              "  <thead>\n",
              "    <tr style=\"text-align: right;\">\n",
              "      <th></th>\n",
              "      <th>Molecule ChEMBL ID</th>\n",
              "      <th>Smiles</th>\n",
              "      <th>New Std_value</th>\n",
              "      <th>Label</th>\n",
              "    </tr>\n",
              "  </thead>\n",
              "  <tbody>\n",
              "    <tr>\n",
              "      <th>0</th>\n",
              "      <td>CHEMBL4868141</td>\n",
              "      <td>Nc1ncc(-c2ccc(NS(=O)(=O)C3CC3)cc2OC2CCCCC2)cc1...</td>\n",
              "      <td>-29600.00000</td>\n",
              "      <td>1</td>\n",
              "    </tr>\n",
              "    <tr>\n",
              "      <th>1</th>\n",
              "      <td>CHEMBL4115001</td>\n",
              "      <td>Nc1ncc([C@@H]2CC[C@@H](O)[C@H](O)C2)nc1-c1ccc(...</td>\n",
              "      <td>0.00431</td>\n",
              "      <td>1</td>\n",
              "    </tr>\n",
              "    <tr>\n",
              "      <th>2</th>\n",
              "      <td>CHEMBL4111166</td>\n",
              "      <td>NC[C@@H](NC(=O)c1ccc(-c2nc([C@@H]3CC[C@@H](O)[...</td>\n",
              "      <td>0.00500</td>\n",
              "      <td>1</td>\n",
              "    </tr>\n",
              "  </tbody>\n",
              "</table>\n",
              "</div>\n",
              "      <button class=\"colab-df-convert\" onclick=\"convertToInteractive('df-2a21b390-0fc7-49a0-a556-de798ccbe7f4')\"\n",
              "              title=\"Convert this dataframe to an interactive table.\"\n",
              "              style=\"display:none;\">\n",
              "        \n",
              "  <svg xmlns=\"http://www.w3.org/2000/svg\" height=\"24px\"viewBox=\"0 0 24 24\"\n",
              "       width=\"24px\">\n",
              "    <path d=\"M0 0h24v24H0V0z\" fill=\"none\"/>\n",
              "    <path d=\"M18.56 5.44l.94 2.06.94-2.06 2.06-.94-2.06-.94-.94-2.06-.94 2.06-2.06.94zm-11 1L8.5 8.5l.94-2.06 2.06-.94-2.06-.94L8.5 2.5l-.94 2.06-2.06.94zm10 10l.94 2.06.94-2.06 2.06-.94-2.06-.94-.94-2.06-.94 2.06-2.06.94z\"/><path d=\"M17.41 7.96l-1.37-1.37c-.4-.4-.92-.59-1.43-.59-.52 0-1.04.2-1.43.59L10.3 9.45l-7.72 7.72c-.78.78-.78 2.05 0 2.83L4 21.41c.39.39.9.59 1.41.59.51 0 1.02-.2 1.41-.59l7.78-7.78 2.81-2.81c.8-.78.8-2.07 0-2.86zM5.41 20L4 18.59l7.72-7.72 1.47 1.35L5.41 20z\"/>\n",
              "  </svg>\n",
              "      </button>\n",
              "      \n",
              "  <style>\n",
              "    .colab-df-container {\n",
              "      display:flex;\n",
              "      flex-wrap:wrap;\n",
              "      gap: 12px;\n",
              "    }\n",
              "\n",
              "    .colab-df-convert {\n",
              "      background-color: #E8F0FE;\n",
              "      border: none;\n",
              "      border-radius: 50%;\n",
              "      cursor: pointer;\n",
              "      display: none;\n",
              "      fill: #1967D2;\n",
              "      height: 32px;\n",
              "      padding: 0 0 0 0;\n",
              "      width: 32px;\n",
              "    }\n",
              "\n",
              "    .colab-df-convert:hover {\n",
              "      background-color: #E2EBFA;\n",
              "      box-shadow: 0px 1px 2px rgba(60, 64, 67, 0.3), 0px 1px 3px 1px rgba(60, 64, 67, 0.15);\n",
              "      fill: #174EA6;\n",
              "    }\n",
              "\n",
              "    [theme=dark] .colab-df-convert {\n",
              "      background-color: #3B4455;\n",
              "      fill: #D2E3FC;\n",
              "    }\n",
              "\n",
              "    [theme=dark] .colab-df-convert:hover {\n",
              "      background-color: #434B5C;\n",
              "      box-shadow: 0px 1px 3px 1px rgba(0, 0, 0, 0.15);\n",
              "      filter: drop-shadow(0px 1px 2px rgba(0, 0, 0, 0.3));\n",
              "      fill: #FFFFFF;\n",
              "    }\n",
              "  </style>\n",
              "\n",
              "      <script>\n",
              "        const buttonEl =\n",
              "          document.querySelector('#df-2a21b390-0fc7-49a0-a556-de798ccbe7f4 button.colab-df-convert');\n",
              "        buttonEl.style.display =\n",
              "          google.colab.kernel.accessAllowed ? 'block' : 'none';\n",
              "\n",
              "        async function convertToInteractive(key) {\n",
              "          const element = document.querySelector('#df-2a21b390-0fc7-49a0-a556-de798ccbe7f4');\n",
              "          const dataTable =\n",
              "            await google.colab.kernel.invokeFunction('convertToInteractive',\n",
              "                                                     [key], {});\n",
              "          if (!dataTable) return;\n",
              "\n",
              "          const docLinkHtml = 'Like what you see? Visit the ' +\n",
              "            '<a target=\"_blank\" href=https://colab.research.google.com/notebooks/data_table.ipynb>data table notebook</a>'\n",
              "            + ' to learn more about interactive tables.';\n",
              "          element.innerHTML = '';\n",
              "          dataTable['output_type'] = 'display_data';\n",
              "          await google.colab.output.renderOutput(dataTable, element);\n",
              "          const docLink = document.createElement('div');\n",
              "          docLink.innerHTML = docLinkHtml;\n",
              "          element.appendChild(docLink);\n",
              "        }\n",
              "      </script>\n",
              "    </div>\n",
              "  </div>\n",
              "  "
            ]
          },
          "metadata": {},
          "execution_count": 12
        }
      ],
      "source": [
        "x1['Label']=x1['New Std_value'].apply(lambda x: 1 if x<=10000 else 0)\n",
        "x1.head(3)"
      ]
    },
    {
      "cell_type": "code",
      "execution_count": 13,
      "id": "9b355157",
      "metadata": {
        "id": "9b355157"
      },
      "outputs": [],
      "source": [
        "std_smiles=[standardize_smiles(smi) for smi in x1['Smiles'] if smi is not None]\n",
        "std_smiles_df=pd.DataFrame(std_smiles, columns=['Std_Smiles'])"
      ]
    },
    {
      "cell_type": "code",
      "execution_count": 14,
      "id": "7850d294",
      "metadata": {
        "colab": {
          "base_uri": "https://localhost:8080/",
          "height": 143
        },
        "id": "7850d294",
        "outputId": "c7575a2b-fed5-4d43-f56a-31befb11e3d3"
      },
      "outputs": [
        {
          "output_type": "execute_result",
          "data": {
            "text/plain": [
              "  Molecule ChEMBL ID                                         Std_Smiles  \\\n",
              "0      CHEMBL4868141  Nc1ncc(-c2ccc(NS(=O)(=O)C3CC3)cc2OC2CCCCC2)cc1...   \n",
              "1      CHEMBL4115001  Nc1ncc([C@@H]2CC[C@@H](O)[C@H](O)C2)nc1-c1ccc(...   \n",
              "2      CHEMBL4111166  NC[C@@H](NC(=O)c1ccc(-c2nc([C@@H]3CC[C@@H](O)[...   \n",
              "\n",
              "   New Std_value  Label  \n",
              "0   -29600.00000      1  \n",
              "1        0.00431      1  \n",
              "2        0.00500      1  "
            ],
            "text/html": [
              "\n",
              "  <div id=\"df-5787dcef-c719-449e-9837-7a55da18f65b\">\n",
              "    <div class=\"colab-df-container\">\n",
              "      <div>\n",
              "<style scoped>\n",
              "    .dataframe tbody tr th:only-of-type {\n",
              "        vertical-align: middle;\n",
              "    }\n",
              "\n",
              "    .dataframe tbody tr th {\n",
              "        vertical-align: top;\n",
              "    }\n",
              "\n",
              "    .dataframe thead th {\n",
              "        text-align: right;\n",
              "    }\n",
              "</style>\n",
              "<table border=\"1\" class=\"dataframe\">\n",
              "  <thead>\n",
              "    <tr style=\"text-align: right;\">\n",
              "      <th></th>\n",
              "      <th>Molecule ChEMBL ID</th>\n",
              "      <th>Std_Smiles</th>\n",
              "      <th>New Std_value</th>\n",
              "      <th>Label</th>\n",
              "    </tr>\n",
              "  </thead>\n",
              "  <tbody>\n",
              "    <tr>\n",
              "      <th>0</th>\n",
              "      <td>CHEMBL4868141</td>\n",
              "      <td>Nc1ncc(-c2ccc(NS(=O)(=O)C3CC3)cc2OC2CCCCC2)cc1...</td>\n",
              "      <td>-29600.00000</td>\n",
              "      <td>1</td>\n",
              "    </tr>\n",
              "    <tr>\n",
              "      <th>1</th>\n",
              "      <td>CHEMBL4115001</td>\n",
              "      <td>Nc1ncc([C@@H]2CC[C@@H](O)[C@H](O)C2)nc1-c1ccc(...</td>\n",
              "      <td>0.00431</td>\n",
              "      <td>1</td>\n",
              "    </tr>\n",
              "    <tr>\n",
              "      <th>2</th>\n",
              "      <td>CHEMBL4111166</td>\n",
              "      <td>NC[C@@H](NC(=O)c1ccc(-c2nc([C@@H]3CC[C@@H](O)[...</td>\n",
              "      <td>0.00500</td>\n",
              "      <td>1</td>\n",
              "    </tr>\n",
              "  </tbody>\n",
              "</table>\n",
              "</div>\n",
              "      <button class=\"colab-df-convert\" onclick=\"convertToInteractive('df-5787dcef-c719-449e-9837-7a55da18f65b')\"\n",
              "              title=\"Convert this dataframe to an interactive table.\"\n",
              "              style=\"display:none;\">\n",
              "        \n",
              "  <svg xmlns=\"http://www.w3.org/2000/svg\" height=\"24px\"viewBox=\"0 0 24 24\"\n",
              "       width=\"24px\">\n",
              "    <path d=\"M0 0h24v24H0V0z\" fill=\"none\"/>\n",
              "    <path d=\"M18.56 5.44l.94 2.06.94-2.06 2.06-.94-2.06-.94-.94-2.06-.94 2.06-2.06.94zm-11 1L8.5 8.5l.94-2.06 2.06-.94-2.06-.94L8.5 2.5l-.94 2.06-2.06.94zm10 10l.94 2.06.94-2.06 2.06-.94-2.06-.94-.94-2.06-.94 2.06-2.06.94z\"/><path d=\"M17.41 7.96l-1.37-1.37c-.4-.4-.92-.59-1.43-.59-.52 0-1.04.2-1.43.59L10.3 9.45l-7.72 7.72c-.78.78-.78 2.05 0 2.83L4 21.41c.39.39.9.59 1.41.59.51 0 1.02-.2 1.41-.59l7.78-7.78 2.81-2.81c.8-.78.8-2.07 0-2.86zM5.41 20L4 18.59l7.72-7.72 1.47 1.35L5.41 20z\"/>\n",
              "  </svg>\n",
              "      </button>\n",
              "      \n",
              "  <style>\n",
              "    .colab-df-container {\n",
              "      display:flex;\n",
              "      flex-wrap:wrap;\n",
              "      gap: 12px;\n",
              "    }\n",
              "\n",
              "    .colab-df-convert {\n",
              "      background-color: #E8F0FE;\n",
              "      border: none;\n",
              "      border-radius: 50%;\n",
              "      cursor: pointer;\n",
              "      display: none;\n",
              "      fill: #1967D2;\n",
              "      height: 32px;\n",
              "      padding: 0 0 0 0;\n",
              "      width: 32px;\n",
              "    }\n",
              "\n",
              "    .colab-df-convert:hover {\n",
              "      background-color: #E2EBFA;\n",
              "      box-shadow: 0px 1px 2px rgba(60, 64, 67, 0.3), 0px 1px 3px 1px rgba(60, 64, 67, 0.15);\n",
              "      fill: #174EA6;\n",
              "    }\n",
              "\n",
              "    [theme=dark] .colab-df-convert {\n",
              "      background-color: #3B4455;\n",
              "      fill: #D2E3FC;\n",
              "    }\n",
              "\n",
              "    [theme=dark] .colab-df-convert:hover {\n",
              "      background-color: #434B5C;\n",
              "      box-shadow: 0px 1px 3px 1px rgba(0, 0, 0, 0.15);\n",
              "      filter: drop-shadow(0px 1px 2px rgba(0, 0, 0, 0.3));\n",
              "      fill: #FFFFFF;\n",
              "    }\n",
              "  </style>\n",
              "\n",
              "      <script>\n",
              "        const buttonEl =\n",
              "          document.querySelector('#df-5787dcef-c719-449e-9837-7a55da18f65b button.colab-df-convert');\n",
              "        buttonEl.style.display =\n",
              "          google.colab.kernel.accessAllowed ? 'block' : 'none';\n",
              "\n",
              "        async function convertToInteractive(key) {\n",
              "          const element = document.querySelector('#df-5787dcef-c719-449e-9837-7a55da18f65b');\n",
              "          const dataTable =\n",
              "            await google.colab.kernel.invokeFunction('convertToInteractive',\n",
              "                                                     [key], {});\n",
              "          if (!dataTable) return;\n",
              "\n",
              "          const docLinkHtml = 'Like what you see? Visit the ' +\n",
              "            '<a target=\"_blank\" href=https://colab.research.google.com/notebooks/data_table.ipynb>data table notebook</a>'\n",
              "            + ' to learn more about interactive tables.';\n",
              "          element.innerHTML = '';\n",
              "          dataTable['output_type'] = 'display_data';\n",
              "          await google.colab.output.renderOutput(dataTable, element);\n",
              "          const docLink = document.createElement('div');\n",
              "          docLink.innerHTML = docLinkHtml;\n",
              "          element.appendChild(docLink);\n",
              "        }\n",
              "      </script>\n",
              "    </div>\n",
              "  </div>\n",
              "  "
            ]
          },
          "metadata": {},
          "execution_count": 14
        }
      ],
      "source": [
        "x2=pd.concat([x1[['Molecule ChEMBL ID','New Std_value', 'Label']],std_smiles_df], axis=1)\n",
        "x2=x2[['Molecule ChEMBL ID','Std_Smiles','New Std_value','Label']]\n",
        "x2.head(3)"
      ]
    },
    {
      "cell_type": "markdown",
      "id": "b307d2ea",
      "metadata": {
        "id": "b307d2ea"
      },
      "source": [
        "### Generate Morgan Fingerprints"
      ]
    },
    {
      "cell_type": "code",
      "execution_count": 15,
      "id": "1fd001ad",
      "metadata": {
        "id": "1fd001ad"
      },
      "outputs": [],
      "source": [
        "x2[['Std_Smiles','Label']].to_csv('erk2_binary.smi', sep='\\t', header=None, index=None)"
      ]
    },
    {
      "cell_type": "code",
      "execution_count": 16,
      "id": "5f85a915",
      "metadata": {
        "id": "5f85a915"
      },
      "outputs": [],
      "source": [
        "supplier=Chem.SmilesMolSupplier('erk2_binary.smi', delimiter='\\t', titleLine=None)"
      ]
    },
    {
      "cell_type": "code",
      "execution_count": 17,
      "id": "39af6d7d",
      "metadata": {
        "id": "39af6d7d"
      },
      "outputs": [],
      "source": [
        "morgan_fp=[AllChem.GetMorganFingerprintAsBitVect(mol,2,nBits=1024) for mol in supplier]"
      ]
    },
    {
      "cell_type": "code",
      "execution_count": 18,
      "id": "442d29a0",
      "metadata": {
        "id": "442d29a0"
      },
      "outputs": [],
      "source": [
        "labels=[mol.GetProp('_Name') for mol in supplier]"
      ]
    },
    {
      "cell_type": "code",
      "execution_count": 19,
      "id": "16bef685",
      "metadata": {
        "id": "16bef685"
      },
      "outputs": [],
      "source": [
        "fp_array=np.asarray(morgan_fp, dtype=np.int32)\n",
        "labels_array=np.asarray(labels, dtype=np.int32).reshape(-1,1)"
      ]
    },
    {
      "cell_type": "code",
      "execution_count": 20,
      "id": "78e17cd6",
      "metadata": {
        "id": "78e17cd6"
      },
      "outputs": [],
      "source": [
        "combined=np.concatenate([fp_array,labels_array], axis=1)\n",
        "np.savetxt('erk2_fps_labelled.csv', combined, delimiter=',')"
      ]
    },
    {
      "cell_type": "code",
      "execution_count": 21,
      "id": "2480e042",
      "metadata": {
        "colab": {
          "base_uri": "https://localhost:8080/",
          "height": 236
        },
        "id": "2480e042",
        "outputId": "5251ace9-fdf2-4346-d7e1-f6238c9df7c3"
      },
      "outputs": [
        {
          "output_type": "execute_result",
          "data": {
            "text/plain": [
              "   0     1     2     3     4     5     6     7     8     9     ...  1015  \\\n",
              "0   0.0   0.0   1.0   0.0   1.0   0.0   0.0   0.0   0.0   0.0  ...   0.0   \n",
              "1   0.0   1.0   0.0   0.0   0.0   0.0   0.0   0.0   0.0   0.0  ...   0.0   \n",
              "2   0.0   1.0   0.0   0.0   0.0   0.0   0.0   0.0   0.0   0.0  ...   0.0   \n",
              "3   0.0   1.0   0.0   0.0   0.0   0.0   0.0   0.0   0.0   0.0  ...   0.0   \n",
              "4   0.0   1.0   0.0   0.0   0.0   0.0   0.0   0.0   0.0   0.0  ...   0.0   \n",
              "\n",
              "   1016  1017  1018  1019  1020  1021  1022  1023  1024  \n",
              "0   0.0   0.0   0.0   1.0   0.0   0.0   0.0   0.0   1.0  \n",
              "1   0.0   0.0   0.0   1.0   0.0   0.0   1.0   0.0   1.0  \n",
              "2   0.0   0.0   0.0   1.0   0.0   0.0   1.0   0.0   1.0  \n",
              "3   0.0   0.0   0.0   1.0   0.0   0.0   1.0   0.0   1.0  \n",
              "4   0.0   0.0   0.0   1.0   0.0   0.0   1.0   0.0   1.0  \n",
              "\n",
              "[5 rows x 1025 columns]"
            ],
            "text/html": [
              "\n",
              "  <div id=\"df-0473f266-64a7-4eff-b9b4-7514c93e9099\">\n",
              "    <div class=\"colab-df-container\">\n",
              "      <div>\n",
              "<style scoped>\n",
              "    .dataframe tbody tr th:only-of-type {\n",
              "        vertical-align: middle;\n",
              "    }\n",
              "\n",
              "    .dataframe tbody tr th {\n",
              "        vertical-align: top;\n",
              "    }\n",
              "\n",
              "    .dataframe thead th {\n",
              "        text-align: right;\n",
              "    }\n",
              "</style>\n",
              "<table border=\"1\" class=\"dataframe\">\n",
              "  <thead>\n",
              "    <tr style=\"text-align: right;\">\n",
              "      <th></th>\n",
              "      <th>0</th>\n",
              "      <th>1</th>\n",
              "      <th>2</th>\n",
              "      <th>3</th>\n",
              "      <th>4</th>\n",
              "      <th>5</th>\n",
              "      <th>6</th>\n",
              "      <th>7</th>\n",
              "      <th>8</th>\n",
              "      <th>9</th>\n",
              "      <th>...</th>\n",
              "      <th>1015</th>\n",
              "      <th>1016</th>\n",
              "      <th>1017</th>\n",
              "      <th>1018</th>\n",
              "      <th>1019</th>\n",
              "      <th>1020</th>\n",
              "      <th>1021</th>\n",
              "      <th>1022</th>\n",
              "      <th>1023</th>\n",
              "      <th>1024</th>\n",
              "    </tr>\n",
              "  </thead>\n",
              "  <tbody>\n",
              "    <tr>\n",
              "      <th>0</th>\n",
              "      <td>0.0</td>\n",
              "      <td>0.0</td>\n",
              "      <td>1.0</td>\n",
              "      <td>0.0</td>\n",
              "      <td>1.0</td>\n",
              "      <td>0.0</td>\n",
              "      <td>0.0</td>\n",
              "      <td>0.0</td>\n",
              "      <td>0.0</td>\n",
              "      <td>0.0</td>\n",
              "      <td>...</td>\n",
              "      <td>0.0</td>\n",
              "      <td>0.0</td>\n",
              "      <td>0.0</td>\n",
              "      <td>0.0</td>\n",
              "      <td>1.0</td>\n",
              "      <td>0.0</td>\n",
              "      <td>0.0</td>\n",
              "      <td>0.0</td>\n",
              "      <td>0.0</td>\n",
              "      <td>1.0</td>\n",
              "    </tr>\n",
              "    <tr>\n",
              "      <th>1</th>\n",
              "      <td>0.0</td>\n",
              "      <td>1.0</td>\n",
              "      <td>0.0</td>\n",
              "      <td>0.0</td>\n",
              "      <td>0.0</td>\n",
              "      <td>0.0</td>\n",
              "      <td>0.0</td>\n",
              "      <td>0.0</td>\n",
              "      <td>0.0</td>\n",
              "      <td>0.0</td>\n",
              "      <td>...</td>\n",
              "      <td>0.0</td>\n",
              "      <td>0.0</td>\n",
              "      <td>0.0</td>\n",
              "      <td>0.0</td>\n",
              "      <td>1.0</td>\n",
              "      <td>0.0</td>\n",
              "      <td>0.0</td>\n",
              "      <td>1.0</td>\n",
              "      <td>0.0</td>\n",
              "      <td>1.0</td>\n",
              "    </tr>\n",
              "    <tr>\n",
              "      <th>2</th>\n",
              "      <td>0.0</td>\n",
              "      <td>1.0</td>\n",
              "      <td>0.0</td>\n",
              "      <td>0.0</td>\n",
              "      <td>0.0</td>\n",
              "      <td>0.0</td>\n",
              "      <td>0.0</td>\n",
              "      <td>0.0</td>\n",
              "      <td>0.0</td>\n",
              "      <td>0.0</td>\n",
              "      <td>...</td>\n",
              "      <td>0.0</td>\n",
              "      <td>0.0</td>\n",
              "      <td>0.0</td>\n",
              "      <td>0.0</td>\n",
              "      <td>1.0</td>\n",
              "      <td>0.0</td>\n",
              "      <td>0.0</td>\n",
              "      <td>1.0</td>\n",
              "      <td>0.0</td>\n",
              "      <td>1.0</td>\n",
              "    </tr>\n",
              "    <tr>\n",
              "      <th>3</th>\n",
              "      <td>0.0</td>\n",
              "      <td>1.0</td>\n",
              "      <td>0.0</td>\n",
              "      <td>0.0</td>\n",
              "      <td>0.0</td>\n",
              "      <td>0.0</td>\n",
              "      <td>0.0</td>\n",
              "      <td>0.0</td>\n",
              "      <td>0.0</td>\n",
              "      <td>0.0</td>\n",
              "      <td>...</td>\n",
              "      <td>0.0</td>\n",
              "      <td>0.0</td>\n",
              "      <td>0.0</td>\n",
              "      <td>0.0</td>\n",
              "      <td>1.0</td>\n",
              "      <td>0.0</td>\n",
              "      <td>0.0</td>\n",
              "      <td>1.0</td>\n",
              "      <td>0.0</td>\n",
              "      <td>1.0</td>\n",
              "    </tr>\n",
              "    <tr>\n",
              "      <th>4</th>\n",
              "      <td>0.0</td>\n",
              "      <td>1.0</td>\n",
              "      <td>0.0</td>\n",
              "      <td>0.0</td>\n",
              "      <td>0.0</td>\n",
              "      <td>0.0</td>\n",
              "      <td>0.0</td>\n",
              "      <td>0.0</td>\n",
              "      <td>0.0</td>\n",
              "      <td>0.0</td>\n",
              "      <td>...</td>\n",
              "      <td>0.0</td>\n",
              "      <td>0.0</td>\n",
              "      <td>0.0</td>\n",
              "      <td>0.0</td>\n",
              "      <td>1.0</td>\n",
              "      <td>0.0</td>\n",
              "      <td>0.0</td>\n",
              "      <td>1.0</td>\n",
              "      <td>0.0</td>\n",
              "      <td>1.0</td>\n",
              "    </tr>\n",
              "  </tbody>\n",
              "</table>\n",
              "<p>5 rows × 1025 columns</p>\n",
              "</div>\n",
              "      <button class=\"colab-df-convert\" onclick=\"convertToInteractive('df-0473f266-64a7-4eff-b9b4-7514c93e9099')\"\n",
              "              title=\"Convert this dataframe to an interactive table.\"\n",
              "              style=\"display:none;\">\n",
              "        \n",
              "  <svg xmlns=\"http://www.w3.org/2000/svg\" height=\"24px\"viewBox=\"0 0 24 24\"\n",
              "       width=\"24px\">\n",
              "    <path d=\"M0 0h24v24H0V0z\" fill=\"none\"/>\n",
              "    <path d=\"M18.56 5.44l.94 2.06.94-2.06 2.06-.94-2.06-.94-.94-2.06-.94 2.06-2.06.94zm-11 1L8.5 8.5l.94-2.06 2.06-.94-2.06-.94L8.5 2.5l-.94 2.06-2.06.94zm10 10l.94 2.06.94-2.06 2.06-.94-2.06-.94-.94-2.06-.94 2.06-2.06.94z\"/><path d=\"M17.41 7.96l-1.37-1.37c-.4-.4-.92-.59-1.43-.59-.52 0-1.04.2-1.43.59L10.3 9.45l-7.72 7.72c-.78.78-.78 2.05 0 2.83L4 21.41c.39.39.9.59 1.41.59.51 0 1.02-.2 1.41-.59l7.78-7.78 2.81-2.81c.8-.78.8-2.07 0-2.86zM5.41 20L4 18.59l7.72-7.72 1.47 1.35L5.41 20z\"/>\n",
              "  </svg>\n",
              "      </button>\n",
              "      \n",
              "  <style>\n",
              "    .colab-df-container {\n",
              "      display:flex;\n",
              "      flex-wrap:wrap;\n",
              "      gap: 12px;\n",
              "    }\n",
              "\n",
              "    .colab-df-convert {\n",
              "      background-color: #E8F0FE;\n",
              "      border: none;\n",
              "      border-radius: 50%;\n",
              "      cursor: pointer;\n",
              "      display: none;\n",
              "      fill: #1967D2;\n",
              "      height: 32px;\n",
              "      padding: 0 0 0 0;\n",
              "      width: 32px;\n",
              "    }\n",
              "\n",
              "    .colab-df-convert:hover {\n",
              "      background-color: #E2EBFA;\n",
              "      box-shadow: 0px 1px 2px rgba(60, 64, 67, 0.3), 0px 1px 3px 1px rgba(60, 64, 67, 0.15);\n",
              "      fill: #174EA6;\n",
              "    }\n",
              "\n",
              "    [theme=dark] .colab-df-convert {\n",
              "      background-color: #3B4455;\n",
              "      fill: #D2E3FC;\n",
              "    }\n",
              "\n",
              "    [theme=dark] .colab-df-convert:hover {\n",
              "      background-color: #434B5C;\n",
              "      box-shadow: 0px 1px 3px 1px rgba(0, 0, 0, 0.15);\n",
              "      filter: drop-shadow(0px 1px 2px rgba(0, 0, 0, 0.3));\n",
              "      fill: #FFFFFF;\n",
              "    }\n",
              "  </style>\n",
              "\n",
              "      <script>\n",
              "        const buttonEl =\n",
              "          document.querySelector('#df-0473f266-64a7-4eff-b9b4-7514c93e9099 button.colab-df-convert');\n",
              "        buttonEl.style.display =\n",
              "          google.colab.kernel.accessAllowed ? 'block' : 'none';\n",
              "\n",
              "        async function convertToInteractive(key) {\n",
              "          const element = document.querySelector('#df-0473f266-64a7-4eff-b9b4-7514c93e9099');\n",
              "          const dataTable =\n",
              "            await google.colab.kernel.invokeFunction('convertToInteractive',\n",
              "                                                     [key], {});\n",
              "          if (!dataTable) return;\n",
              "\n",
              "          const docLinkHtml = 'Like what you see? Visit the ' +\n",
              "            '<a target=\"_blank\" href=https://colab.research.google.com/notebooks/data_table.ipynb>data table notebook</a>'\n",
              "            + ' to learn more about interactive tables.';\n",
              "          element.innerHTML = '';\n",
              "          dataTable['output_type'] = 'display_data';\n",
              "          await google.colab.output.renderOutput(dataTable, element);\n",
              "          const docLink = document.createElement('div');\n",
              "          docLink.innerHTML = docLinkHtml;\n",
              "          element.appendChild(docLink);\n",
              "        }\n",
              "      </script>\n",
              "    </div>\n",
              "  </div>\n",
              "  "
            ]
          },
          "metadata": {},
          "execution_count": 21
        }
      ],
      "source": [
        "x3=pd.read_csv('erk2_fps_labelled.csv', sep=',', header=None)\n",
        "x3.head()"
      ]
    },
    {
      "cell_type": "markdown",
      "id": "14113665",
      "metadata": {
        "id": "14113665"
      },
      "source": [
        "### Train-Test split"
      ]
    },
    {
      "cell_type": "code",
      "execution_count": 22,
      "id": "4b383ef1",
      "metadata": {
        "id": "4b383ef1"
      },
      "outputs": [],
      "source": [
        "X=x3.iloc[:,0:1024]\n",
        "y=x3.iloc[:,1024]"
      ]
    },
    {
      "cell_type": "code",
      "execution_count": 23,
      "id": "5684fe36",
      "metadata": {
        "colab": {
          "base_uri": "https://localhost:8080/"
        },
        "id": "5684fe36",
        "outputId": "637c7f28-4495-4b4c-c203-aa7e314df412"
      },
      "outputs": [
        {
          "output_type": "stream",
          "name": "stdout",
          "text": [
            "Features dimension: (17739, 1024)\n",
            "Labels dimension: (17739,)\n"
          ]
        }
      ],
      "source": [
        "print('Features dimension:', X.shape)\n",
        "print('Labels dimension:', y.shape)"
      ]
    },
    {
      "cell_type": "code",
      "execution_count": 24,
      "id": "e948ba9b",
      "metadata": {
        "id": "e948ba9b"
      },
      "outputs": [],
      "source": [
        "X_train,X_test,y_train,y_test=train_test_split(X, y , test_size=0.2, random_state=42, shuffle=True)"
      ]
    },
    {
      "cell_type": "markdown",
      "id": "bd6a2717",
      "metadata": {
        "id": "bd6a2717"
      },
      "source": [
        "### Build Model : Random Forest Classifier"
      ]
    },
    {
      "cell_type": "code",
      "execution_count": 25,
      "id": "c5979f11",
      "metadata": {
        "colab": {
          "base_uri": "https://localhost:8080/"
        },
        "id": "c5979f11",
        "outputId": "e907d6e2-4c95-4c62-df8d-959ab0a43bcc"
      },
      "outputs": [
        {
          "output_type": "execute_result",
          "data": {
            "text/plain": [
              "RandomForestClassifier(random_state=42)"
            ]
          },
          "metadata": {},
          "execution_count": 25
        }
      ],
      "source": [
        "rf=RandomForestClassifier(random_state=42)\n",
        "rf.fit(X_train, y_train.ravel())"
      ]
    },
    {
      "cell_type": "code",
      "execution_count": 26,
      "id": "8f09d298",
      "metadata": {
        "id": "8f09d298"
      },
      "outputs": [],
      "source": [
        "rf_pred=rf.predict(X_test)"
      ]
    },
    {
      "cell_type": "code",
      "execution_count": 27,
      "id": "0cc82923",
      "metadata": {
        "colab": {
          "base_uri": "https://localhost:8080/"
        },
        "id": "0cc82923",
        "outputId": "b6e8d194-35a5-48ea-fcaf-f920a1037f56"
      },
      "outputs": [
        {
          "output_type": "stream",
          "name": "stdout",
          "text": [
            "Looking in indexes: https://pypi.org/simple, https://us-python.pkg.dev/colab-wheels/public/simple/\n",
            "Requirement already satisfied: pycm in /usr/local/lib/python3.8/dist-packages (3.7)\n",
            "Requirement already satisfied: numpy>=1.9.0 in /usr/local/lib/python3.8/dist-packages (from pycm) (1.21.6)\n",
            "Requirement already satisfied: art>=1.8 in /usr/local/lib/python3.8/dist-packages (from pycm) (5.8)\n"
          ]
        }
      ],
      "source": [
        "!pip install pycm\n",
        "from pycm import *"
      ]
    },
    {
      "cell_type": "code",
      "execution_count": 28,
      "id": "40eb6330",
      "metadata": {
        "colab": {
          "base_uri": "https://localhost:8080/"
        },
        "id": "40eb6330",
        "outputId": "d3f29705-270c-4a3f-ed07-f920253d872a"
      },
      "outputs": [
        {
          "output_type": "stream",
          "name": "stdout",
          "text": [
            "Predict    0.0        1.0        \n",
            "Actual\n",
            "0.0        2041       81         \n",
            "\n",
            "1.0        675        751        \n",
            "\n",
            "\n",
            "\n",
            "\n",
            "\n",
            "Overall Statistics : \n",
            "\n",
            "95% CI                                                            (0.77345,0.8004)\n",
            "ACC Macro                                                         0.78692\n",
            "ARI                                                               0.32181\n",
            "AUNP                                                              0.74424\n",
            "AUNU                                                              0.74424\n",
            "Bangdiwala B                                                      0.68055\n",
            "Bennett S                                                         0.57384\n",
            "CBA                                                               0.63906\n",
            "CSI                                                               0.5713\n",
            "Chi-Squared                                                       1133.65955\n",
            "Chi-Squared DF                                                    1\n",
            "Conditional Entropy                                               0.54095\n",
            "Cramer V                                                          0.56526\n",
            "Cross Entropy                                                     1.07153\n",
            "F1 Macro                                                          0.75446\n",
            "F1 Micro                                                          0.78692\n",
            "FNR Macro                                                         0.25576\n",
            "FNR Micro                                                         0.21308\n",
            "FPR Macro                                                         0.25576\n",
            "FPR Micro                                                         0.21308\n",
            "Gwet AC1                                                          0.6236\n",
            "Hamming Loss                                                      0.21308\n",
            "Joint Entropy                                                     1.51301\n",
            "KL Divergence                                                     0.09946\n",
            "Kappa                                                             0.52429\n",
            "Kappa 95% CI                                                      (0.49421,0.55437)\n",
            "Kappa No Prevalence                                               0.57384\n",
            "Kappa Standard Error                                              0.01535\n",
            "Kappa Unbiased                                                    0.50893\n",
            "Krippendorff Alpha                                                0.509\n",
            "Lambda A                                                          0.46985\n",
            "Lambda B                                                          0.09135\n",
            "Mutual Information                                                0.24482\n",
            "NIR                                                               0.59808\n",
            "Overall ACC                                                       0.78692\n",
            "Overall CEN                                                       0.55816\n",
            "Overall J                                                         (1.22805,0.61403)\n",
            "Overall MCC                                                       0.56526\n",
            "Overall MCEN                                                      0.41179\n",
            "Overall RACC                                                      0.55208\n",
            "Overall RACCU                                                     0.5661\n",
            "P-Value                                                           None\n",
            "PPV Macro                                                         0.82706\n",
            "PPV Micro                                                         0.78692\n",
            "Pearson C                                                         0.49209\n",
            "Phi-Squared                                                       0.31952\n",
            "RCI                                                               0.25186\n",
            "RR                                                                1774.0\n",
            "Reference Entropy                                                 0.97206\n",
            "Response Entropy                                                  0.78577\n",
            "SOA1(Landis & Koch)                                               Moderate\n",
            "SOA2(Fleiss)                                                      Intermediate to Good\n",
            "SOA3(Altman)                                                      Moderate\n",
            "SOA4(Cicchetti)                                                   Fair\n",
            "SOA5(Cramer)                                                      Relatively Strong\n",
            "SOA6(Matthews)                                                    Moderate\n",
            "Scott PI                                                          0.50893\n",
            "Standard Error                                                    0.00687\n",
            "TNR Macro                                                         0.74424\n",
            "TNR Micro                                                         0.78692\n",
            "TPR Macro                                                         0.74424\n",
            "TPR Micro                                                         0.78692\n",
            "Zero-one Loss                                                     756\n",
            "\n",
            "Class Statistics :\n",
            "\n",
            "Classes                                                           0.0           1.0           \n",
            "ACC(Accuracy)                                                     0.78692       0.78692       \n",
            "AGF(Adjusted F-score)                                             0.84819       0.67192       \n",
            "AGM(Adjusted geometric mean)                                      0.65866       0.80532       \n",
            "AM(Difference between automatic and manual classification)        594           -594          \n",
            "AUC(Area under the ROC curve)                                     0.74424       0.74424       \n",
            "AUCI(AUC value interpretation)                                    Good          Good          \n",
            "AUPR(Area under the PR curve)                                     0.85665       0.71465       \n",
            "BB(Braun-Blanquet similarity)                                     0.75147       0.52665       \n",
            "BCD(Bray-Curtis dissimilarity)                                    0.08371       0.08371       \n",
            "BM(Informedness or bookmaker informedness)                        0.48848       0.48848       \n",
            "CEN(Confusion entropy)                                            0.49523       0.693         \n",
            "DOR(Diagnostic odds ratio)                                        28.03459      28.03459      \n",
            "DP(Discriminant power)                                            0.79816       0.79816       \n",
            "DPI(Discriminant power interpretation)                            Poor          Poor          \n",
            "ERR(Error rate)                                                   0.21308       0.21308       \n",
            "F0.5(F0.5 score)                                                  0.78585       0.78986       \n",
            "F1(F1 score - harmonic mean of precision and sensitivity)         0.84374       0.66519       \n",
            "F2(F2 score)                                                      0.91084       0.57451       \n",
            "FDR(False discovery rate)                                         0.24853       0.09736       \n",
            "FN(False negative/miss/type 2 error)                              81            675           \n",
            "FNR(Miss rate or false negative rate)                             0.03817       0.47335       \n",
            "FOR(False omission rate)                                          0.09736       0.24853       \n",
            "FP(False positive/type 1 error/false alarm)                       675           81            \n",
            "FPR(Fall-out or false positive rate)                              0.47335       0.03817       \n",
            "G(G-measure geometric mean of precision and sensitivity)          0.85017       0.68947       \n",
            "GI(Gini index)                                                    0.48848       0.48848       \n",
            "GM(G-mean geometric mean of specificity and sensitivity)          0.71172       0.71172       \n",
            "HD(Hamming distance)                                              756           756           \n",
            "IBA(Index of balanced accuracy)                                   0.72698       0.28611       \n",
            "ICSI(Individual classification success index)                     0.7133        0.42929       \n",
            "IS(Information score)                                             0.32937       1.16726       \n",
            "J(Jaccard index)                                                  0.72971       0.49834       \n",
            "LS(Lift score)                                                    1.25647       2.24585       \n",
            "MCC(Matthews correlation coefficient)                             0.56526       0.56526       \n",
            "MCCI(Matthews correlation coefficient interpretation)             Moderate      Moderate      \n",
            "MCEN(Modified confusion entropy)                                  0.64293       0.7457        \n",
            "MK(Markedness)                                                    0.65412       0.65412       \n",
            "N(Condition negative)                                             1426          2122          \n",
            "NLR(Negative likelihood ratio)                                    0.07248       0.49214       \n",
            "NLRI(Negative likelihood ratio interpretation)                    Good          Poor          \n",
            "NPV(Negative predictive value)                                    0.90264       0.75147       \n",
            "OC(Overlap coefficient)                                           0.96183       0.90264       \n",
            "OOC(Otsuka-Ochiai coefficient)                                    0.85017       0.68947       \n",
            "OP(Optimized precision)                                           0.49456       0.49456       \n",
            "P(Condition positive or support)                                  2122          1426          \n",
            "PLR(Positive likelihood ratio)                                    2.03195       13.79688      \n",
            "PLRI(Positive likelihood ratio interpretation)                    Poor          Good          \n",
            "POP(Population)                                                   3548          3548          \n",
            "PPV(Precision or positive predictive value)                       0.75147       0.90264       \n",
            "PRE(Prevalence)                                                   0.59808       0.40192       \n",
            "Q(Yule Q - coefficient of colligation)                            0.93112       0.93112       \n",
            "QI(Yule Q interpretation)                                         Strong        Strong        \n",
            "RACC(Random accuracy)                                             0.45783       0.09425       \n",
            "RACCU(Random accuracy unbiased)                                   0.46484       0.10126       \n",
            "TN(True negative/correct rejection)                               751           2041          \n",
            "TNR(Specificity or true negative rate)                            0.52665       0.96183       \n",
            "TON(Test outcome negative)                                        832           2716          \n",
            "TOP(Test outcome positive)                                        2716          832           \n",
            "TP(True positive/hit)                                             2041          751           \n",
            "TPR(Sensitivity, recall, hit rate, or true positive rate)         0.96183       0.52665       \n",
            "Y(Youden index)                                                   0.48848       0.48848       \n",
            "dInd(Distance index)                                              0.47489       0.47489       \n",
            "sInd(Similarity index)                                            0.6642        0.6642        \n",
            "\n"
          ]
        }
      ],
      "source": [
        "pycm_=ConfusionMatrix(y_test.ravel(),rf_pred)\n",
        "print(pycm_)"
      ]
    },
    {
      "cell_type": "markdown",
      "id": "6abd0094",
      "metadata": {
        "id": "6abd0094"
      },
      "source": [
        "Accuracy = 0.786\n",
        "\n",
        "AUC score = 0.744"
      ]
    },
    {
      "cell_type": "markdown",
      "id": "f865fbd5",
      "metadata": {
        "id": "f865fbd5"
      },
      "source": [
        "### KFold Cross Validation"
      ]
    },
    {
      "cell_type": "code",
      "execution_count": 29,
      "id": "317dc8fb",
      "metadata": {
        "colab": {
          "base_uri": "https://localhost:8080/"
        },
        "id": "317dc8fb",
        "outputId": "a659411a-4059-436d-c937-2d0869485c5b"
      },
      "outputs": [
        {
          "output_type": "execute_result",
          "data": {
            "text/plain": [
              "array([0.7879535 , 0.76814658, 0.77554616, 0.77589852, 0.77730796])"
            ]
          },
          "metadata": {},
          "execution_count": 29
        }
      ],
      "source": [
        "kfold = KFold(n_splits=5, random_state=42, shuffle=True)\n",
        "rf_cv = cross_val_score(rf, X_train, y_train, cv=kfold, scoring='accuracy')\n",
        "rf_cv"
      ]
    },
    {
      "cell_type": "code",
      "execution_count": 30,
      "id": "20fe62b4",
      "metadata": {
        "colab": {
          "base_uri": "https://localhost:8080/"
        },
        "id": "20fe62b4",
        "outputId": "240576ed-5bd0-4a27-f24b-8d9f1458be04"
      },
      "outputs": [
        {
          "output_type": "stream",
          "name": "stdout",
          "text": [
            "Cross Validation Accuracy: 0.777\n"
          ]
        }
      ],
      "source": [
        "print('Cross Validation Accuracy:', round(rf_cv.mean(),3))"
      ]
    },
    {
      "cell_type": "markdown",
      "id": "f8d76c63",
      "metadata": {
        "id": "f8d76c63"
      },
      "source": [
        "### Stratified KFold Cross Validation"
      ]
    },
    {
      "cell_type": "code",
      "execution_count": 31,
      "id": "7867f5c5",
      "metadata": {
        "id": "7867f5c5"
      },
      "outputs": [],
      "source": [
        "skf=StratifiedKFold(n_splits=5, random_state=42, shuffle=True)"
      ]
    },
    {
      "cell_type": "code",
      "execution_count": 32,
      "id": "2a1ef7b0",
      "metadata": {
        "colab": {
          "base_uri": "https://localhost:8080/"
        },
        "id": "2a1ef7b0",
        "outputId": "b65a0330-854d-4fba-ffa2-4786a0d20b66"
      },
      "outputs": [
        {
          "output_type": "stream",
          "name": "stdout",
          "text": [
            "[0.7742162733356815, 0.7716701902748414, 0.7720225510923185, 0.7783650458069062, 0.7836504580690627]\n"
          ]
        }
      ],
      "source": [
        "acc=[]\n",
        "\n",
        "for train,test in skf.split(X_train,y_train):\n",
        "    Xtrain=X_train.iloc[train]\n",
        "    Xtest=X_train.iloc[test]\n",
        "    ytrain=y_train.iloc[train]\n",
        "    ytest=y_train.iloc[test]\n",
        "    rf_skf=rf.fit(Xtrain,ytrain)\n",
        "    y_pred=rf_skf.predict(Xtest)\n",
        "    result=accuracy_score(ytest,y_pred)\n",
        "    acc.append(result)\n",
        "\n",
        "print(acc)"
      ]
    },
    {
      "cell_type": "code",
      "execution_count": 33,
      "id": "be2a4d88",
      "metadata": {
        "colab": {
          "base_uri": "https://localhost:8080/"
        },
        "id": "be2a4d88",
        "outputId": "b590afc9-f030-4b1c-e24f-5179c647463f"
      },
      "outputs": [
        {
          "output_type": "stream",
          "name": "stdout",
          "text": [
            "Stratified KFold Accuracy: 0.776\n"
          ]
        }
      ],
      "source": [
        "print('Stratified KFold Accuracy:', round(np.asarray(acc).mean(),3))"
      ]
    },
    {
      "cell_type": "markdown",
      "id": "e4e52a99",
      "metadata": {
        "id": "e4e52a99"
      },
      "source": [
        "### Using Shufflesplit"
      ]
    },
    {
      "cell_type": "code",
      "execution_count": 34,
      "id": "31ac25e5",
      "metadata": {
        "id": "31ac25e5"
      },
      "outputs": [],
      "source": [
        "cv=ShuffleSplit(n_splits=5, test_size=0.20, random_state=42)"
      ]
    },
    {
      "cell_type": "code",
      "execution_count": 35,
      "id": "053a3952",
      "metadata": {
        "colab": {
          "base_uri": "https://localhost:8080/"
        },
        "id": "053a3952",
        "outputId": "93b0da46-2d26-4a05-d0d4-c11d133ee133"
      },
      "outputs": [
        {
          "output_type": "execute_result",
          "data": {
            "text/plain": [
              "array([0.78724903, 0.77034167, 0.77879535, 0.77210285, 0.78266995])"
            ]
          },
          "metadata": {},
          "execution_count": 35
        }
      ],
      "source": [
        "rf_cv_shuffle=cross_val_score(rf, X_train, y_train, cv=cv, n_jobs=-1, scoring='accuracy')\n",
        "rf_cv_shuffle"
      ]
    },
    {
      "cell_type": "code",
      "execution_count": 36,
      "id": "9efd491f",
      "metadata": {
        "colab": {
          "base_uri": "https://localhost:8080/"
        },
        "id": "9efd491f",
        "outputId": "50f259d0-b067-450f-cb23-14e2393a6c30"
      },
      "outputs": [
        {
          "output_type": "stream",
          "name": "stdout",
          "text": [
            "ShuffleSplit Accuracy: 0.778\n"
          ]
        }
      ],
      "source": [
        "print('ShuffleSplit Accuracy:', round(np.asarray(rf_cv_shuffle).mean(),3))"
      ]
    },
    {
      "cell_type": "markdown",
      "id": "63e5e194",
      "metadata": {
        "id": "63e5e194"
      },
      "source": [
        "### RandomizedSearch CV"
      ]
    },
    {
      "cell_type": "code",
      "execution_count": 37,
      "id": "3cc231fb",
      "metadata": {
        "id": "3cc231fb"
      },
      "outputs": [],
      "source": [
        "random_grid={'n_estimators': [int(x) for x in np.linspace(50,1000,10)],\n",
        "             'criterion':['gini','entropy'],\n",
        "             'max_features':['sqrt','log2'],\n",
        "             'max_depth':[int(x) for x in np.linspace(5,100,10)],\n",
        "             'min_samples_split':[2,5,10,20,50],\n",
        "             'min_samples_leaf':[1,5,10,20],\n",
        "             'bootstrap':[True,False]}"
      ]
    },
    {
      "cell_type": "code",
      "execution_count": 38,
      "id": "1a885776",
      "metadata": {
        "id": "1a885776"
      },
      "outputs": [],
      "source": [
        "rf_randomCV=RandomizedSearchCV(estimator=rf, param_distributions=random_grid, n_iter=50, scoring='accuracy', cv=5, n_jobs=-1, verbose=2)"
      ]
    },
    {
      "cell_type": "code",
      "execution_count": 39,
      "id": "2e88b163",
      "metadata": {
        "colab": {
          "base_uri": "https://localhost:8080/"
        },
        "id": "2e88b163",
        "outputId": "dcb5c987-22c1-4088-a2fb-88c0fbb0f46d"
      },
      "outputs": [
        {
          "output_type": "stream",
          "name": "stdout",
          "text": [
            "Fitting 5 folds for each of 50 candidates, totalling 250 fits\n"
          ]
        },
        {
          "output_type": "stream",
          "name": "stderr",
          "text": [
            "/usr/local/lib/python3.8/dist-packages/joblib/externals/loky/process_executor.py:700: UserWarning: A worker stopped while some jobs were given to the executor. This can be caused by a too short worker timeout or by a memory leak.\n",
            "  warnings.warn(\n"
          ]
        },
        {
          "output_type": "execute_result",
          "data": {
            "text/plain": [
              "RandomizedSearchCV(cv=5, estimator=RandomForestClassifier(random_state=42),\n",
              "                   n_iter=50, n_jobs=-1,\n",
              "                   param_distributions={'bootstrap': [True, False],\n",
              "                                        'criterion': ['gini', 'entropy'],\n",
              "                                        'max_depth': [5, 15, 26, 36, 47, 57, 68,\n",
              "                                                      78, 89, 100],\n",
              "                                        'max_features': ['sqrt', 'log2'],\n",
              "                                        'min_samples_leaf': [1, 5, 10, 20],\n",
              "                                        'min_samples_split': [2, 5, 10, 20, 50],\n",
              "                                        'n_estimators': [50, 155, 261, 366, 472,\n",
              "                                                         577, 683, 788, 894,\n",
              "                                                         1000]},\n",
              "                   scoring='accuracy', verbose=2)"
            ]
          },
          "metadata": {},
          "execution_count": 39
        }
      ],
      "source": [
        "rf_randomCV.fit(X_train,y_train)"
      ]
    },
    {
      "cell_type": "code",
      "execution_count": 40,
      "id": "d76d94d4",
      "metadata": {
        "colab": {
          "base_uri": "https://localhost:8080/"
        },
        "id": "d76d94d4",
        "outputId": "8ada14d9-51ee-4c04-aa15-d5ff696b0225"
      },
      "outputs": [
        {
          "output_type": "execute_result",
          "data": {
            "text/plain": [
              "{'n_estimators': 894,\n",
              " 'min_samples_split': 20,\n",
              " 'min_samples_leaf': 1,\n",
              " 'max_features': 'log2',\n",
              " 'max_depth': 68,\n",
              " 'criterion': 'entropy',\n",
              " 'bootstrap': False}"
            ]
          },
          "metadata": {},
          "execution_count": 40
        }
      ],
      "source": [
        "rf_randomCV.best_params_"
      ]
    },
    {
      "cell_type": "code",
      "source": [
        "rf_randomCV.best_score_"
      ],
      "metadata": {
        "colab": {
          "base_uri": "https://localhost:8080/"
        },
        "id": "EwR66NTgZPj4",
        "outputId": "175640e7-648d-440c-c378-0a09ad9b917a"
      },
      "id": "EwR66NTgZPj4",
      "execution_count": 57,
      "outputs": [
        {
          "output_type": "execute_result",
          "data": {
            "text/plain": [
              "0.7816219817546848"
            ]
          },
          "metadata": {},
          "execution_count": 57
        }
      ]
    },
    {
      "cell_type": "code",
      "source": [
        "best_random=rf_randomCV.best_estimator_\n",
        "best_score=best_random.score(X_test,y_test)\n",
        "best_score"
      ],
      "metadata": {
        "colab": {
          "base_uri": "https://localhost:8080/"
        },
        "id": "i6RzSdmIwvOU",
        "outputId": "c8f72d68-171d-4f40-93e1-d34321ad7a30"
      },
      "id": "i6RzSdmIwvOU",
      "execution_count": 49,
      "outputs": [
        {
          "output_type": "execute_result",
          "data": {
            "text/plain": [
              "0.7883314543404735"
            ]
          },
          "metadata": {},
          "execution_count": 49
        }
      ]
    },
    {
      "cell_type": "markdown",
      "metadata": {
        "id": "cRAT78l6Tezw"
      },
      "source": [
        "### GridSearch CV"
      ],
      "id": "cRAT78l6Tezw"
    },
    {
      "cell_type": "code",
      "source": [
        "param_grid={'n_estimators': [700,800,900,100],\n",
        "             'criterion':['entropy'],\n",
        "             'max_features':['log2'],\n",
        "             'max_depth':[50,60,70,80],\n",
        "             'min_samples_split':[10,20,30],\n",
        "             'min_samples_leaf':[1,5,7],\n",
        "             'bootstrap':[False]}"
      ],
      "metadata": {
        "id": "SsAOG61_bkif"
      },
      "id": "SsAOG61_bkif",
      "execution_count": 50,
      "outputs": []
    },
    {
      "cell_type": "code",
      "source": [
        "rf_gridCV=GridSearchCV(estimator=rf, param_grid=param_grid, scoring='accuracy', cv=5, n_jobs=-1, verbose=2)"
      ],
      "metadata": {
        "id": "56WpWgiRcXkP"
      },
      "id": "56WpWgiRcXkP",
      "execution_count": 51,
      "outputs": []
    },
    {
      "cell_type": "code",
      "source": [
        "rf_gridCV.fit(X_train,y_train)"
      ],
      "metadata": {
        "colab": {
          "base_uri": "https://localhost:8080/"
        },
        "id": "0qpOaAUWcl9A",
        "outputId": "bf54a2b9-f1d6-420b-b4ff-2e5d96cdd811"
      },
      "id": "0qpOaAUWcl9A",
      "execution_count": 52,
      "outputs": [
        {
          "output_type": "stream",
          "name": "stdout",
          "text": [
            "Fitting 5 folds for each of 144 candidates, totalling 720 fits\n"
          ]
        },
        {
          "output_type": "stream",
          "name": "stderr",
          "text": [
            "/usr/local/lib/python3.8/dist-packages/joblib/externals/loky/process_executor.py:700: UserWarning: A worker stopped while some jobs were given to the executor. This can be caused by a too short worker timeout or by a memory leak.\n",
            "  warnings.warn(\n"
          ]
        },
        {
          "output_type": "execute_result",
          "data": {
            "text/plain": [
              "GridSearchCV(cv=5, estimator=RandomForestClassifier(random_state=42), n_jobs=-1,\n",
              "             param_grid={'bootstrap': [False], 'criterion': ['entropy'],\n",
              "                         'max_depth': [50, 60, 70, 80],\n",
              "                         'max_features': ['log2'],\n",
              "                         'min_samples_leaf': [1, 5, 7],\n",
              "                         'min_samples_split': [10, 20, 30],\n",
              "                         'n_estimators': [700, 800, 900, 100]},\n",
              "             scoring='accuracy', verbose=2)"
            ]
          },
          "metadata": {},
          "execution_count": 52
        }
      ]
    },
    {
      "cell_type": "code",
      "source": [
        "rf_gridCV.best_params_"
      ],
      "metadata": {
        "colab": {
          "base_uri": "https://localhost:8080/"
        },
        "id": "2kCKAhm8VYrV",
        "outputId": "c0684b83-97b7-4115-ba15-5260836c6321"
      },
      "id": "2kCKAhm8VYrV",
      "execution_count": 56,
      "outputs": [
        {
          "output_type": "execute_result",
          "data": {
            "text/plain": [
              "{'bootstrap': False,\n",
              " 'criterion': 'entropy',\n",
              " 'max_depth': 70,\n",
              " 'max_features': 'log2',\n",
              " 'min_samples_leaf': 1,\n",
              " 'min_samples_split': 20,\n",
              " 'n_estimators': 900}"
            ]
          },
          "metadata": {},
          "execution_count": 56
        }
      ]
    },
    {
      "cell_type": "code",
      "source": [
        "rf_gridCV.best_score_"
      ],
      "metadata": {
        "colab": {
          "base_uri": "https://localhost:8080/"
        },
        "id": "0L3nxoNZZX_U",
        "outputId": "bf4cd770-9a37-42d1-8dc6-3c82538202e9"
      },
      "id": "0L3nxoNZZX_U",
      "execution_count": 58,
      "outputs": [
        {
          "output_type": "execute_result",
          "data": {
            "text/plain": [
              "0.7814811615421067"
            ]
          },
          "metadata": {},
          "execution_count": 58
        }
      ]
    },
    {
      "cell_type": "code",
      "source": [
        "best_grid=rf_gridCV.best_estimator_\n",
        "best_grid_score=best_grid.score(X_test,y_test)\n",
        "best_grid_score"
      ],
      "metadata": {
        "id": "Q0Oeqefbcx1A",
        "colab": {
          "base_uri": "https://localhost:8080/"
        },
        "outputId": "d76d4af0-9f18-4b3c-dcfc-ac803e45483d"
      },
      "id": "Q0Oeqefbcx1A",
      "execution_count": 59,
      "outputs": [
        {
          "output_type": "execute_result",
          "data": {
            "text/plain": [
              "0.7891770011273957"
            ]
          },
          "metadata": {},
          "execution_count": 59
        }
      ]
    },
    {
      "cell_type": "code",
      "source": [
        "import pickle\n",
        "\n",
        "with open('rf_model_erk2_binary.pkl', 'wb') as f:\n",
        "  pickle.dump(best_grid, f)"
      ],
      "metadata": {
        "id": "RWZxqINdPFY6"
      },
      "id": "RWZxqINdPFY6",
      "execution_count": 55,
      "outputs": []
    },
    {
      "cell_type": "markdown",
      "source": [
        "### Score Comparsion\n",
        "\n",
        "\n",
        "\n"
      ],
      "metadata": {
        "id": "o3iJtBUvWFaM"
      },
      "id": "o3iJtBUvWFaM"
    },
    {
      "cell_type": "code",
      "source": [
        "result=pd.DataFrame({'Model':['RandomForest', 'KFoldCV', 'StratifiedKFold', 'RandomizedSearchCV', 'GridSearchCV'],\n",
        "                     'Accuracy':[0.786, 0.777, 0.776, 0.782, 0.781]})\n",
        "result"
      ],
      "metadata": {
        "colab": {
          "base_uri": "https://localhost:8080/",
          "height": 206
        },
        "id": "2lJ6K91BWNdK",
        "outputId": "a81ee20a-1bd1-4e1b-94e7-a57be3dc643f"
      },
      "id": "2lJ6K91BWNdK",
      "execution_count": 61,
      "outputs": [
        {
          "output_type": "execute_result",
          "data": {
            "text/plain": [
              "                Model  Accuracy\n",
              "0        RandomForest     0.786\n",
              "1             KFoldCV     0.777\n",
              "2     StratifiedKFold     0.776\n",
              "3  RandomizedSearchCV     0.782\n",
              "4        GridSearchCV     0.781"
            ],
            "text/html": [
              "\n",
              "  <div id=\"df-e29e2e3a-6c96-475b-8cb9-8368fbba58a2\">\n",
              "    <div class=\"colab-df-container\">\n",
              "      <div>\n",
              "<style scoped>\n",
              "    .dataframe tbody tr th:only-of-type {\n",
              "        vertical-align: middle;\n",
              "    }\n",
              "\n",
              "    .dataframe tbody tr th {\n",
              "        vertical-align: top;\n",
              "    }\n",
              "\n",
              "    .dataframe thead th {\n",
              "        text-align: right;\n",
              "    }\n",
              "</style>\n",
              "<table border=\"1\" class=\"dataframe\">\n",
              "  <thead>\n",
              "    <tr style=\"text-align: right;\">\n",
              "      <th></th>\n",
              "      <th>Model</th>\n",
              "      <th>Accuracy</th>\n",
              "    </tr>\n",
              "  </thead>\n",
              "  <tbody>\n",
              "    <tr>\n",
              "      <th>0</th>\n",
              "      <td>RandomForest</td>\n",
              "      <td>0.786</td>\n",
              "    </tr>\n",
              "    <tr>\n",
              "      <th>1</th>\n",
              "      <td>KFoldCV</td>\n",
              "      <td>0.777</td>\n",
              "    </tr>\n",
              "    <tr>\n",
              "      <th>2</th>\n",
              "      <td>StratifiedKFold</td>\n",
              "      <td>0.776</td>\n",
              "    </tr>\n",
              "    <tr>\n",
              "      <th>3</th>\n",
              "      <td>RandomizedSearchCV</td>\n",
              "      <td>0.782</td>\n",
              "    </tr>\n",
              "    <tr>\n",
              "      <th>4</th>\n",
              "      <td>GridSearchCV</td>\n",
              "      <td>0.781</td>\n",
              "    </tr>\n",
              "  </tbody>\n",
              "</table>\n",
              "</div>\n",
              "      <button class=\"colab-df-convert\" onclick=\"convertToInteractive('df-e29e2e3a-6c96-475b-8cb9-8368fbba58a2')\"\n",
              "              title=\"Convert this dataframe to an interactive table.\"\n",
              "              style=\"display:none;\">\n",
              "        \n",
              "  <svg xmlns=\"http://www.w3.org/2000/svg\" height=\"24px\"viewBox=\"0 0 24 24\"\n",
              "       width=\"24px\">\n",
              "    <path d=\"M0 0h24v24H0V0z\" fill=\"none\"/>\n",
              "    <path d=\"M18.56 5.44l.94 2.06.94-2.06 2.06-.94-2.06-.94-.94-2.06-.94 2.06-2.06.94zm-11 1L8.5 8.5l.94-2.06 2.06-.94-2.06-.94L8.5 2.5l-.94 2.06-2.06.94zm10 10l.94 2.06.94-2.06 2.06-.94-2.06-.94-.94-2.06-.94 2.06-2.06.94z\"/><path d=\"M17.41 7.96l-1.37-1.37c-.4-.4-.92-.59-1.43-.59-.52 0-1.04.2-1.43.59L10.3 9.45l-7.72 7.72c-.78.78-.78 2.05 0 2.83L4 21.41c.39.39.9.59 1.41.59.51 0 1.02-.2 1.41-.59l7.78-7.78 2.81-2.81c.8-.78.8-2.07 0-2.86zM5.41 20L4 18.59l7.72-7.72 1.47 1.35L5.41 20z\"/>\n",
              "  </svg>\n",
              "      </button>\n",
              "      \n",
              "  <style>\n",
              "    .colab-df-container {\n",
              "      display:flex;\n",
              "      flex-wrap:wrap;\n",
              "      gap: 12px;\n",
              "    }\n",
              "\n",
              "    .colab-df-convert {\n",
              "      background-color: #E8F0FE;\n",
              "      border: none;\n",
              "      border-radius: 50%;\n",
              "      cursor: pointer;\n",
              "      display: none;\n",
              "      fill: #1967D2;\n",
              "      height: 32px;\n",
              "      padding: 0 0 0 0;\n",
              "      width: 32px;\n",
              "    }\n",
              "\n",
              "    .colab-df-convert:hover {\n",
              "      background-color: #E2EBFA;\n",
              "      box-shadow: 0px 1px 2px rgba(60, 64, 67, 0.3), 0px 1px 3px 1px rgba(60, 64, 67, 0.15);\n",
              "      fill: #174EA6;\n",
              "    }\n",
              "\n",
              "    [theme=dark] .colab-df-convert {\n",
              "      background-color: #3B4455;\n",
              "      fill: #D2E3FC;\n",
              "    }\n",
              "\n",
              "    [theme=dark] .colab-df-convert:hover {\n",
              "      background-color: #434B5C;\n",
              "      box-shadow: 0px 1px 3px 1px rgba(0, 0, 0, 0.15);\n",
              "      filter: drop-shadow(0px 1px 2px rgba(0, 0, 0, 0.3));\n",
              "      fill: #FFFFFF;\n",
              "    }\n",
              "  </style>\n",
              "\n",
              "      <script>\n",
              "        const buttonEl =\n",
              "          document.querySelector('#df-e29e2e3a-6c96-475b-8cb9-8368fbba58a2 button.colab-df-convert');\n",
              "        buttonEl.style.display =\n",
              "          google.colab.kernel.accessAllowed ? 'block' : 'none';\n",
              "\n",
              "        async function convertToInteractive(key) {\n",
              "          const element = document.querySelector('#df-e29e2e3a-6c96-475b-8cb9-8368fbba58a2');\n",
              "          const dataTable =\n",
              "            await google.colab.kernel.invokeFunction('convertToInteractive',\n",
              "                                                     [key], {});\n",
              "          if (!dataTable) return;\n",
              "\n",
              "          const docLinkHtml = 'Like what you see? Visit the ' +\n",
              "            '<a target=\"_blank\" href=https://colab.research.google.com/notebooks/data_table.ipynb>data table notebook</a>'\n",
              "            + ' to learn more about interactive tables.';\n",
              "          element.innerHTML = '';\n",
              "          dataTable['output_type'] = 'display_data';\n",
              "          await google.colab.output.renderOutput(dataTable, element);\n",
              "          const docLink = document.createElement('div');\n",
              "          docLink.innerHTML = docLinkHtml;\n",
              "          element.appendChild(docLink);\n",
              "        }\n",
              "      </script>\n",
              "    </div>\n",
              "  </div>\n",
              "  "
            ]
          },
          "metadata": {},
          "execution_count": 61
        }
      ]
    }
  ],
  "metadata": {
    "kernelspec": {
      "display_name": "Python 3 (ipykernel)",
      "language": "python",
      "name": "python3"
    },
    "language_info": {
      "codemirror_mode": {
        "name": "ipython",
        "version": 3
      },
      "file_extension": ".py",
      "mimetype": "text/x-python",
      "name": "python",
      "nbconvert_exporter": "python",
      "pygments_lexer": "ipython3",
      "version": "3.7.12"
    },
    "colab": {
      "provenance": []
    },
    "accelerator": "GPU",
    "gpuClass": "standard"
  },
  "nbformat": 4,
  "nbformat_minor": 5
}